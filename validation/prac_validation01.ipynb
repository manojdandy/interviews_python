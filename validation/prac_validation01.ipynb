{
 "cells": [
  {
   "cell_type": "code",
   "execution_count": 2,
   "metadata": {},
   "outputs": [],
   "source": [
    "from pydantic import BaseModel,Field\n"
   ]
  },
  {
   "cell_type": "code",
   "execution_count": 3,
   "metadata": {},
   "outputs": [],
   "source": [
    "class User(BaseModel):\n",
    "    id:int = Field(description=\"int value\")\n",
    "    name:str"
   ]
  },
  {
   "cell_type": "code",
   "execution_count": 5,
   "metadata": {},
   "outputs": [
    {
     "data": {
      "text/plain": [
       "12"
      ]
     },
     "execution_count": 5,
     "metadata": {},
     "output_type": "execute_result"
    }
   ],
   "source": [
    "user = User(id=\"12\",name=\"3\")\n",
    "user.id\n"
   ]
  },
  {
   "cell_type": "code",
   "execution_count": 7,
   "metadata": {},
   "outputs": [
    {
     "data": {
      "text/plain": [
       "{'messages': [HumanMessage(content='what is the weather in sf', additional_kwargs={}, response_metadata={}, id='512ad513-e38e-4cb3-bc8c-1abca29b4132'),\n",
       "  AIMessage(content='', additional_kwargs={'tool_calls': [{'id': 'call_7tr5', 'function': {'arguments': '{\"query\": \"weather in sf\"}', 'name': 'search'}, 'type': 'function'}]}, response_metadata={'token_usage': {'completion_tokens': 148, 'prompt_tokens': 152, 'total_tokens': 300, 'completion_time': 0.359430309, 'prompt_time': 0.009884614, 'queue_time': 0.23658449599999998, 'total_time': 0.369314923}, 'model_name': 'qwen-qwq-32b', 'system_fingerprint': 'fp_3796682456', 'finish_reason': 'tool_calls', 'logprobs': None}, id='run-99d7104e-6d7a-43fe-80f1-5b76be86eb97-0', tool_calls=[{'name': 'search', 'args': {'query': 'weather in sf'}, 'id': 'call_7tr5', 'type': 'tool_call'}], usage_metadata={'input_tokens': 152, 'output_tokens': 148, 'total_tokens': 300}),\n",
       "  ToolMessage(content=\"It's 60 degrees and foggy.\", name='search', id='23eac874-1480-4340-b456-9f81963aadfa', tool_call_id='call_7tr5'),\n",
       "  AIMessage(content=\"The current weather in San Francisco is 60 degrees and foggy. Don't forget to bring a jacket and be cautious of the fog if you're planning to go out!\", additional_kwargs={}, response_metadata={'token_usage': {'completion_tokens': 277, 'prompt_tokens': 202, 'total_tokens': 479, 'completion_time': 0.672403279, 'prompt_time': 0.014902376, 'queue_time': 0.402540465, 'total_time': 0.687305655}, 'model_name': 'qwen-qwq-32b', 'system_fingerprint': 'fp_512a3da6bb', 'finish_reason': 'stop', 'logprobs': None}, id='run-1d76096f-be61-4eee-bcb0-b7359ade09c7-0', usage_metadata={'input_tokens': 202, 'output_tokens': 277, 'total_tokens': 479})]}"
      ]
     },
     "execution_count": 7,
     "metadata": {},
     "output_type": "execute_result"
    }
   ],
   "source": [
    "# This code depends on pip install langchain[anthropic]\n",
    "from langgraph.prebuilt import create_react_agent\n",
    "from langchain_groq import ChatGroq\n",
    "from dotenv import load_dotenv\n",
    "load_dotenv()\n",
    "llm = ChatGroq(model=\"qwen-qwq-32b\")\n",
    "\n",
    "def search(query: str):\n",
    "    \"\"\"Call to surf the web.\"\"\"\n",
    "    if \"sf\" in query.lower() or \"san francisco\" in query.lower():\n",
    "        return \"It's 60 degrees and foggy.\"\n",
    "    return \"It's 90 degrees and sunny.\"\n",
    "\n",
    "agent = create_react_agent(model=llm, tools=[search])\n",
    "agent.invoke(\n",
    "    {\"messages\": [{\"role\": \"user\", \"content\": \"what is the weather in sf\"}]}\n",
    ")"
   ]
  },
  {
   "cell_type": "code",
   "execution_count": null,
   "metadata": {},
   "outputs": [],
   "source": []
  }
 ],
 "metadata": {
  "kernelspec": {
   "display_name": "Python 3",
   "language": "python",
   "name": "python3"
  },
  "language_info": {
   "codemirror_mode": {
    "name": "ipython",
    "version": 3
   },
   "file_extension": ".py",
   "mimetype": "text/x-python",
   "name": "python",
   "nbconvert_exporter": "python",
   "pygments_lexer": "ipython3",
   "version": "3.12.0"
  }
 },
 "nbformat": 4,
 "nbformat_minor": 2
}
