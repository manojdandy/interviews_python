{
 "cells": [
  {
   "cell_type": "code",
   "execution_count": 19,
   "id": "8dd3e7e2",
   "metadata": {},
   "outputs": [
    {
     "data": {
      "text/plain": [
       "0"
      ]
     },
     "execution_count": 19,
     "metadata": {},
     "output_type": "execute_result"
    }
   ],
   "source": [
    "s = \"hello\"\n",
    "ord('a') - ord('a')\n"
   ]
  },
  {
   "cell_type": "code",
   "execution_count": 25,
   "id": "aae61076",
   "metadata": {},
   "outputs": [],
   "source": [
    "def anagram(s:str,t:str) -> bool:\n",
    "    n = len(s)\n",
    "    if len(s) != len(t):\n",
    "        return False \n",
    "    arr = [0]*26\n",
    "    for i in range(n):\n",
    "        arr[ord(s[i]) - ord('a')] += 1\n",
    "        arr[ord(t[i]) - ord('a') ] -= 1\n",
    "    for i in range(26):\n",
    "        if arr[i] != 0:\n",
    "            return False\n",
    "    return True"
   ]
  },
  {
   "cell_type": "code",
   "execution_count": 26,
   "id": "eb73946a",
   "metadata": {},
   "outputs": [
    {
     "data": {
      "text/plain": [
       "False"
      ]
     },
     "execution_count": 26,
     "metadata": {},
     "output_type": "execute_result"
    }
   ],
   "source": [
    "anagram(\"hello\",\"lloh\")"
   ]
  },
  {
   "cell_type": "code",
   "execution_count": 1,
   "id": "24ee7801",
   "metadata": {},
   "outputs": [],
   "source": [
    "d = {\"ram\":\"hello\",\"shyam\":\"hi\"}"
   ]
  },
  {
   "cell_type": "code",
   "execution_count": 12,
   "id": "4cb53d87",
   "metadata": {},
   "outputs": [
    {
     "data": {
      "text/plain": [
       "'hello'"
      ]
     },
     "execution_count": 12,
     "metadata": {},
     "output_type": "execute_result"
    }
   ],
   "source": [
    "d['ram']"
   ]
  },
  {
   "cell_type": "code",
   "execution_count": 15,
   "id": "1cf5791c",
   "metadata": {},
   "outputs": [
    {
     "data": {
      "text/plain": [
       "{'ram': 'hello', 'shyam': 'hi', 'hi': ['hhdd']}"
      ]
     },
     "execution_count": 15,
     "metadata": {},
     "output_type": "execute_result"
    }
   ],
   "source": [
    "if 'hi' in d:\n",
    "    d['hi'].append(\"dddd\")\n",
    "else:\n",
    "    d['hi'] = [\"hhdd\"]\n",
    "\n",
    "d"
   ]
  },
  {
   "cell_type": "code",
   "execution_count": 9,
   "id": "58877e12",
   "metadata": {},
   "outputs": [
    {
     "name": "stdout",
     "output_type": "stream",
     "text": [
      "ram hello\n",
      "shyam hi\n"
     ]
    }
   ],
   "source": [
    "for k,v in d.items():\n",
    "    print(k,v)"
   ]
  },
  {
   "cell_type": "code",
   "execution_count": null,
   "id": "aed130ca",
   "metadata": {},
   "outputs": [
    {
     "name": "stdout",
     "output_type": "stream",
     "text": [
      "i :: 0, v :: ram, :: v :: hello\n",
      "dict_keys(['ram', 'shyam'])\n",
      "dict_values(['hello', 'hi'])\n",
      "i :: 1, v :: shyam, :: v :: hi\n",
      "dict_keys(['ram', 'shyam'])\n",
      "dict_values(['hello', 'hi'])\n"
     ]
    }
   ],
   "source": [
    "\n",
    "for i,k in enumerate(d):\n",
    "    print(f\"i :: {i}, v :: {k}, :: v :: {d[k]}\")\n",
    "    print(d.keys())\n",
    "    print(d.values())"
   ]
  },
  {
   "cell_type": "code",
   "execution_count": 19,
   "id": "f107ecb9",
   "metadata": {},
   "outputs": [],
   "source": [
    "from collections import defaultdict\n",
    "d = defaultdict(list)"
   ]
  },
  {
   "cell_type": "code",
   "execution_count": 20,
   "id": "afbc1de5",
   "metadata": {},
   "outputs": [
    {
     "data": {
      "text/plain": [
       "dict_values([['hhh']])"
      ]
     },
     "execution_count": 20,
     "metadata": {},
     "output_type": "execute_result"
    }
   ],
   "source": [
    "d['ram'].append(\"hhh\")\n",
    "d.values()"
   ]
  },
  {
   "cell_type": "code",
   "execution_count": 22,
   "id": "b26d2d80",
   "metadata": {},
   "outputs": [
    {
     "data": {
      "text/plain": [
       "'fdd#rr'"
      ]
     },
     "execution_count": 22,
     "metadata": {},
     "output_type": "execute_result"
    }
   ],
   "source": [
    "\"#\".join([\"fdd\",\"rr\"])"
   ]
  }
 ],
 "metadata": {
  "kernelspec": {
   "display_name": "Python 3",
   "language": "python",
   "name": "python3"
  },
  "language_info": {
   "codemirror_mode": {
    "name": "ipython",
    "version": 3
   },
   "file_extension": ".py",
   "mimetype": "text/x-python",
   "name": "python",
   "nbconvert_exporter": "python",
   "pygments_lexer": "ipython3",
   "version": "3.12.0"
  }
 },
 "nbformat": 4,
 "nbformat_minor": 5
}
