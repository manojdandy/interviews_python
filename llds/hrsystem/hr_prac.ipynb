{
 "cells": [
  {
   "cell_type": "code",
   "execution_count": 1,
   "id": "65ada6c3",
   "metadata": {},
   "outputs": [],
   "source": [
    "import asyncio\n",
    "queue = asyncio.Queue()"
   ]
  },
  {
   "cell_type": "code",
   "execution_count": 6,
   "id": "a1f2a285",
   "metadata": {},
   "outputs": [
    {
     "data": {
      "text/plain": [
       "<coroutine object Queue.put at 0x10949d000>"
      ]
     },
     "execution_count": 6,
     "metadata": {},
     "output_type": "execute_result"
    }
   ],
   "source": [
    "queue.put(\"hee\")"
   ]
  },
  {
   "cell_type": "code",
   "execution_count": null,
   "id": "a8c463fd",
   "metadata": {},
   "outputs": [
    {
     "data": {
      "text/plain": [
       "<coroutine object Queue.get at 0x10949d2a0>"
      ]
     },
     "execution_count": 7,
     "metadata": {},
     "output_type": "execute_result"
    }
   ],
   "source": [
    "queue.get"
   ]
  },
  {
   "cell_type": "code",
   "execution_count": 1,
   "id": "64af8f5a",
   "metadata": {},
   "outputs": [],
   "source": [
    "l = (2,3)"
   ]
  },
  {
   "cell_type": "code",
   "execution_count": 2,
   "id": "34fbcd49",
   "metadata": {},
   "outputs": [
    {
     "data": {
      "text/plain": [
       "2"
      ]
     },
     "execution_count": 2,
     "metadata": {},
     "output_type": "execute_result"
    }
   ],
   "source": [
    "l[0]"
   ]
  },
  {
   "cell_type": "code",
   "execution_count": 6,
   "id": "1b268fe1",
   "metadata": {},
   "outputs": [
    {
     "name": "stdout",
     "output_type": "stream",
     "text": [
      "[4, 2, 3, 1, 5]\n"
     ]
    }
   ],
   "source": [
    "nums = [1,2,3,4,5]\n",
    "swap(nums,0,3)\n",
    "print(nums)"
   ]
  },
  {
   "cell_type": "code",
   "execution_count": 4,
   "id": "4b12bbb8",
   "metadata": {},
   "outputs": [],
   "source": [
    "def swap(nums,i,j):\n",
    "    temp = nums[i]\n",
    "    nums[i] = nums[j]\n",
    "    nums[j] = temp"
   ]
  },
  {
   "cell_type": "code",
   "execution_count": 1,
   "id": "9a7e3af1",
   "metadata": {},
   "outputs": [],
   "source": [
    "nums = [1,2,3]"
   ]
  },
  {
   "cell_type": "code",
   "execution_count": 4,
   "id": "cd8b7e67",
   "metadata": {},
   "outputs": [
    {
     "name": "stdout",
     "output_type": "stream",
     "text": [
      "2\n",
      "3\n"
     ]
    }
   ],
   "source": [
    "for i in range(1,len(nums)):\n",
    "    print(nums[i])"
   ]
  },
  {
   "cell_type": "code",
   "execution_count": 1,
   "id": "68682c4f",
   "metadata": {},
   "outputs": [],
   "source": [
    "from heapq import heapify"
   ]
  },
  {
   "cell_type": "code",
   "execution_count": 21,
   "id": "470e9634",
   "metadata": {},
   "outputs": [],
   "source": [
    "class Book:\n",
    "    def __init__(self,name:str,rating:int):\n",
    "        self.name = name\n",
    "        self.rating = rating\n",
    "\n",
    "    def __lt__(self,other):\n",
    "        return self.rating - other.rating\n",
    "    def __str__(self):\n",
    "        return f\"name : {self.name}, rating : {self.rating}\"\n",
    "    def __repr__(self):\n",
    "        return self.__str__()"
   ]
  },
  {
   "cell_type": "code",
   "execution_count": 22,
   "id": "9279a675",
   "metadata": {},
   "outputs": [
    {
     "data": {
      "text/plain": [
       "name : booka, rating : 5"
      ]
     },
     "execution_count": 22,
     "metadata": {},
     "output_type": "execute_result"
    }
   ],
   "source": [
    "Book(\"booka\",5)"
   ]
  },
  {
   "cell_type": "code",
   "execution_count": 28,
   "id": "f726b3bb",
   "metadata": {},
   "outputs": [],
   "source": [
    "books = [\n",
    "    Book(\"booka\",5),\n",
    "     Book(\"bookb\",5),\n",
    "      Book(\"aaa\",5),\n",
    "      Book(\"aaa\",10)\n",
    "]"
   ]
  },
  {
   "cell_type": "code",
   "execution_count": 24,
   "id": "5292ae70",
   "metadata": {},
   "outputs": [
    {
     "name": "stdout",
     "output_type": "stream",
     "text": [
      "[name : booka, rating : 5, name : bookb, rating : 5, name : aaa, rating : 5]\n"
     ]
    }
   ],
   "source": [
    "print(books)"
   ]
  },
  {
   "cell_type": "code",
   "execution_count": null,
   "id": "cb5ce577",
   "metadata": {},
   "outputs": [],
   "source": []
  },
  {
   "cell_type": "code",
   "execution_count": 25,
   "id": "0c0e3172",
   "metadata": {},
   "outputs": [],
   "source": [
    "heapify(books)"
   ]
  },
  {
   "cell_type": "code",
   "execution_count": 26,
   "id": "88960aa0",
   "metadata": {},
   "outputs": [
    {
     "name": "stdout",
     "output_type": "stream",
     "text": [
      "[name : aaa, rating : 5, name : bookb, rating : 5, name : booka, rating : 5]\n"
     ]
    }
   ],
   "source": [
    "print(books)"
   ]
  },
  {
   "cell_type": "code",
   "execution_count": 31,
   "id": "4571e27f",
   "metadata": {},
   "outputs": [
    {
     "data": {
      "text/plain": [
       "[name : aaa, rating : 10,\n",
       " name : aaa, rating : 5,\n",
       " name : booka, rating : 5,\n",
       " name : bookb, rating : 5]"
      ]
     },
     "execution_count": 31,
     "metadata": {},
     "output_type": "execute_result"
    }
   ],
   "source": [
    "sorted(books,key=lambda b:(-b.rating,b.name))"
   ]
  }
 ],
 "metadata": {
  "kernelspec": {
   "display_name": "Python 3",
   "language": "python",
   "name": "python3"
  },
  "language_info": {
   "codemirror_mode": {
    "name": "ipython",
    "version": 3
   },
   "file_extension": ".py",
   "mimetype": "text/x-python",
   "name": "python",
   "nbconvert_exporter": "python",
   "pygments_lexer": "ipython3",
   "version": "3.12.0"
  }
 },
 "nbformat": 4,
 "nbformat_minor": 5
}
