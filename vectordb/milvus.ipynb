{
 "cells": [
  {
   "cell_type": "code",
   "execution_count": 1,
   "metadata": {},
   "outputs": [],
   "source": [
    "from pymilvus import MilvusClient\n",
    "client = MilvusClient(\"milvus_demo.db\")\n",
    "client.create_collection(\n",
    "  collection_name=\"demo_collection\",\n",
    "  dimension=5\n",
    ")"
   ]
  },
  {
   "cell_type": "code",
   "execution_count": 2,
   "metadata": {},
   "outputs": [
    {
     "data": {
      "text/plain": [
       "<pymilvus.milvus_client.milvus_client.MilvusClient at 0x11bc03cb0>"
      ]
     },
     "execution_count": 2,
     "metadata": {},
     "output_type": "execute_result"
    }
   ],
   "source": [
    "client"
   ]
  },
  {
   "cell_type": "code",
   "execution_count": 3,
   "metadata": {},
   "outputs": [],
   "source": [
    "res = client.insert(\n",
    "  collection_name=\"demo_collection\",\n",
    "  data=[\n",
    "    {\"id\": 0, \"vector\": [0.1, 0.2, 0.3, 0.2, 0.1], \"text\": \"AI was proposed in 1956.\", \"subject\": \"history\"},\n",
    "    {\"id\": 1, \"vector\": [0.1, 0.2, 0.3, 0.2, 0.1], \"text\": \"Alan Turing was born in London.\", \"subject\": \"history\"},\n",
    "    {\"id\": 2, \"vector\": [0.1, 0.2, 0.3, 0.2, 0.1], \"text\": \"Computational synthesis with AI algorithms predicts molecular properties.\", \"subject\": \"biology\"},\n",
    "  ]\n",
    ")"
   ]
  },
  {
   "cell_type": "code",
   "execution_count": 7,
   "metadata": {},
   "outputs": [],
   "source": [
    "res = client.search(\n",
    "  collection_name=\"demo_collection\",\n",
    "  data=[[0.1, 0.2, 0.3, 0.2, 0.1]],\n",
    "  filter=\"subject == 'history'\",\n",
    "  limit=2,\n",
    "  output_fields=[\"text\", \"subject\"],\n",
    ")"
   ]
  },
  {
   "cell_type": "code",
   "execution_count": 8,
   "metadata": {},
   "outputs": [
    {
     "data": {
      "text/plain": [
       "data: [[{'id': 1, 'distance': 1.0, 'entity': {'text': 'Alan Turing was born in London.', 'subject': 'history'}}, {'id': 0, 'distance': 1.0, 'entity': {'text': 'AI was proposed in 1956.', 'subject': 'history'}}]]"
      ]
     },
     "execution_count": 8,
     "metadata": {},
     "output_type": "execute_result"
    }
   ],
   "source": [
    "res"
   ]
  },
  {
   "cell_type": "code",
   "execution_count": null,
   "metadata": {},
   "outputs": [],
   "source": [
    "from pymilvus import MilvusClient\n",
    "client = MilvusClient(\"milvus_demo.db\")\n",
    "client.create_collection(\n",
    "  collection_name=\"demo_collection\",\n",
    "  dimension=5\n",
    ")"
   ]
  },
  {
   "cell_type": "code",
   "execution_count": 1,
   "metadata": {},
   "outputs": [
    {
     "name": "stdout",
     "output_type": "stream",
     "text": [
      "Initializing Milvus Lite store. Data will be stored in: my_milvus_lite_data.db\n",
      "Using collection: 'LangChainLiteDemo'\n"
     ]
    },
    {
     "name": "stderr",
     "output_type": "stream",
     "text": [
      "Invalid Milvus URI: my_milvus_lite_data.db\n"
     ]
    },
    {
     "name": "stdout",
     "output_type": "stream",
     "text": [
      "An error occurred: ('Invalid Milvus URI: %s', 'my_milvus_lite_data.db')\n",
      "Ensure 'pymilvus[lite]' is installed correctly.\n",
      "\n",
      "Performing similarity search for: 'How does Milvus Lite store data?'\n",
      "An error occurred during search: name 'vector_store' is not defined\n",
      "\n",
      "Example finished.\n"
     ]
    },
    {
     "ename": "",
     "evalue": "",
     "output_type": "error",
     "traceback": [
      "\u001b[1;31mThe Kernel crashed while executing code in the current cell or a previous cell. \n",
      "\u001b[1;31mPlease review the code in the cell(s) to identify a possible cause of the failure. \n",
      "\u001b[1;31mClick <a href='https://aka.ms/vscodeJupyterKernelCrash'>here</a> for more info. \n",
      "\u001b[1;31mView Jupyter <a href='command:jupyter.viewOutput'>log</a> for further details."
     ]
    }
   ],
   "source": [
    "import os\n",
    "from langchain_core.documents import Document\n",
    "from langchain_openai import OpenAIEmbeddings # Or your preferred embeddings\n",
    "from langchain_community.vectorstores import Milvus\n",
    "\n",
    "# --- 1. Configuration ---\n",
    "\n",
    "# Define a local file to store Milvus Lite data (optional)\n",
    "# If omitted, pymilvus[lite] often uses a default file like './milvus_demo.db'\n",
    "# or a temporary location depending on the exact version and setup.\n",
    "# Specifying a file makes persistence clear.\n",
    "LOCAL_MILVUS_FILE = \"my_milvus_lite_data.db\"\n",
    "\n",
    "COLLECTION_NAME = \"LangChainLiteDemo\"\n",
    "\n",
    "# Set up your embedding model\n",
    "# Ensure OPENAI_API_KEY is set as an environment variable if using OpenAI\n",
    "embeddings = OpenAIEmbeddings()\n",
    "\n",
    "# --- 2. Sample Data ---\n",
    "docs = [\n",
    "    Document(page_content=\"Milvus Lite runs embedded in your Python application.\"),\n",
    "    Document(page_content=\"It stores data locally, without needing a separate server.\"),\n",
    "    Document(page_content=\"LangChain integrates smoothly with Milvus Lite.\"),\n",
    "    Document(page_content=\"This is great for quick prototypes and local development.\"),\n",
    "]\n",
    "\n",
    "# --- 3. Initialize Milvus Vector Store using Milvus Lite ---\n",
    "# Notice NO 'connection_args' for host/port are needed.\n",
    "# We pass the local file path using 'uri' argument within connection_args\n",
    "# Or often, just omitting connection_args works if relying on defaults.\n",
    "# For clarity and explicit persistence, using 'uri' is recommended.\n",
    "\n",
    "print(f\"Initializing Milvus Lite store. Data will be stored in: {LOCAL_MILVUS_FILE}\")\n",
    "print(f\"Using collection: '{COLLECTION_NAME}'\")\n",
    "\n",
    "try:\n",
    "    vector_store = Milvus.from_documents(\n",
    "        documents=docs,\n",
    "        embedding=embeddings,\n",
    "        collection_name=COLLECTION_NAME,\n",
    "        # Key part for Milvus Lite: Specify the local file via 'uri'\n",
    "        connection_args={\"uri\": LOCAL_MILVUS_FILE},\n",
    "        # drop_old=True # Uncomment to clear data in the file on restart (USE WITH CAUTION!)\n",
    "    )\n",
    "    print(\"Successfully initialized Milvus Lite vector store and added documents.\")\n",
    "\n",
    "except Exception as e:\n",
    "    print(f\"An error occurred: {e}\")\n",
    "    print(\"Ensure 'pymilvus[lite]' is installed correctly.\")\n",
    "    exit()\n",
    "\n",
    "# --- 4. Perform Similarity Search ---\n",
    "query = \"How does Milvus Lite store data?\"\n",
    "print(f\"\\nPerforming similarity search for: '{query}'\")\n",
    "\n",
    "try:\n",
    "    search_results = vector_store.similarity_search(query, k=2)\n",
    "\n",
    "    print(\"\\nSearch Results:\")\n",
    "    if search_results:\n",
    "        for i, doc in enumerate(search_results):\n",
    "            print(f\"{i+1}. Content: {doc.page_content}\")\n",
    "    else:\n",
    "        print(\"No results found.\")\n",
    "\n",
    "except Exception as e:\n",
    "    print(f\"An error occurred during search: {e}\")\n",
    "\n",
    "print(\"\\nExample finished.\")\n",
    "# The data persists in the 'my_milvus_lite_data.db' file (or the default location)\n",
    "# Running the script again (without drop_old=True) will load the existing data."
   ]
  },
  {
   "cell_type": "code",
   "execution_count": null,
   "metadata": {},
   "outputs": [],
   "source": []
  }
 ],
 "metadata": {
  "kernelspec": {
   "display_name": "Python 3",
   "language": "python",
   "name": "python3"
  },
  "language_info": {
   "codemirror_mode": {
    "name": "ipython",
    "version": 3
   },
   "file_extension": ".py",
   "mimetype": "text/x-python",
   "name": "python",
   "nbconvert_exporter": "python",
   "pygments_lexer": "ipython3",
   "version": "3.12.0"
  }
 },
 "nbformat": 4,
 "nbformat_minor": 2
}
