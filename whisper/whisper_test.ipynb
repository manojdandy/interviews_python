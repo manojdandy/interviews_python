{
 "cells": [
  {
   "cell_type": "code",
   "execution_count": 1,
   "metadata": {},
   "outputs": [],
   "source": [
    "import whisper\n",
    "from langgraph.graph import StateGraph, END\n",
    "from langchain_core.messages import HumanMessage\n",
    "from langchain_core.runnables import RunnableLambda"
   ]
  },
  {
   "cell_type": "code",
   "execution_count": 2,
   "metadata": {},
   "outputs": [
    {
     "ename": "AttributeError",
     "evalue": "module 'whisper' has no attribute 'load_model'",
     "output_type": "error",
     "traceback": [
      "\u001b[31m---------------------------------------------------------------------------\u001b[39m",
      "\u001b[31mAttributeError\u001b[39m                            Traceback (most recent call last)",
      "\u001b[36mCell\u001b[39m\u001b[36m \u001b[39m\u001b[32mIn[2]\u001b[39m\u001b[32m, line 2\u001b[39m\n\u001b[32m      1\u001b[39m \u001b[38;5;66;03m# Load whisper model\u001b[39;00m\n\u001b[32m----> \u001b[39m\u001b[32m2\u001b[39m model = \u001b[43mwhisper\u001b[49m\u001b[43m.\u001b[49m\u001b[43mload_model\u001b[49m(\u001b[33m\"\u001b[39m\u001b[33mbase\u001b[39m\u001b[33m\"\u001b[39m)  \u001b[38;5;66;03m# you can use \"tiny\" for faster, lower-resource\u001b[39;00m\n\u001b[32m      4\u001b[39m \u001b[38;5;66;03m# Define transcription step\u001b[39;00m\n\u001b[32m      5\u001b[39m \u001b[38;5;28;01mdef\u001b[39;00m\u001b[38;5;250m \u001b[39m\u001b[34mtranscribe_audio\u001b[39m(state):\n",
      "\u001b[31mAttributeError\u001b[39m: module 'whisper' has no attribute 'load_model'"
     ]
    }
   ],
   "source": [
    "# Load whisper model\n",
    "model = whisper.load_model(\"base\")  # you can use \"tiny\" for faster, lower-resource\n",
    "\n",
    "# Define transcription step\n",
    "def transcribe_audio(state):\n",
    "    audio_path = state[\"audio_file\"]\n",
    "    result = model.transcribe(audio_path)\n",
    "    return {\"text\": result[\"text\"]}\n",
    "\n",
    "# Define graph\n",
    "graph_builder = StateGraph()\n",
    "graph_builder.add_node(\"transcribe\", RunnableLambda(transcribe_audio))\n",
    "\n",
    "graph_builder.set_entry_point(\"transcribe\")\n",
    "graph_builder.set_finish_point(\"transcribe\")\n",
    "\n",
    "graph = graph_builder.compile()\n",
    "\n",
    "# Example run\n",
    "output = graph.invoke({\"audio_file\": \"sample_audio.mp3\"})\n",
    "print(\"Transcribed Text:\", output[\"text\"])"
   ]
  }
 ],
 "metadata": {
  "kernelspec": {
   "display_name": "Python 3",
   "language": "python",
   "name": "python3"
  },
  "language_info": {
   "codemirror_mode": {
    "name": "ipython",
    "version": 3
   },
   "file_extension": ".py",
   "mimetype": "text/x-python",
   "name": "python",
   "nbconvert_exporter": "python",
   "pygments_lexer": "ipython3",
   "version": "3.12.0"
  }
 },
 "nbformat": 4,
 "nbformat_minor": 2
}
