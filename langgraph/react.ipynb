{
 "cells": [
  {
   "cell_type": "code",
   "execution_count": 131,
   "metadata": {},
   "outputs": [
    {
     "data": {
      "text/plain": [
       "True"
      ]
     },
     "execution_count": 131,
     "metadata": {},
     "output_type": "execute_result"
    }
   ],
   "source": [
    "import os\n",
    "from typing import Annotated, Sequence, TypedDict\n",
    "from dotenv import load_dotenv\n",
    "from langgraph.graph import StateGraph,START,END\n",
    "from IPython.display import display,Image\n",
    "from langchain_groq.chat_models import ChatGroq\n",
    "from langchain_core.messages import BaseMessage,ToolMessage, AIMessage,HumanMessage,FunctionMessage,SystemMessage\n",
    "from langgraph.prebuilt import ToolNode\n",
    "from langchain_core.tools import tool\n",
    "from langgraph.graph.message import add_messages\n",
    "\n",
    "load_dotenv()"
   ]
  },
  {
   "cell_type": "code",
   "execution_count": 132,
   "metadata": {},
   "outputs": [],
   "source": [
    "llm = ChatGroq(model=\"qwen-qwq-32b\")"
   ]
  },
  {
   "cell_type": "code",
   "execution_count": 133,
   "metadata": {},
   "outputs": [],
   "source": [
    "#add message is a reducer function\n",
    "class AgentState(TypedDict):\n",
    "    messages:Annotated[Sequence[BaseMessage],add_messages]\n"
   ]
  },
  {
   "cell_type": "code",
   "execution_count": 157,
   "metadata": {},
   "outputs": [],
   "source": [
    "@tool\n",
    "def add(a:int,b:int) -> int:\n",
    "    \"\"\"\n",
    "    add two given numbers\n",
    "    Args\n",
    "    a: first number\n",
    "    b: second numnber\n",
    "    \"\"\"\n",
    "    return a + b\n",
    "\n",
    "@tool\n",
    "def multiply(a:int,b:int) -> int:\n",
    "    \"\"\"\n",
    "    multiply given two numbers\n",
    "    Args\n",
    "    a: first number\n",
    "    b: second numnber\n",
    "    \"\"\"\n",
    "    return a * b"
   ]
  },
  {
   "cell_type": "code",
   "execution_count": 158,
   "metadata": {},
   "outputs": [],
   "source": [
    "tools = [add,multiply]"
   ]
  },
  {
   "cell_type": "code",
   "execution_count": 159,
   "metadata": {},
   "outputs": [],
   "source": [
    "llm_with_tools = llm.bind_tools(tools=tools,parallel_tool_calls=False)"
   ]
  },
  {
   "cell_type": "code",
   "execution_count": 160,
   "metadata": {},
   "outputs": [],
   "source": [
    "tool_node = ToolNode(tools=tools)"
   ]
  },
  {
   "cell_type": "code",
   "execution_count": 161,
   "metadata": {},
   "outputs": [],
   "source": [
    "def chat_bot(state:AgentState) -> AgentState:\n",
    "    system_prompt = SystemMessage(content=\"you are an AI assistent, answer my question on best of your knowledge\")\n",
    "    response = llm_with_tools.invoke([system_prompt] + state['messages'])\n",
    "    return {\"messages\": [response]}"
   ]
  },
  {
   "cell_type": "code",
   "execution_count": 162,
   "metadata": {},
   "outputs": [],
   "source": [
    "def should_continue(state:AgentState) -> AgentState:\n",
    "    message = state['messages']\n",
    "    last_message = message[-1]\n",
    "    print(f\"last_message :: {last_message}\")\n",
    "    if not last_message.tool_calls:\n",
    "        return \"end\"\n",
    "    else:\n",
    "        return \"continue\""
   ]
  },
  {
   "cell_type": "code",
   "execution_count": 163,
   "metadata": {},
   "outputs": [],
   "source": [
    "builder = StateGraph(AgentState)"
   ]
  },
  {
   "cell_type": "code",
   "execution_count": 164,
   "metadata": {},
   "outputs": [
    {
     "data": {
      "text/plain": [
       "<langgraph.graph.state.StateGraph at 0x10af07170>"
      ]
     },
     "execution_count": 164,
     "metadata": {},
     "output_type": "execute_result"
    }
   ],
   "source": [
    "builder.add_node(\"chatbot\",chat_bot)\n",
    "builder.add_node(\"tools\",tool_node)\n",
    "builder.add_conditional_edges(\"chatbot\",\n",
    "                              should_continue,\n",
    "                              {\n",
    "                                 \"continue\":\"tools\",\n",
    "                                 \"end\":END \n",
    "                              }\n",
    "                              )\n",
    "#builder.add_node(\"additon\",tool_nodes)\n",
    "builder.add_edge(\"tools\",\"chatbot\")\n",
    "builder.set_entry_point(\"chatbot\")\n",
    "#builder.add_edge(\"addition\",END)"
   ]
  },
  {
   "cell_type": "code",
   "execution_count": 165,
   "metadata": {},
   "outputs": [],
   "source": [
    "graph = builder.compile()"
   ]
  },
  {
   "cell_type": "code",
   "execution_count": 143,
   "metadata": {},
   "outputs": [
    {
     "data": {
      "image/png": "[encoded data removed]",
      "text/plain": [
       "<IPython.core.display.Image object>"
      ]
     },
     "execution_count": 143,
     "metadata": {},
     "output_type": "execute_result"
    }
   ],
   "source": [
    "Image(graph.get_graph().draw_mermaid_png())"
   ]
  },
  {
   "cell_type": "code",
   "execution_count": 169,
   "metadata": {},
   "outputs": [
    {
     "name": "stdout",
     "output_type": "stream",
     "text": [
      "last_message :: content='' additional_kwargs={'tool_calls': [{'id': 'call_k3k7', 'function': {'arguments': '{\"a\":40,\"b\":12}', 'name': 'add'}, 'type': 'function'}]} response_metadata={'token_usage': {'completion_tokens': 107, 'prompt_tokens': 274, 'total_tokens': 381, 'completion_time': 0.243228389, 'prompt_time': 0.020338003, 'queue_time': 2.134436203, 'total_time': 0.263566392}, 'model_name': 'qwen-qwq-32b', 'system_fingerprint': 'fp_28178d7ff6', 'finish_reason': 'tool_calls', 'logprobs': None} id='run-4e6f4630-9646-4ee4-ac47-eac1747d2896-0' tool_calls=[{'name': 'add', 'args': {'a': 40, 'b': 12}, 'id': 'call_k3k7', 'type': 'tool_call'}] usage_metadata={'input_tokens': 274, 'output_tokens': 107, 'total_tokens': 381}\n",
      "last_message :: content='The sum of 40 and 12 is **52**.' additional_kwargs={} response_metadata={'token_usage': {'completion_tokens': 107, 'prompt_tokens': 322, 'total_tokens': 429, 'completion_time': 0.264123379, 'prompt_time': 0.024963066, 'queue_time': 0.26180890300000004, 'total_time': 0.289086445}, 'model_name': 'qwen-qwq-32b', 'system_fingerprint': 'fp_1e88ca32eb', 'finish_reason': 'stop', 'logprobs': None} id='run-3780462b-8ea1-4e87-aa80-824e40882490-0' usage_metadata={'input_tokens': 322, 'output_tokens': 107, 'total_tokens': 429}\n"
     ]
    }
   ],
   "source": [
    "response = graph.invoke({\"messages\":[(\"user\",\"Add 40 and 12\")]})\n"
   ]
  },
  {
   "cell_type": "code",
   "execution_count": 170,
   "metadata": {},
   "outputs": [
    {
     "name": "stdout",
     "output_type": "stream",
     "text": [
      "================================\u001b[1m Human Message \u001b[0m=================================\n",
      "\n",
      "Add 40 and 12\n",
      "==================================\u001b[1m Ai Message \u001b[0m==================================\n",
      "Tool Calls:\n",
      "  add (call_k3k7)\n",
      " Call ID: call_k3k7\n",
      "  Args:\n",
      "    a: 40\n",
      "    b: 12\n",
      "=================================\u001b[1m Tool Message \u001b[0m=================================\n",
      "Name: add\n",
      "\n",
      "52\n",
      "==================================\u001b[1m Ai Message \u001b[0m==================================\n",
      "\n",
      "The sum of 40 and 12 is **52**.\n"
     ]
    }
   ],
   "source": [
    "for m in response['messages']:\n",
    "    m.pretty_print()"
   ]
  },
  {
   "cell_type": "code",
   "execution_count": null,
   "metadata": {},
   "outputs": [],
   "source": []
  },
  {
   "cell_type": "code",
   "execution_count": 109,
   "metadata": {},
   "outputs": [
    {
     "name": "stdout",
     "output_type": "stream",
     "text": [
      "================================\u001b[1m Human Message \u001b[0m=================================\n",
      "\n",
      "Add 40 + 12 .\n",
      "==================================\u001b[1m Ai Message \u001b[0m==================================\n",
      "Tool Calls:\n",
      "  add (call_dj9d)\n",
      " Call ID: call_dj9d\n",
      "  Args:\n",
      "    a: 40\n",
      "    b: 12\n"
     ]
    }
   ],
   "source": [
    "def print_stream(stream):\n",
    "    for s in stream:\n",
    "        message = s[\"messages\"][-1]\n",
    "        if isinstance(message, tuple):\n",
    "            print(message)\n",
    "        else:\n",
    "            message.pretty_print()\n",
    "\n",
    "inputs = {\"messages\": [(\"user\", \"Add 40 + 12 .\")]}\n",
    "print_stream(graph.stream(inputs, stream_mode=\"values\"))"
   ]
  }
 ],
 "metadata": {
  "kernelspec": {
   "display_name": "Python 3",
   "language": "python",
   "name": "python3"
  },
  "language_info": {
   "codemirror_mode": {
    "name": "ipython",
    "version": 3
   },
   "file_extension": ".py",
   "mimetype": "text/x-python",
   "name": "python",
   "nbconvert_exporter": "python",
   "pygments_lexer": "ipython3",
   "version": "3.12.0"
  }
 },
 "nbformat": 4,
 "nbformat_minor": 2
}
