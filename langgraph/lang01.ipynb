{
 "cells": [
  {
   "cell_type": "code",
   "execution_count": 24,
   "metadata": {},
   "outputs": [],
   "source": [
    "import os\n",
    "from dotenv import load_dotenv,find_dotenv\n",
    "from typing_extensions import TypedDict\n",
    "from langgraph.graph import START,StateGraph,END,add_messages\n",
    "from langchain_community.vectorstores import FAISS\n",
    "from langchain_groq.chat_models import ChatGroq\n",
    "from langchain_core.documents import Document\n",
    "from langchain_community.tools import Tool,tavily_search\n",
    "from IPython.display import Image,display"
   ]
  },
  {
   "cell_type": "code",
   "execution_count": 12,
   "metadata": {},
   "outputs": [
    {
     "data": {
      "text/plain": [
       "AIMessage(content=\"\\n<think>\\nOkay, the user is asking for the capital of India. Let me start by recalling what I know. India's capital has been New Delhi for a long time. But wait, I should make sure there haven't been any recent changes. I remember that before 1911, the capital was Kolkata, then it was shifted to Delhi. But I need to be precise here.\\n\\nWait, the user might be looking for the current capital. So yes, it's definitely New Delhi. But let me confirm the exact name. Sometimes people confuse Delhi and New Delhi. New Delhi is a part of the larger Delhi metropolitan area. The British moved the capital from Kolkata to Delhi in 1911, and New Delhi was officially inaugurated as the capital in 1931. \\n\\nAlso, I should mention that Delhi is a union territory, and the national government is based there. Are there any other capitals in India? Like state capitals, but the question is about the country's capital. No, the answer is straightforward. New Delhi is the capital. I should also note that it's the seat of all three branches of the government—executive, legislative, and judiciary. Maybe add a bit about its historical significance and some landmarks like India Gate or Parliament House. But the user might just want the name. Let me check if there's any official source that states this. Yes, the Government of India's official website and other reliable sources confirm that New Delhi is the capital. Alright, I think that's all. Just present it clearly.\\n</think>\\n\\nThe capital of India is **New Delhi**. \\n\\nHere are some key details:\\n- **Established**: In 1911 during British rule, officially inaugurated as the capital in 1931.\\n- **Status**: A union territory and the seat of India's federal government, including the Parliament, President's residence, and major administrative offices.\\n- **Significance**: Hosts iconic landmarks such as the India Gate, Red Fort, Parliament House, and the Rashtrapati Bhavan (President's House).\\n- **Historical Note**: Before 1911, Kolkata (Calcutta) was the capital of British India.\\n\\nNew Delhi is distinct from the larger National Capital Territory (NCT) of Delhi, which includes other areas like Old Delhi.\", additional_kwargs={}, response_metadata={'token_usage': {'completion_tokens': 476, 'prompt_tokens': 13, 'total_tokens': 489, 'completion_time': 1.075596495, 'prompt_time': 0.002682098, 'queue_time': 0.26983547999999996, 'total_time': 1.078278593}, 'model_name': 'qwen-qwq-32b', 'system_fingerprint': 'fp_28178d7ff6', 'finish_reason': 'stop', 'logprobs': None}, id='run-7b31a6bf-aab7-437c-bbaa-f88394efeb7f-0', usage_metadata={'input_tokens': 13, 'output_tokens': 476, 'total_tokens': 489})"
      ]
     },
     "execution_count": 12,
     "metadata": {},
     "output_type": "execute_result"
    }
   ],
   "source": [
    "llm = ChatGroq(model=\"qwen-qwq-32b\")\n",
    "llm.invoke(\"capital of india\")"
   ]
  },
  {
   "cell_type": "code",
   "execution_count": 21,
   "metadata": {},
   "outputs": [],
   "source": [
    "class State(TypedDict):\n",
    "    message:str"
   ]
  },
  {
   "cell_type": "code",
   "execution_count": 38,
   "metadata": {},
   "outputs": [],
   "source": [
    "def greeting_node(state:State) -> State:\n",
    "    \"\"\"\n",
    "        Add Greeting Message\n",
    "    \"\"\"\n",
    "    state[\"message\"] = f\"hey :: {state['message']}\"\n",
    "    return state\n"
   ]
  },
  {
   "cell_type": "code",
   "execution_count": 8,
   "metadata": {},
   "outputs": [],
   "source": [
    "def add(a:int,b:int) -> int:\n",
    "    \"\"\"\n",
    "    add a and b\n",
    "    a: first argument\n",
    "    b: second argument\n",
    "\n",
    "    \"\"\"\n",
    "    return a+b"
   ]
  },
  {
   "cell_type": "code",
   "execution_count": 39,
   "metadata": {},
   "outputs": [],
   "source": [
    "graph_builder = StateGraph(State)"
   ]
  },
  {
   "cell_type": "code",
   "execution_count": 40,
   "metadata": {},
   "outputs": [
    {
     "data": {
      "text/plain": [
       "<langgraph.graph.state.StateGraph at 0x1531f99d0>"
      ]
     },
     "execution_count": 40,
     "metadata": {},
     "output_type": "execute_result"
    }
   ],
   "source": [
    "graph_builder.add_node(\"greet\",greeting_node)\n",
    "graph_builder.set_entry_point(\"greet\")"
   ]
  },
  {
   "cell_type": "code",
   "execution_count": 41,
   "metadata": {},
   "outputs": [],
   "source": [
    "graph = graph_builder.compile()"
   ]
  },
  {
   "cell_type": "code",
   "execution_count": 34,
   "metadata": {},
   "outputs": [
    {
     "data": {
      "image/png": "[encoded data removed]",
      "text/plain": [
       "<IPython.core.display.Image object>"
      ]
     },
     "metadata": {},
     "output_type": "display_data"
    }
   ],
   "source": [
    "display(Image(graph.get_graph().draw_mermaid_png()))"
   ]
  },
  {
   "cell_type": "code",
   "execution_count": 42,
   "metadata": {},
   "outputs": [
    {
     "data": {
      "text/plain": [
       "{'message': 'hey :: hello'}"
      ]
     },
     "execution_count": 42,
     "metadata": {},
     "output_type": "execute_result"
    }
   ],
   "source": [
    "graph.invoke({\"message\":\"hello\"})"
   ]
  },
  {
   "cell_type": "code",
   "execution_count": null,
   "metadata": {},
   "outputs": [],
   "source": []
  },
  {
   "cell_type": "code",
   "execution_count": 43,
   "metadata": {},
   "outputs": [],
   "source": [
    "class AgentState(TypedDict):\n",
    "    name:str"
   ]
  },
  {
   "cell_type": "code",
   "execution_count": 45,
   "metadata": {},
   "outputs": [],
   "source": [
    "def greet_msg(state:AgentState) -> AgentState:\n",
    "    \"\"\"\n",
    "    simple message to a given name\n",
    "    \"\"\"\n",
    "    state['name'] = f\"{state['name']}, you are doing a great job !\"\n",
    "    return state"
   ]
  },
  {
   "cell_type": "code",
   "execution_count": 46,
   "metadata": {},
   "outputs": [],
   "source": [
    "builder = StateGraph(AgentState)"
   ]
  },
  {
   "cell_type": "code",
   "execution_count": 47,
   "metadata": {},
   "outputs": [
    {
     "data": {
      "text/plain": [
       "<langgraph.graph.state.StateGraph at 0x1531dcbf0>"
      ]
     },
     "execution_count": 47,
     "metadata": {},
     "output_type": "execute_result"
    }
   ],
   "source": [
    "builder.add_node(\"greeter\",greet_msg)\n",
    "builder.set_entry_point(\"greeter\")"
   ]
  },
  {
   "cell_type": "code",
   "execution_count": 48,
   "metadata": {},
   "outputs": [],
   "source": [
    "graph = builder.compile()"
   ]
  },
  {
   "cell_type": "code",
   "execution_count": 55,
   "metadata": {},
   "outputs": [
    {
     "data": {
      "image/png": "[encoded data removed]",
      "text/plain": [
       "<IPython.core.display.Image object>"
      ]
     },
     "execution_count": 55,
     "metadata": {},
     "output_type": "execute_result"
    }
   ],
   "source": [
    "Image(graph.get_graph().draw_mermaid_png())"
   ]
  },
  {
   "cell_type": "code",
   "execution_count": 49,
   "metadata": {},
   "outputs": [
    {
     "data": {
      "text/plain": [
       "{'name': 'BOB, you are doing a great job !'}"
      ]
     },
     "execution_count": 49,
     "metadata": {},
     "output_type": "execute_result"
    }
   ],
   "source": [
    "graph.invoke({\"name\":\"BOB\"})"
   ]
  },
  {
   "cell_type": "code",
   "execution_count": null,
   "metadata": {},
   "outputs": [],
   "source": []
  }
 ],
 "metadata": {
  "kernelspec": {
   "display_name": "Python 3",
   "language": "python",
   "name": "python3"
  },
  "language_info": {
   "codemirror_mode": {
    "name": "ipython",
    "version": 3
   },
   "file_extension": ".py",
   "mimetype": "text/x-python",
   "name": "python",
   "nbconvert_exporter": "python",
   "pygments_lexer": "ipython3",
   "version": "3.12.0"
  }
 },
 "nbformat": 4,
 "nbformat_minor": 2
}
