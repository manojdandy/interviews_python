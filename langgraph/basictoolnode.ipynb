{
 "cells": [
  {
   "cell_type": "code",
   "execution_count": 17,
   "metadata": {},
   "outputs": [
    {
     "data": {
      "text/plain": [
       "True"
      ]
     },
     "execution_count": 17,
     "metadata": {},
     "output_type": "execute_result"
    }
   ],
   "source": [
    "import os\n",
    "from dotenv import load_dotenv\n",
    "from langchain_groq.chat_models import ChatGroq\n",
    "from langchain_huggingface import HuggingFaceEmbeddings\n",
    "from langgraph.graph import StateGraph,START,END\n",
    "from langgraph.graph.message import add_messages\n",
    "from typing_extensions import  TypedDict\n",
    "from typing import Annotated\n",
    "from langchain_tavily import TavilySearch\n",
    "from langgraph.prebuilt import ToolNode,tools_condition\n",
    "from langgraph.checkpoint.memory import MemorySaver\n",
    "\n",
    "load_dotenv()"
   ]
  },
  {
   "cell_type": "code",
   "execution_count": 3,
   "metadata": {},
   "outputs": [
    {
     "data": {
      "text/plain": [
       "AIMessage(content=\"\\n<think>\\nOkay, the user is asking for the capital of India. Let me think, I remember that India's capital isn't Mumbai even though Mumbai is a major city. Wait, isn't it New Delhi? But sometimes people might confuse Delhi and New Delhi. Let me confirm.\\n\\nDelhi is the national capital territory, and within it is New Delhi, which is the actual capital. So the correct answer should be New Delhi. Let me check a reliable source or my existing knowledge. Yes, India's capital is New Delhi. I should also mention that it's the center of government and has historical significance. Maybe add a bit about when it became the capital. I think it was shifted from Kolkata (Calcutta) in 1911. That might be helpful context. Alright, I should phrase it clearly so there's no confusion between Delhi and New Delhi.\\n</think>\\n\\nThe capital of India is **New Delhi**. It serves as the administrative and political center of the country and is part of the larger National Capital Territory (NCT) of Delhi. New Delhi was officially designated as the capital on December 12, 1911, during the British Raj, replacing Kolkata (formerly Calcutta). It houses important government institutions, such as the Parliament of India, the Rashtrapati Bhavan (Presidential Residence), and key ministries. The city is also rich in history, culture, and landmarks like India Gate, Red Fort, and Qutub Minar.\", additional_kwargs={}, response_metadata={'token_usage': {'completion_tokens': 302, 'prompt_tokens': 13, 'total_tokens': 315, 'completion_time': 0.73576009, 'prompt_time': 0.003837678, 'queue_time': 0.365191012, 'total_time': 0.739597768}, 'model_name': 'qwen-qwq-32b', 'system_fingerprint': 'fp_3796682456', 'finish_reason': 'stop', 'logprobs': None}, id='run-6c43796a-87d0-4989-bbfe-f1e46d255271-0', usage_metadata={'input_tokens': 13, 'output_tokens': 302, 'total_tokens': 315})"
      ]
     },
     "execution_count": 3,
     "metadata": {},
     "output_type": "execute_result"
    }
   ],
   "source": [
    "llm = ChatGroq(model=\"qwen-qwq-32b\")\n",
    "llm.invoke(\"capital of india\")"
   ]
  },
  {
   "cell_type": "code",
   "execution_count": null,
   "metadata": {},
   "outputs": [],
   "source": []
  },
  {
   "cell_type": "code",
   "execution_count": 7,
   "metadata": {},
   "outputs": [],
   "source": [
    "class State(TypedDict):\n",
    "     messages:Annotated[list,add_messages]"
   ]
  },
  {
   "cell_type": "code",
   "execution_count": 8,
   "metadata": {},
   "outputs": [],
   "source": [
    "graph_builder = StateGraph(State)"
   ]
  },
  {
   "cell_type": "code",
   "execution_count": 21,
   "metadata": {},
   "outputs": [],
   "source": [
    "def chatbot(state:State):\n",
    "    return {\"messages\":llm.invoke(state[\"messages\"])}"
   ]
  },
  {
   "cell_type": "code",
   "execution_count": 11,
   "metadata": {},
   "outputs": [],
   "source": [
    "tool = TavilySearch(max_results=2)"
   ]
  },
  {
   "cell_type": "code",
   "execution_count": 12,
   "metadata": {},
   "outputs": [],
   "source": [
    "tools = [tool]"
   ]
  },
  {
   "cell_type": "code",
   "execution_count": 13,
   "metadata": {},
   "outputs": [],
   "source": [
    "llm_with_tools = llm.bind_tools(tools=tools)"
   ]
  },
  {
   "cell_type": "code",
   "execution_count": 15,
   "metadata": {},
   "outputs": [],
   "source": [
    "tool_node = ToolNode(tools=tools)"
   ]
  },
  {
   "cell_type": "code",
   "execution_count": 22,
   "metadata": {},
   "outputs": [
    {
     "data": {
      "text/plain": [
       "<langgraph.graph.state.StateGraph at 0x118f360f0>"
      ]
     },
     "execution_count": 22,
     "metadata": {},
     "output_type": "execute_result"
    }
   ],
   "source": [
    "graph_builder.add_node(\"chatbot\",chatbot)"
   ]
  },
  {
   "cell_type": "code",
   "execution_count": 16,
   "metadata": {},
   "outputs": [
    {
     "data": {
      "text/plain": [
       "<langgraph.graph.state.StateGraph at 0x118f360f0>"
      ]
     },
     "execution_count": 16,
     "metadata": {},
     "output_type": "execute_result"
    }
   ],
   "source": [
    "graph_builder.add_node(\"tools\",tool_node)"
   ]
  },
  {
   "cell_type": "code",
   "execution_count": 23,
   "metadata": {},
   "outputs": [
    {
     "data": {
      "text/plain": [
       "<langgraph.graph.state.StateGraph at 0x118f360f0>"
      ]
     },
     "execution_count": 23,
     "metadata": {},
     "output_type": "execute_result"
    }
   ],
   "source": [
    "graph_builder.add_conditional_edges(\n",
    "    \"chatbot\",\n",
    "    tools_condition\n",
    ")"
   ]
  },
  {
   "cell_type": "code",
   "execution_count": 24,
   "metadata": {},
   "outputs": [
    {
     "data": {
      "text/plain": [
       "<langgraph.graph.state.StateGraph at 0x118f360f0>"
      ]
     },
     "execution_count": 24,
     "metadata": {},
     "output_type": "execute_result"
    }
   ],
   "source": [
    "graph_builder.add_edge(\"tools\",\"chatbot\")\n",
    "graph_builder.add_edge(START,\"chatbot\")"
   ]
  },
  {
   "cell_type": "code",
   "execution_count": 26,
   "metadata": {},
   "outputs": [],
   "source": [
    "graph = graph_builder.compile()\n",
    "# memory = MemorySaver()\n",
    "# graph = graph_builder.compile(checkpointer=memory)"
   ]
  },
  {
   "cell_type": "code",
   "execution_count": 27,
   "metadata": {},
   "outputs": [
    {
     "data": {
      "image/png": "[encoded data removed]",
      "text/plain": [
       "<IPython.core.display.Image object>"
      ]
     },
     "metadata": {},
     "output_type": "display_data"
    }
   ],
   "source": [
    "from IPython.display import Image, display\n",
    "\n",
    "try:\n",
    "    display(Image(graph.get_graph().draw_mermaid_png()))\n",
    "except Exception:\n",
    "    # This requires some extra dependencies and is optional\n",
    "    pass"
   ]
  },
  {
   "cell_type": "code",
   "execution_count": 29,
   "metadata": {},
   "outputs": [
    {
     "name": "stdout",
     "output_type": "stream",
     "text": [
      "================================\u001b[1m Human Message \u001b[0m=================================\n",
      "\n",
      "I need some expert guidance for building an AI agent. Could you request assistance for me?\n",
      "==================================\u001b[1m Ai Message \u001b[0m==================================\n",
      "\n",
      "\n",
      "<think>\n",
      "Okay, the user wants to build an AI agent and needs expert guidance. Let me start by understanding what exactly they're looking for. They mentioned needing some assistance, so maybe they're at the beginning stages or stuck somewhere.\n",
      "\n",
      "First, I should break down the process into steps. Building an AI agent is a broad task, so structuring it into clear phases might help them get started. Maybe start with defining the problem and objectives. That's crucial because without knowing the goal, the rest can go off track.\n",
      "\n",
      "Next, choosing the right AI framework or library. They might be confused between TensorFlow, PyTorch, or others. I should mention the most popular ones and their use cases. Also, considering if they need reinforcement learning or something else based on their application.\n",
      "\n",
      "Then, data collection and preprocessing. Data is essential, so advising them on where to get data, how to clean it, and maybe even data augmentation techniques. Maybe include a note about labeling data if it's for supervised learning.\n",
      "\n",
      "Model selection and architecture comes next. They might need to decide between CNNs, RNNs, Transformers, etc. Explaining the pros and cons of each could be helpful. Also, transfer learning is a big thing now, so mentioning pre-trained models from places like Hugging Face or TensorFlow Hub would be good.\n",
      "\n",
      "Training the model is another step. Here, hyperparameters are key. They might struggle with tuning learning rates, batch sizes, etc. Suggesting techniques like grid search or Bayesian optimization might help. Also, mentioning hardware considerations like GPU usage could be important if they're running into computational limits.\n",
      "\n",
      "Testing and validation is crucial. They need to know about cross-validation and metrics. Maybe suggest different evaluation metrics depending on the task—like accuracy for classification, F1-score for imbalanced data, etc.\n",
      "\n",
      "Deployment and integration. They might be unsure how to deploy their model. Options like REST APIs, Docker containers, or cloud services (AWS, GCP) come to mind. Also, continuous learning and monitoring the model's performance over time is important for real-world applications.\n",
      "\n",
      "Ethical and legal considerations are a must. They might not have thought about privacy laws like GDPR or bias in their models. Advising them to audit for biases and ensure transparency could prevent issues later.\n",
      "\n",
      "Iterative improvement is another point. They should consider a feedback loop where they gather user data and retrain models. Maybe mention version control for their models to track changes and performance.\n",
      "\n",
      "Additional resources could provide further reading or communities where they can ask for help. Including links to tutorials, documentation, and forums like Stack Overflow might be useful.\n",
      "\n",
      "Wait, maybe I should also think about the user's background. Are they a beginner or more experienced? The answer should be structured but not too technical, allowing them to delve deeper as needed. Also, prompting them to specify areas they need more help in would be good, so I can target the advice better.\n",
      "\n",
      "Hmm, did I miss anything? Testing with real-world scenarios beyond just validation sets? Maybe A/B testing in production. Also, documentation is important for collaboration and maintenance. Oh, and continuous integration/development pipelines for automated training and deployment.\n",
      "\n",
      "I should also ask them about their specific requirements—like the domain they're targeting, the type of problem (classification, NLP, robotics?), and their technical constraints. That way, the advice can be more tailored. Alright, structuring all this into a coherent answer with clear steps and actionable advice should help them move forward.\n",
      "</think>\n",
      "\n",
      "Certainly! Building an AI agent involves several key steps, from defining the problem to deployment. Below is a structured approach to guide you, along with areas where you might need expert assistance. Feel free to share more details about your specific goals, and I can refine the advice further.\n",
      "\n",
      "---\n",
      "\n",
      "### **1. Define the Problem & Objectives**\n",
      "- **Clarify the goal**: What task does your AI agent need to perform? (e.g., image classification, chatbot, game-playing, robotics, anomaly detection, etc.)\n",
      "- **Scope**: What are the constraints? (e.g., computational resources, data availability, real-time requirements)\n",
      "- **Metrics**: How will you measure success? (e.g., accuracy, latency, user engagement)\n",
      "\n",
      "**Expert needed here?**  \n",
      "Yes, if you’re unsure how to frame the problem technically. A domain expert (e.g., data scientist, ML engineer) can help align your vision with feasible AI solutions.\n",
      "\n",
      "---\n",
      "\n",
      "### **2. Data Collection & Preparation**\n",
      "- **Data sources**: Gather labeled training data (public datasets, web scraping, sensors, etc.).\n",
      "- **Data cleaning**: Handle missing values, outliers, and noise.\n",
      "- **Data augmentation**: Increase diversity (e.g., image rotation, text paraphrasing).\n",
      "- **Data splits**: Train/validation/test sets (e.g., 70/15/15 split).\n",
      "\n",
      "**Expert needed here?**  \n",
      "Yes, if data is noisy, biased, or requires specialized preprocessing (e.g., medical imaging, NLP). A data engineer or data scientist can help design pipelines and mitigate biases.\n",
      "\n",
      "---\n",
      "\n",
      "### **3. Choose the Right AI Framework & Tools**\n",
      "- **Frameworks**: \n",
      "  - **PyTorch** or **TensorFlow** (for deep learning).\n",
      "  - **scikit-learn** (for traditional ML).\n",
      "  - **RLlib** or **Stable Baselines** (for reinforcement learning).\n",
      "- **Libraries**: OpenCV (computer vision), spaCy (NLP), etc.\n",
      "- **Tools**: Jupyter Notebooks, Docker, Kubernetes (for deployment).\n",
      "\n",
      "**Expert needed here?**  \n",
      "Yes, if you need guidance on framework selection. An ML engineer can help choose tools based on your use case.\n",
      "\n",
      "---\n",
      "\n",
      "### **4. Model Selection & Architecture**\n",
      "- **Model type**: \n",
      "  - **Computer vision**: CNNs (e.g., ResNet, ViT).\n",
      "  - **Natural Language Processing**: Transformers (e.g., BERT, GPT), RNNs.\n",
      "  - **Reinforcement Learning**: DQN, PPO, or custom agents.\n",
      "  - **Traditional ML**: Random Forests, SVMs, etc.\n",
      "- **Transfer Learning**: Use pre-trained models (e.g., Hugging Face Hub, TensorFlow Hub).\n",
      "- **Custom architectures**: Design layers/neurons if needed.\n",
      "\n",
      "**Expert needed here?**  \n",
      "Yes, if you need help designing model architectures or selecting optimal algorithms. A researcher or ML engineer can guide you here.\n",
      "\n",
      "---\n",
      "\n",
      "### **5. Training the Model**\n",
      "- **Hyperparameter tuning**: Learning rate, batch size, epochs.\n",
      "  - Automated tools: Optuna, Hyperopt.\n",
      "- **Regularization**: Dropout, early stopping, L1/L2 penalties.\n",
      "- **Debugging**: Use TensorBoard, wandb, or MLflow for tracking experiments.\n",
      "- **Compute resources**: GPUs/TPUs (AWS, Google Colab, etc.).\n",
      "\n",
      "**Expert needed here?**  \n",
      "Yes, if training is unstable, overfitting/underfitting occurs, or you need optimization strategies. A machine learning engineer or data scientist can help tune and debug.\n",
      "\n",
      "---\n",
      "\n",
      "### **6. Testing & Validation**\n",
      "- **Cross-validation**: Ensure the model generalizes.\n",
      "- **Evaluate metrics**: Accuracy, precision, recall, F1-score, AUC-ROC, etc.\n",
      "- **A/B testing**: Compare the AI agent against baselines or human performance.\n",
      "\n",
      "**Expert needed here?**  \n",
      "Yes, for statistical validation and ensuring robustness. A data scientist can help design rigorous testing protocols.\n",
      "\n",
      "---\n",
      "\n",
      "### **7. Deployment & Integration**\n",
      "- **Deployment options**: \n",
      "  - REST API (FastAPI, Flask).\n",
      "  - Edge devices (TensorFlow Lite, ONNX).\n",
      "  - Cloud platforms (AWS SageMaker, Google AI Platform).\n",
      "- **Scalability**: Ensure the model handles production-scale data.\n",
      "- **Monitoring**: Track performance over time (e.g., Drift detection, logging).\n",
      "\n",
      "**Expert needed here?**  \n",
      "Yes, for scalable deployment. A DevOps engineer or MLOps specialist can help with infrastructure and monitoring.\n",
      "\n",
      "---\n",
      "\n",
      "### **8. Ethics & Compliance**\n",
      "- **Bias mitigation**: Audit models for fairness (e.g., IBM AI Fairness 360).\n",
      "- **Privacy**: Adhere to regulations (GDPR, HIPAA).\n",
      "- **Explainability**: Tools like SHAP or LIME for interpreting decisions.\n",
      "- **Safety**: Ensure the agent behaves as intended (critical for autonomous systems).\n",
      "\n",
      "**Expert needed here?**  \n",
      "Yes, especially for regulated industries (healthcare, finance). Ethicists or legal advisors may be required for compliance.\n",
      "\n",
      "---\n",
      "\n",
      "### **9. Iteration & Maintenance**\n",
      "- **Feedback loop**: Collect user feedback post-deployment.\n",
      "- **Retraining**: Update models with new data periodically.\n",
      "- **Version control**: Track model versions (MLflow, DVC).\n",
      "\n",
      "**Expert needed here?**  \n",
      "Yes, for model lifecycle management. An MLOps engineer can set up pipelines for iterative improvement.\n",
      "\n",
      "---\n",
      "\n",
      "### **Areas Where You Might Need Assistance**\n",
      "- **Data scarcity**: If your dataset is small, techniques like synthetic data generation or transfer learning can help.  \n",
      "- **Real-time performance**: If your agent needs low-latency responses, optimizations like quantization or edge deployment are essential.  \n",
      "- **Edge cases**: How will your agent handle unexpected inputs?  \n",
      "- **User interaction**: If the agent has a UI/UX (e.g., chatbot), UX designers and front-end developers are critical.\n",
      "\n",
      "---\n",
      "\n",
      "### **Resources to Get Started**\n",
      "- **Tutorials**: \n",
      "  - [PyTorch Tutorials](https://pytorch.org/tutorials/)\n",
      "  - [TensorFlow Examples](https://www.tensorflow.org/tutorials)\n",
      "  - [Hugging Face Transformers](https://huggingface.co/docs/transformers/index)\n",
      "- **Communities**: \n",
      "  - Ask questions on [Stack Overflow](https://stackoverflow.com/) or [Reddit](https://www.reddit.com/r/machinelearning/).\n",
      "  - Join forums like [Distill](https://distill.pub/) for cutting-edge techniques.\n",
      "- **Cheat Sheets**: \n",
      "  - [ML Model Selection](https://github.com/ageron/handson-ml)\n",
      "  - [AI Safety Checklist](https://arxiv.org/abs/2105.05117)\n",
      "\n",
      "---\n",
      "\n",
      "### **Next Steps for You**\n",
      "1. **Specify your use case**: Share more details about your AI agent’s purpose (e.g., \"Build a chatbot for customer service\" or \"Predict equipment failures in manufacturing\").  \n",
      "2. **Identify bottlenecks**: Pinpoint where you’re stuck (data, training, deployment, etc.).  \n",
      "3. **Get feedback**: Share your architecture or code snippets for review (e.g., GitHub repositories or Colab notebooks).\n",
      "\n",
      "---\n",
      "\n",
      "Let me know which area you’d like to dive deeper into, and I can provide tailored advice or connect you with relevant experts/resources!\n"
     ]
    }
   ],
   "source": [
    "user_input = \"I need some expert guidance for building an AI agent. Could you request assistance for me?\"\n",
    "config = {\"configurable\": {\"thread_id\": \"1\"}}\n",
    "\n",
    "events = graph.stream(\n",
    "    {\"messages\": [{\"role\": \"user\", \"content\": user_input}]},\n",
    "    config,\n",
    "    stream_mode=\"values\",\n",
    ")\n",
    "for event in events:\n",
    "    if \"messages\" in event:\n",
    "        event[\"messages\"][-1].pretty_print()"
   ]
  },
  {
   "cell_type": "code",
   "execution_count": 33,
   "metadata": {},
   "outputs": [
    {
     "data": {
      "text/plain": [
       "{'messages': [HumanMessage(content='what is my name', additional_kwargs={}, response_metadata={}, id='fc1c456a-136c-40dc-93a7-80e9967db4b3'),\n",
       "  AIMessage(content='\\n<think>\\nOkay, the user is asking, \"what is my name.\" Let me think about how to approach this. First, I need to recall if the user has provided their name in previous interactions. Since I don\\'t have memory of past conversations, I can\\'t refer back. The user might be testing if I can remember their name from earlier, but I can\\'t do that.\\n\\nAlternatively, maybe they\\'re asking in a general sense, like how to refer to themselves. Or perhaps they\\'re confused about their own name and need help figuring it out. Since I can\\'t access personal data or previous chats, the best response is to politely explain that I can\\'t know their name unless they tell me. I should offer to help them with whatever they need, even if it\\'s just a friendly interaction. Let me make sure to phrase it clearly and offer assistance without assuming any prior information.\\n</think>\\n\\nI\\'m an AI and don\\'t have access to personal information unless you explicitly share it with me. If you\\'d like to tell me your name, I\\'d be happy to greet you or assist you with whatever you need! How can I help you today?', additional_kwargs={}, response_metadata={'token_usage': {'completion_tokens': 232, 'prompt_tokens': 14, 'total_tokens': 246, 'completion_time': 0.56382175, 'prompt_time': 0.002991495, 'queue_time': 0.239748469, 'total_time': 0.566813245}, 'model_name': 'qwen-qwq-32b', 'system_fingerprint': 'fp_fbb7e6cc39', 'finish_reason': 'stop', 'logprobs': None}, id='run-6fb36e98-9f4e-4d99-a071-597ecd40d3fd-0', usage_metadata={'input_tokens': 14, 'output_tokens': 232, 'total_tokens': 246})]}"
      ]
     },
     "execution_count": 33,
     "metadata": {},
     "output_type": "execute_result"
    }
   ],
   "source": [
    "output = graph.invoke({\"messages\": [{\"role\": \"user\", \"content\": \"what is my name\"}]}, config={\"configurable\": {\"thread_id\": \"abc123\"}})\n",
    "output"
   ]
  },
  {
   "cell_type": "code",
   "execution_count": 34,
   "metadata": {},
   "outputs": [
    {
     "data": {
      "text/plain": [
       "AIMessage(content='\\n<think>\\nOkay, the user said \"my name is manoj\". I should respond politely. Let me start by greeting them and acknowledging their name. Maybe say something like \"Hello Manoj, it\\'s nice to meet you!\" That sounds friendly. I should also ask how I can assist them today. Keep it open-ended so they feel comfortable to ask anything. Let me check for any typos or errors. All good. Alright, ready to send the response.\\n</think>\\n\\nHello Manoj, it\\'s nice to meet you! How can I assist you today?', additional_kwargs={}, response_metadata={'token_usage': {'completion_tokens': 113, 'prompt_tokens': 15, 'total_tokens': 128, 'completion_time': 0.276986838, 'prompt_time': 0.003375355, 'queue_time': 0.5495269890000001, 'total_time': 0.280362193}, 'model_name': 'qwen-qwq-32b', 'system_fingerprint': 'fp_512a3da6bb', 'finish_reason': 'stop', 'logprobs': None}, id='run-7cadd349-aa53-420b-aab1-bdd797d4c1c9-0', usage_metadata={'input_tokens': 15, 'output_tokens': 113, 'total_tokens': 128})"
      ]
     },
     "execution_count": 34,
     "metadata": {},
     "output_type": "execute_result"
    }
   ],
   "source": [
    "llm.invoke(\"my name is manoj\",config={\"configurable\":{\"thread_id\":\"123\"}})"
   ]
  },
  {
   "cell_type": "code",
   "execution_count": 35,
   "metadata": {},
   "outputs": [
    {
     "data": {
      "text/plain": [
       "AIMessage(content='\\n<think>\\nOkay, the user is asking \"what is my name.\" First, I need to figure out how to respond appropriately. Since I don\\'t have access to any personal data or previous interactions, I can\\'t know the user\\'s name. My programming restricts me from storing or retrieving personal information.\\n\\nI should make sure to state clearly that I can\\'t access personal details. It\\'s important to be honest and straightforward. Maybe the user is testing the system or forgot they haven\\'t provided their name yet. I should also offer assistance with whatever they need help with, to be helpful.\\n\\nWait, maybe I should check if there was any context from earlier, but since each interaction is independent, I can\\'t refer to prior conversations. The user might be expecting me to remember, so I need to clarify that each session is separate.\\n\\nI need to phrase the response politely, letting them know I can\\'t retrieve their name but am here to help with other questions or tasks. Let me make sure the tone is friendly and supportive.\\n</think>\\n\\nI\\'m unable to access personal information or identify your name. However, I\\'m here to help with any questions or tasks you might have! How can I assist you today?', additional_kwargs={}, response_metadata={'token_usage': {'completion_tokens': 242, 'prompt_tokens': 14, 'total_tokens': 256, 'completion_time': 0.586032471, 'prompt_time': 0.002871115, 'queue_time': 0.24087256499999998, 'total_time': 0.588903586}, 'model_name': 'qwen-qwq-32b', 'system_fingerprint': 'fp_a91d9c2cfb', 'finish_reason': 'stop', 'logprobs': None}, id='run-465bdb4c-99d0-435c-bbb5-2a4d797f0fff-0', usage_metadata={'input_tokens': 14, 'output_tokens': 242, 'total_tokens': 256})"
      ]
     },
     "execution_count": 35,
     "metadata": {},
     "output_type": "execute_result"
    }
   ],
   "source": [
    "llm.invoke(\"what is my name\",config={\"configurable\":{\"thread_id\":\"123\"}})"
   ]
  },
  {
   "cell_type": "code",
   "execution_count": null,
   "metadata": {},
   "outputs": [],
   "source": []
  }
 ],
 "metadata": {
  "kernelspec": {
   "display_name": "Python 3",
   "language": "python",
   "name": "python3"
  },
  "language_info": {
   "codemirror_mode": {
    "name": "ipython",
    "version": 3
   },
   "file_extension": ".py",
   "mimetype": "text/x-python",
   "name": "python",
   "nbconvert_exporter": "python",
   "pygments_lexer": "ipython3",
   "version": "3.12.0"
  }
 },
 "nbformat": 4,
 "nbformat_minor": 2
}
