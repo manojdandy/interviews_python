{
 "cells": [
  {
   "cell_type": "code",
   "execution_count": 17,
   "metadata": {},
   "outputs": [],
   "source": [
    "import os\n",
    "from langgraph.graph import StateGraph,START,END\n",
    "from typing import TypedDict\n",
    "from IPython.display import Image,display"
   ]
  },
  {
   "cell_type": "code",
   "execution_count": 29,
   "metadata": {},
   "outputs": [],
   "source": [
    "class AgentState(TypedDict):\n",
    "    num1:int\n",
    "    op:str\n",
    "    num2:int\n",
    "    final_number:int"
   ]
  },
  {
   "cell_type": "code",
   "execution_count": 30,
   "metadata": {},
   "outputs": [],
   "source": [
    "def add_operation(state:AgentState) -> AgentState:\n",
    "    \"\"\" \n",
    "    Add two numbers\n",
    "    num1: first number\n",
    "    num2: second number\n",
    "    \"\"\"\n",
    "    state['final_number'] = state['num1'] + state['num2']\n",
    "\n",
    "    return state\n"
   ]
  },
  {
   "cell_type": "code",
   "execution_count": 31,
   "metadata": {},
   "outputs": [],
   "source": [
    "def subtract_operation(state:AgentState):\n",
    "    \"\"\" \n",
    "    subtract two numbers\n",
    "    num1: first number\n",
    "    num2: second number\n",
    "    \"\"\"\n",
    "    state['final_number'] = state['num1'] + state['num2']\n",
    "\n",
    "    return state['final_number']"
   ]
  },
  {
   "cell_type": "code",
   "execution_count": 32,
   "metadata": {},
   "outputs": [],
   "source": [
    "def decide_next_step(state:AgentState) -> AgentState:\n",
    "    \"\"\" Decide next step \"\"\"\n",
    "    if state['op'] == \"+\":\n",
    "        return \"additon_operation\"\n",
    "    elif state['op'] == \"-\":\n",
    "        return \"subtract_operation\"\n",
    "    else:\n",
    "        return \"invalid\""
   ]
  },
  {
   "cell_type": "code",
   "execution_count": 33,
   "metadata": {},
   "outputs": [],
   "source": [
    "builder = StateGraph(AgentState)"
   ]
  },
  {
   "cell_type": "code",
   "execution_count": 34,
   "metadata": {},
   "outputs": [
    {
     "data": {
      "text/plain": [
       "<langgraph.graph.state.StateGraph at 0x129945190>"
      ]
     },
     "execution_count": 34,
     "metadata": {},
     "output_type": "execute_result"
    }
   ],
   "source": [
    "builder.add_node(\"addition\",add_operation)\n",
    "builder.add_node(\"subtract\",subtract_operation)\n",
    "builder.add_node(\"router\",lambda state:state)\n",
    "builder.add_conditional_edges(\"router\",\n",
    "                              decide_next_step,\n",
    "                              {\n",
    "                                  \"additon_operation\":\"addition\",\n",
    "                                  \"subtract_operation\":\"subtract\"\n",
    "                              }\n",
    "                              \n",
    "                              )\n",
    "\n",
    "builder.add_edge(START,\"router\")\n",
    "builder.add_edge(\"addition\",END)\n",
    "builder.add_edge(\"subtract\",END)"
   ]
  },
  {
   "cell_type": "code",
   "execution_count": 35,
   "metadata": {},
   "outputs": [],
   "source": [
    "graph = builder.compile()"
   ]
  },
  {
   "cell_type": "code",
   "execution_count": null,
   "metadata": {},
   "outputs": [],
   "source": []
  },
  {
   "cell_type": "code",
   "execution_count": 36,
   "metadata": {},
   "outputs": [
    {
     "data": {
      "image/png": "[encoded data removed]",
      "text/plain": [
       "<IPython.core.display.Image object>"
      ]
     },
     "execution_count": 36,
     "metadata": {},
     "output_type": "execute_result"
    }
   ],
   "source": [
    "Image(graph.get_graph().draw_mermaid_png())"
   ]
  },
  {
   "cell_type": "code",
   "execution_count": 37,
   "metadata": {},
   "outputs": [
    {
     "data": {
      "text/plain": [
       "{'num1': 2, 'op': '+', 'num2': 10, 'final_number': 12}"
      ]
     },
     "execution_count": 37,
     "metadata": {},
     "output_type": "execute_result"
    }
   ],
   "source": [
    "graph.invoke({\"num1\":2,\"op\":\"+\",\"num2\":10})"
   ]
  },
  {
   "cell_type": "code",
   "execution_count": 22,
   "metadata": {},
   "outputs": [
    {
     "data": {
      "text/plain": [
       "{'num1': 2, 'op': '+', 'num2': 10}"
      ]
     },
     "execution_count": 22,
     "metadata": {},
     "output_type": "execute_result"
    }
   ],
   "source": [
    "{\"num1\":2,\"op\":\"+\",\"num2\":10}"
   ]
  }
 ],
 "metadata": {
  "kernelspec": {
   "display_name": "Python 3",
   "language": "python",
   "name": "python3"
  },
  "language_info": {
   "codemirror_mode": {
    "name": "ipython",
    "version": 3
   },
   "file_extension": ".py",
   "mimetype": "text/x-python",
   "name": "python",
   "nbconvert_exporter": "python",
   "pygments_lexer": "ipython3",
   "version": "3.12.0"
  }
 },
 "nbformat": 4,
 "nbformat_minor": 2
}
