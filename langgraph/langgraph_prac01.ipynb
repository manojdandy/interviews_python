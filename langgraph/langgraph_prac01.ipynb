{
 "cells": [
  {
   "cell_type": "code",
   "execution_count": 1,
   "metadata": {},
   "outputs": [
    {
     "data": {
      "text/plain": [
       "True"
      ]
     },
     "execution_count": 1,
     "metadata": {},
     "output_type": "execute_result"
    }
   ],
   "source": [
    "import os\n",
    "from dotenv import load_dotenv\n",
    "from langchain_groq.chat_models import ChatGroq\n",
    "from langchain_huggingface.chat_models import ChatHuggingFace\n",
    "load_dotenv()"
   ]
  },
  {
   "cell_type": "code",
   "execution_count": 2,
   "metadata": {},
   "outputs": [],
   "source": [
    "os.environ[\"HUGGINGFACEHUB_API_TOKEN\"] = os.getenv(\"HUGGINGFACEHUB_API_TOKEN\")\n",
    "os.environ[\"GROQ_API_KEY\"] = os.getenv(\"GROQ_API_KEY\")"
   ]
  },
  {
   "cell_type": "code",
   "execution_count": 3,
   "metadata": {},
   "outputs": [],
   "source": [
    "llm = ChatGroq(model=\"qwen-qwq-32b\")"
   ]
  },
  {
   "cell_type": "code",
   "execution_count": 1,
   "metadata": {},
   "outputs": [
    {
     "name": "stdout",
     "output_type": "stream",
     "text": [
      "{'input': 'Hello LangGraph!', 'output': 'Echo: Hello LangGraph!'}\n"
     ]
    }
   ],
   "source": [
    "from langgraph.graph import StateGraph, END\n",
    "from typing_extensions import TypedDict\n",
    "\n",
    "# 1. Define State\n",
    "class MyState(TypedDict):\n",
    "    input: str\n",
    "    output: str\n",
    "\n",
    "# 2. Create Graph\n",
    "builder = StateGraph(MyState)\n",
    "\n",
    "# 3. Add simple echo node\n",
    "def echo_node(state):\n",
    "    return {\"output\": f\"Echo: {state['input']}\"}\n",
    "\n",
    "builder.add_node(\"echo\", echo_node)\n",
    "builder.set_entry_point(\"echo\")\n",
    "builder.add_edge(\"echo\", END)\n",
    "\n",
    "# 4. Compile\n",
    "graph = builder.compile()\n",
    "\n",
    "# 5. Invoke\n",
    "result = graph.invoke({\"input\": \"Hello LangGraph!\"})\n",
    "print(result)\n"
   ]
  },
  {
   "cell_type": "code",
   "execution_count": 3,
   "metadata": {},
   "outputs": [],
   "source": [
    "from IPython.display import Image,display"
   ]
  },
  {
   "cell_type": "code",
   "execution_count": 5,
   "metadata": {},
   "outputs": [
    {
     "data": {
      "image/png": "[encoded data removed]",
      "text/plain": [
       "<IPython.core.display.Image object>"
      ]
     },
     "metadata": {},
     "output_type": "display_data"
    }
   ],
   "source": [
    "try:\n",
    "    display(Image(graph.get_graph().draw_mermaid_png()))\n",
    "except Exception as e:\n",
    "    raise e"
   ]
  },
  {
   "cell_type": "code",
   "execution_count": 8,
   "metadata": {},
   "outputs": [],
   "source": [
    "class MyState(TypedDict):\n",
    "    input:str\n",
    "    output:str"
   ]
  },
  {
   "cell_type": "code",
   "execution_count": 9,
   "metadata": {},
   "outputs": [],
   "source": [
    "def echo(state:MyState):\n",
    "    return {\"output\": f\"echo :: {state['input']}\"}\n",
    "    "
   ]
  },
  {
   "cell_type": "code",
   "execution_count": 10,
   "metadata": {},
   "outputs": [],
   "source": [
    "graph_builder = StateGraph(MyState)"
   ]
  },
  {
   "cell_type": "code",
   "execution_count": 11,
   "metadata": {},
   "outputs": [
    {
     "data": {
      "text/plain": [
       "<langgraph.graph.state.StateGraph at 0x111920320>"
      ]
     },
     "execution_count": 11,
     "metadata": {},
     "output_type": "execute_result"
    }
   ],
   "source": [
    "graph_builder.add_node(\"echo\",echo)"
   ]
  },
  {
   "cell_type": "code",
   "execution_count": 12,
   "metadata": {},
   "outputs": [
    {
     "data": {
      "text/plain": [
       "<langgraph.graph.state.StateGraph at 0x111920320>"
      ]
     },
     "execution_count": 12,
     "metadata": {},
     "output_type": "execute_result"
    }
   ],
   "source": [
    "from langgraph.graph import START,END\n",
    "graph_builder.add_edge(START,\"echo\")\n",
    "graph_builder.add_edge(\"echo\",END)"
   ]
  },
  {
   "cell_type": "code",
   "execution_count": 13,
   "metadata": {},
   "outputs": [],
   "source": [
    "graph = graph_builder.compile()"
   ]
  },
  {
   "cell_type": "code",
   "execution_count": 14,
   "metadata": {},
   "outputs": [],
   "source": [
    "from IPython.display import Image"
   ]
  },
  {
   "cell_type": "code",
   "execution_count": 16,
   "metadata": {},
   "outputs": [
    {
     "data": {
      "image/png": "[encoded data removed]",
      "text/plain": [
       "<IPython.core.display.Image object>"
      ]
     },
     "execution_count": 16,
     "metadata": {},
     "output_type": "execute_result"
    }
   ],
   "source": [
    "Image(graph.get_graph().draw_mermaid_png())"
   ]
  },
  {
   "cell_type": "code",
   "execution_count": 17,
   "metadata": {},
   "outputs": [
    {
     "data": {
      "text/plain": [
       "{'input': 'Hello raju', 'output': 'echo :: Hello raju'}"
      ]
     },
     "execution_count": 17,
     "metadata": {},
     "output_type": "execute_result"
    }
   ],
   "source": [
    "graph.invoke({\"input\":\"Hello raju\"})"
   ]
  },
  {
   "cell_type": "code",
   "execution_count": 4,
   "metadata": {},
   "outputs": [],
   "source": [
    "from langchain.prompts import ChatPromptTemplate\n",
    "\n",
    "prompt = ChatPromptTemplate.from_template(\n",
    "    \"You are a helpful assistant. Answer the following: {question}\"\n",
    ")\n"
   ]
  },
  {
   "cell_type": "code",
   "execution_count": 5,
   "metadata": {},
   "outputs": [],
   "source": [
    "from langchain.schema.runnable import RunnableMap, RunnablePassthrough\n",
    "from langchain.schema.output_parser import StrOutputParser\n",
    "\n",
    "chain = (\n",
    "    {\"question\": RunnablePassthrough()}\n",
    "    | prompt\n",
    "    | llm\n",
    "    | StrOutputParser()\n",
    ")\n"
   ]
  },
  {
   "cell_type": "code",
   "execution_count": 6,
   "metadata": {},
   "outputs": [],
   "source": [
    "from langgraph.graph import StateGraph, END\n",
    "from typing_extensions import TypedDict\n",
    "\n",
    "class MyState(TypedDict):\n",
    "    question: str\n",
    "    answer: str\n",
    "\n",
    "# Graph Builder\n",
    "builder = StateGraph(MyState)\n",
    "\n",
    "# Node: Ask LLM\n",
    "def llm_node(state):\n",
    "    answer = chain.invoke(state[\"question\"])\n",
    "    return {\"answer\": answer}\n",
    "\n",
    "builder.add_node(\"ask_llm\", llm_node)\n",
    "builder.set_entry_point(\"ask_llm\")\n",
    "builder.add_edge(\"ask_llm\", END)\n",
    "\n",
    "graph = builder.compile()\n"
   ]
  },
  {
   "cell_type": "code",
   "execution_count": 7,
   "metadata": {},
   "outputs": [
    {
     "name": "stdout",
     "output_type": "stream",
     "text": [
      "\n",
      "<think>\n",
      "Okay, so I need to figure out why the sky is blue. I remember from school that it has something to do with the way light scatters in the atmosphere. Let me start by recalling what I know.\n",
      "\n",
      "First, sunlight looks white, but it's actually made up of all the colors of the rainbow. That's why you can see a rainbow when light is split by water droplets, creating a spectrum of colors. Each color has a different wavelength. Red has the longest wavelength, and violet the shortest. But how does that relate to the sky's color?\n",
      "\n",
      "I think it's called Rayleigh scattering. Maybe that's the key here. So, when sunlight enters the Earth's atmosphere, the gases and particles in the air interact with the light. Since the molecules in the atmosphere are much smaller than the wavelength of visible light, this scattering happens more for shorter wavelengths. That would mean blue and violet, which have shorter wavelengths, are scattered more than red or yellow. But wait, if violet has an even shorter wavelength than blue, why isn't the sky violet?\n",
      "\n",
      "Hmm, maybe because our eyes are more sensitive to blue. The human eye has receptors called cones, and they are more sensitive to blue, green, and red. There are more cones for green, but maybe the combination of the scattering and the eye's sensitivity makes blue the dominant color we see. Also, the sun's light has more blue than violet to start with, so even though violet is scattered more, the overall effect is blue.\n",
      "\n",
      "Another thought: during sunrise or sunset, the sky turns red or orange. That's because when the sun is low on the horizon, its light passes through more of the atmosphere. The blue light has already been scattered away, so the remaining light is the longer wavelengths like red and orange. That makes sense. So the same scattering effect that makes the sky blue also explains the different colors at sunrise/sunset.\n",
      "\n",
      "Wait, let me make sure I'm not mixing up anything. The process is that shorter wavelengths are scattered in all directions more than longer ones. So blue light gets scattered all over the sky, and when we look up, we see this scattered blue light. The direct sunlight loses some blue, but since it's still a mix, the sun itself might appear slightly yellowish because the blue is scattered away. But people usually see the sun as white or yellow. Maybe because the scattered blue from the sky around us makes the contrast, so the sun's direct light appears yellow.\n",
      "\n",
      "Also, the Earth's atmosphere composition matters. If the atmosphere had different molecules or particles, would the sky be a different color? Like on Mars, the sky is pinkish because of different scattering. So our atmosphere's nitrogen and oxygen molecules, which are small, are key here.\n",
      "\n",
      "I should check if there's anything else. Maybe the size of the particles matters. Rayleigh scattering applies when the particles are much smaller than the wavelength. For larger particles, like pollution or water droplets, Mie scattering occurs, which scatters all wavelengths more equally, leading to white or gray hues. That's why clouds are white. But the main sky color is due to Rayleigh scattering.\n",
      "\n",
      "Putting it all together: sunlight hits the atmosphere, shorter wavelengths (blue/violet) scatter more. Our eyes are more sensitive to blue, and the sun's spectrum has more blue than violet, so the sky appears blue. During sunrise/sunset, the longer path means more scattering of blue, leaving reds and oranges. Got it. But I need to make sure I didn't miss any steps or have any misconceptions here.\n",
      "</think>\n",
      "\n",
      "The sky appears blue due to a phenomenon called **Rayleigh scattering**, which occurs when sunlight interacts with molecules and small particles in Earth's atmosphere. Here's a step-by-step explanation:\n",
      "\n",
      "1. **Sunlight Composition**: Sunlight is white, but it contains all the colors of the visible spectrum (red, orange, yellow, green, blue, indigo, violet). Each color has a different wavelength, with violet and blue having the shortest wavelengths, and red the longest.\n",
      "\n",
      "2. **Scattering Process**: \n",
      "   - When sunlight enters the Earth's atmosphere, it collides with molecules of nitrogen and oxygen (which are much smaller than the wavelengths of visible light). \n",
      "   - Shorter wavelengths (blue and violet) are scattered in all directions by these molecules much more efficiently than longer wavelengths (like red and yellow). This is Rayleigh scattering, which is inversely proportional to the fourth power of the wavelength. Thus, blue light (400-450 nm) scatters about 10 times more than red light (650-700 nm).\n",
      "\n",
      "3. **Human Eye Perception**:\n",
      "   - Although violet light is scattered even more than blue, our eyes are much more sensitive to blue light. Additionally, sunlight naturally contains more blue than violet light. As a result, the sky appears blue to our eyes rather than violet.\n",
      "\n",
      "4. **Sunrise/Sunset Colors**:\n",
      "   - At dawn or dusk, sunlight travels through more of the atmosphere. Most of the shorter blue and green wavelengths are scattered out of the line of sight, leaving the longer red and orange wavelengths to dominate the direct light we see, creating the warm hues of sunrise and sunset.\n",
      "\n",
      "5. **Contrast with the Sun**: The sun itself often appears yellowish-white because the scattered blue light from the surrounding sky contrasts with the direct sunlight, reducing the perceived blue in the sun's direct rays.\n",
      "\n",
      "6. **Role of Atmospheric Composition**: The specific scattering effect depends on the atmosphere's composition (mostly nitrogen and oxygen). On other planets with different atmospheres, skies can appear different colors (e.g., pink on Mars due to dust particles).\n",
      "\n",
      "In summary, the blue sky is a result of shorter blue wavelengths being scattered by atmospheric molecules, and our eyes' sensitivity to blue light, while longer wavelengths dominate when light travels longer paths (e.g., at sunrise/sunset).\n"
     ]
    }
   ],
   "source": [
    "response = graph.invoke({\"question\": \"Why is the sky blue?\"})\n",
    "print(response[\"answer\"])"
   ]
  },
  {
   "cell_type": "code",
   "execution_count": null,
   "metadata": {},
   "outputs": [],
   "source": []
  }
 ],
 "metadata": {
  "kernelspec": {
   "display_name": "Python 3",
   "language": "python",
   "name": "python3"
  },
  "language_info": {
   "codemirror_mode": {
    "name": "ipython",
    "version": 3
   },
   "file_extension": ".py",
   "mimetype": "text/x-python",
   "name": "python",
   "nbconvert_exporter": "python",
   "pygments_lexer": "ipython3",
   "version": "3.12.0"
  }
 },
 "nbformat": 4,
 "nbformat_minor": 2
}
