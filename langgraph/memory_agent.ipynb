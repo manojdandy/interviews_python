{
 "cells": [
  {
   "cell_type": "code",
   "execution_count": 10,
   "metadata": {},
   "outputs": [
    {
     "data": {
      "text/plain": [
       "True"
      ]
     },
     "execution_count": 10,
     "metadata": {},
     "output_type": "execute_result"
    }
   ],
   "source": [
    "import os\n",
    "from dotenv import load_dotenv\n",
    "from langchain_core.memory import BaseMemory\n",
    "from langchain_core.messages import HumanMessage,AIMessage,FunctionMessage,SystemMessage,ToolMessage,ChatMessage\n",
    "from langchain_groq import ChatGroq\n",
    "from typing import TypedDict,List,Union\n",
    "from langgraph.graph import StateGraph,START,END\n",
    "from IPython.display import Image,display\n",
    "load_dotenv()"
   ]
  },
  {
   "cell_type": "code",
   "execution_count": 3,
   "metadata": {},
   "outputs": [],
   "source": [
    "llm = ChatGroq(model=\"qwen-qwq-32b\")"
   ]
  },
  {
   "cell_type": "code",
   "execution_count": 4,
   "metadata": {},
   "outputs": [],
   "source": [
    "class AgentState(TypedDict):\n",
    "    messages:List[Union[HumanMessage,AIMessage]]"
   ]
  },
  {
   "cell_type": "code",
   "execution_count": 11,
   "metadata": {},
   "outputs": [],
   "source": [
    "def process_node(state:AgentState) -> AgentState:\n",
    "    response = llm.invoke(state['messages'])\n",
    "    state['messages'].append(AIMessage(content=response.content))\n",
    "    print(f\"ai msg : {response.content}\")\n",
    "    print(f\"current state : {state['messages']}\")\n",
    "     \n",
    "    return state"
   ]
  },
  {
   "cell_type": "code",
   "execution_count": 12,
   "metadata": {},
   "outputs": [],
   "source": [
    "builder = StateGraph(AgentState)"
   ]
  },
  {
   "cell_type": "code",
   "execution_count": 13,
   "metadata": {},
   "outputs": [
    {
     "data": {
      "text/plain": [
       "<langgraph.graph.state.StateGraph at 0x121159f10>"
      ]
     },
     "execution_count": 13,
     "metadata": {},
     "output_type": "execute_result"
    }
   ],
   "source": [
    "builder.add_node(\"process\",process_node)\n",
    "builder.set_entry_point(\"process\")"
   ]
  },
  {
   "cell_type": "code",
   "execution_count": 14,
   "metadata": {},
   "outputs": [],
   "source": [
    "graph = builder.compile()"
   ]
  },
  {
   "cell_type": "code",
   "execution_count": 18,
   "metadata": {},
   "outputs": [
    {
     "name": "stdout",
     "output_type": "stream",
     "text": [
      "i am manoj\n",
      "ai msg : \n",
      "<think>\n",
      "Okay, the user said \"I am manoj\". I should start by acknowledging their name in a friendly way. Maybe say something like \"Hello, Manoj!\" to make them feel welcomed. Then, I need to offer assistance. Let me think of a few common reasons someone might reach out. They could need help with information, a task, or just be testing the AI. Since there's no specific question yet, I should keep it open-ended. Perhaps ask how I can assist them today. I should keep the tone positive and approachable. Let me put that together.\n",
      "\n",
      "Wait, maybe I should check if there's any cultural context I should be aware of. \"Manoj\" is a common name in India, so maybe use a friendly greeting that's appropriate. Also, keep the response concise but inviting. Yeah, that should work. Alright, time to draft the response.\n",
      "</think>\n",
      "\n",
      "Hello, Manoj! How can I assist you today? Feel free to ask me any questions or let me know if you need help with anything specific! 😊\n",
      "current state : [HumanMessage(content='i am manoj', additional_kwargs={}, response_metadata={}), AIMessage(content='\\n<think>\\nOkay, the user said \"I am manoj\". I should start by acknowledging their name in a friendly way. Maybe say something like \"Hello, Manoj!\" to make them feel welcomed. Then, I need to offer assistance. Let me think of a few common reasons someone might reach out. They could need help with information, a task, or just be testing the AI. Since there\\'s no specific question yet, I should keep it open-ended. Perhaps ask how I can assist them today. I should keep the tone positive and approachable. Let me put that together.\\n\\nWait, maybe I should check if there\\'s any cultural context I should be aware of. \"Manoj\" is a common name in India, so maybe use a friendly greeting that\\'s appropriate. Also, keep the response concise but inviting. Yeah, that should work. Alright, time to draft the response.\\n</think>\\n\\nHello, Manoj! How can I assist you today? Feel free to ask me any questions or let me know if you need help with anything specific! 😊', additional_kwargs={}, response_metadata={})]\n",
      "type ::: <class 'list'>\n",
      "[HumanMessage(content='i am manoj', additional_kwargs={}, response_metadata={}), AIMessage(content='\\n<think>\\nOkay, the user said \"I am manoj\". I should start by acknowledging their name in a friendly way. Maybe say something like \"Hello, Manoj!\" to make them feel welcomed. Then, I need to offer assistance. Let me think of a few common reasons someone might reach out. They could need help with information, a task, or just be testing the AI. Since there\\'s no specific question yet, I should keep it open-ended. Perhaps ask how I can assist them today. I should keep the tone positive and approachable. Let me put that together.\\n\\nWait, maybe I should check if there\\'s any cultural context I should be aware of. \"Manoj\" is a common name in India, so maybe use a friendly greeting that\\'s appropriate. Also, keep the response concise but inviting. Yeah, that should work. Alright, time to draft the response.\\n</think>\\n\\nHello, Manoj! How can I assist you today? Feel free to ask me any questions or let me know if you need help with anything specific! 😊', additional_kwargs={}, response_metadata={})]\n"
     ]
    }
   ],
   "source": [
    "conversational_history = []\n",
    "user_input = input(\"enter:\")\n",
    "print(user_input)\n",
    "while user_input.lower() not in ['q','exit']:\n",
    "    conversational_history.append(HumanMessage(content=user_input))\n",
    "    response = graph.invoke({\"messages\":conversational_history})\n",
    "    print(f'type ::: {type(response['messages'])}')\n",
    "    conversational_history = response['messages']\n",
    "    print(response['messages'])\n",
    "    user_input = input(\"enter:\")"
   ]
  }
 ],
 "metadata": {
  "kernelspec": {
   "display_name": "Python 3",
   "language": "python",
   "name": "python3"
  },
  "language_info": {
   "codemirror_mode": {
    "name": "ipython",
    "version": 3
   },
   "file_extension": ".py",
   "mimetype": "text/x-python",
   "name": "python",
   "nbconvert_exporter": "python",
   "pygments_lexer": "ipython3",
   "version": "3.12.0"
  }
 },
 "nbformat": 4,
 "nbformat_minor": 2
}
