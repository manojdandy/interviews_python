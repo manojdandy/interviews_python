{
 "cells": [
  {
   "cell_type": "code",
   "execution_count": 89,
   "metadata": {},
   "outputs": [],
   "source": [
    "import os\n",
    "from langgraph.graph import StateGraph,START,END\n",
    "import random\n",
    "from typing import TypedDict,List,Optional\n",
    "from IPython.display import Image,display"
   ]
  },
  {
   "cell_type": "code",
   "execution_count": 90,
   "metadata": {},
   "outputs": [],
   "source": [
    "class AgentState(TypedDict):\n",
    "    name:str\n",
    "    number:Optional[List[int]]\n",
    "    counter:int"
   ]
  },
  {
   "cell_type": "code",
   "execution_count": 91,
   "metadata": {},
   "outputs": [],
   "source": [
    "def greeting_node(state:AgentState) -> AgentState:\n",
    "    \"\"\" Greeting Node Say Hi to a person\"\"\"\n",
    "    state['name'] = f\"Hi, {state['name']}\"\n",
    "    state['counter'] = 0\n",
    "    return state"
   ]
  },
  {
   "cell_type": "code",
   "execution_count": 92,
   "metadata": {},
   "outputs": [],
   "source": [
    "def random_node(state:AgentState) -> AgentState:\n",
    "    \"\"\" Generate random number from 0 to 5 \"\"\"\n",
    "    state['number'].append(random.randint(0,5))\n",
    "    state['counter'] += 1\n",
    "    return state\n"
   ]
  },
  {
   "cell_type": "code",
   "execution_count": 93,
   "metadata": {},
   "outputs": [],
   "source": [
    "def should_continue(state:AgentState) -> AgentState:\n",
    "    \"\"\" Decide continue the loop\"\"\"\n",
    "    if state['counter'] < 5:\n",
    "        print(f\"inside loop :: {state['counter']}\")\n",
    "        return \"loop\"\n",
    "    else:\n",
    "        print(\"exit\")\n",
    "        return \"exit\""
   ]
  },
  {
   "cell_type": "code",
   "execution_count": 94,
   "metadata": {},
   "outputs": [],
   "source": [
    "builder = StateGraph(state_schema=AgentState)"
   ]
  },
  {
   "cell_type": "code",
   "execution_count": 95,
   "metadata": {},
   "outputs": [
    {
     "data": {
      "text/plain": [
       "<langgraph.graph.state.StateGraph at 0x11b21f2f0>"
      ]
     },
     "execution_count": 95,
     "metadata": {},
     "output_type": "execute_result"
    }
   ],
   "source": [
    "builder.add_node(\"greeter\",greeting_node)\n",
    "builder.add_node(\"random\",random_node)\n",
    "builder.add_edge(\"greeter\",\"random\")\n",
    "#builder.set_finish_point(\"randomer\")\n",
    "builder.add_conditional_edges(\"random\", #source node\n",
    "                              should_continue, # Action Node\n",
    "                              {\n",
    "                                  \"loop\":\"random\",\n",
    "                                  \"exit\": END\n",
    "                              }\n",
    "                              )\n",
    "\n",
    "\n",
    "builder.set_entry_point(\"greeter\")"
   ]
  },
  {
   "cell_type": "code",
   "execution_count": 96,
   "metadata": {},
   "outputs": [],
   "source": [
    "graph = builder.compile()"
   ]
  },
  {
   "cell_type": "code",
   "execution_count": 87,
   "metadata": {},
   "outputs": [
    {
     "data": {
      "image/png": "[encoded data removed]",
      "text/plain": [
       "<IPython.core.display.Image object>"
      ]
     },
     "execution_count": 87,
     "metadata": {},
     "output_type": "execute_result"
    }
   ],
   "source": [
    "Image(graph.get_graph().draw_mermaid_png())"
   ]
  },
  {
   "cell_type": "code",
   "execution_count": 97,
   "metadata": {},
   "outputs": [
    {
     "name": "stdout",
     "output_type": "stream",
     "text": [
      "inside loop :: 1\n",
      "inside loop :: 2\n",
      "inside loop :: 3\n",
      "inside loop :: 4\n",
      "exit\n"
     ]
    },
    {
     "data": {
      "text/plain": [
       "{'name': 'Hi, Vaibhav', 'number': [3, 4, 4, 5, 4], 'counter': 5}"
      ]
     },
     "execution_count": 97,
     "metadata": {},
     "output_type": "execute_result"
    }
   ],
   "source": [
    "graph.invoke({\"name\":\"Vaibhav\", \"number\":[], \"counter\":-100})"
   ]
  }
 ],
 "metadata": {
  "kernelspec": {
   "display_name": "Python 3",
   "language": "python",
   "name": "python3"
  },
  "language_info": {
   "codemirror_mode": {
    "name": "ipython",
    "version": 3
   },
   "file_extension": ".py",
   "mimetype": "text/x-python",
   "name": "python",
   "nbconvert_exporter": "python",
   "pygments_lexer": "ipython3",
   "version": "3.12.0"
  }
 },
 "nbformat": 4,
 "nbformat_minor": 2
}
