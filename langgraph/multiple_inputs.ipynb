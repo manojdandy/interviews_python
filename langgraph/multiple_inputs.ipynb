{
 "cells": [
  {
   "cell_type": "code",
   "execution_count": 1,
   "metadata": {},
   "outputs": [],
   "source": [
    "import os\n",
    "from dotenv import load_dotenv\n",
    "from langgraph.graph import START,StateGraph,END,add_messages\n",
    "from langchain_groq.chat_models import ChatGroq\n",
    "from typing import TypedDict,List"
   ]
  },
  {
   "cell_type": "code",
   "execution_count": 2,
   "metadata": {},
   "outputs": [],
   "source": [
    "class AgentState(TypedDict):\n",
    "    name:str\n",
    "    values:List[int]\n",
    "    operation:str\n",
    "    result:str"
   ]
  },
  {
   "cell_type": "code",
   "execution_count": 3,
   "metadata": {},
   "outputs": [],
   "source": [
    "def process(state:AgentState) -> AgentState:\n",
    "    if state[\"operation\"] == \"*\":\n",
    "        print(f\"multiplying:::{state}\")\n",
    "        product = 1\n",
    "        for x in state['values']:\n",
    "            product *= x\n",
    "        print(f\"product ::{product}\")\n",
    "        state['result'] = f\"Hi {state['name']} , your answer is {product}\"\n",
    "    elif state[\"operation\"] == \"+\":\n",
    "        print(f\"addition:::{state}\")\n",
    "        state['result'] = f\"Hi {state['name']} , your answer is {sum(state['values'])}\"\n",
    "    else:\n",
    "        state['result'] = 'Invalid'\n",
    "    print(f\"result:::{state}\")\n",
    "    return state"
   ]
  },
  {
   "cell_type": "code",
   "execution_count": 4,
   "metadata": {},
   "outputs": [],
   "source": [
    "builder = StateGraph(AgentState)"
   ]
  },
  {
   "cell_type": "code",
   "execution_count": 5,
   "metadata": {},
   "outputs": [
    {
     "data": {
      "text/plain": [
       "<langgraph.graph.state.StateGraph at 0x1076aecf0>"
      ]
     },
     "execution_count": 5,
     "metadata": {},
     "output_type": "execute_result"
    }
   ],
   "source": [
    "builder.add_node(\"processor\",process)\n",
    "builder.set_entry_point(\"processor\")\n",
    "builder.set_finish_point(\"processor\")"
   ]
  },
  {
   "cell_type": "code",
   "execution_count": 6,
   "metadata": {},
   "outputs": [],
   "source": [
    "graph = builder.compile()"
   ]
  },
  {
   "cell_type": "code",
   "execution_count": 7,
   "metadata": {},
   "outputs": [
    {
     "name": "stdout",
     "output_type": "stream",
     "text": [
      "multiplying:::{'name': 'john', 'values': [1, 2, 3, 4], 'operation': '*'}\n",
      "product ::24\n",
      "result:::{'name': 'john', 'values': [1, 2, 3, 4], 'operation': '*', 'result': 'Hi john , your answer is 24'}\n"
     ]
    },
    {
     "data": {
      "text/plain": [
       "{'name': 'john',\n",
       " 'values': [1, 2, 3, 4],\n",
       " 'operation': '*',\n",
       " 'result': 'Hi john , your answer is 24'}"
      ]
     },
     "execution_count": 7,
     "metadata": {},
     "output_type": "execute_result"
    }
   ],
   "source": [
    "res = graph.invoke({\"name\":\"john\",\"values\":[1,2,3,4],\"operation\":\"*\"})\n",
    "res"
   ]
  },
  {
   "cell_type": "code",
   "execution_count": 69,
   "metadata": {},
   "outputs": [
    {
     "data": {
      "text/plain": [
       "{'name': 'john',\n",
       " 'values': [1, 2, 3, 4],\n",
       " 'operation': '*',\n",
       " 'result': 'Hi john , your answer is 24'}"
      ]
     },
     "execution_count": 69,
     "metadata": {},
     "output_type": "execute_result"
    }
   ],
   "source": [
    "res"
   ]
  }
 ],
 "metadata": {
  "kernelspec": {
   "display_name": "Python 3",
   "language": "python",
   "name": "python3"
  },
  "language_info": {
   "codemirror_mode": {
    "name": "ipython",
    "version": 3
   },
   "file_extension": ".py",
   "mimetype": "text/x-python",
   "name": "python",
   "nbconvert_exporter": "python",
   "pygments_lexer": "ipython3",
   "version": "3.12.0"
  }
 },
 "nbformat": 4,
 "nbformat_minor": 2
}
