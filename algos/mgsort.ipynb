{
 "cells": [
  {
   "cell_type": "code",
   "execution_count": null,
   "metadata": {},
   "outputs": [],
   "source": [
    "\n",
    "def merge_two_list(a,b):\n",
    "    c=[]\n",
    "    i = 0\n",
    "    j = 0\n",
    "    while i < len(a) and j < len(b):\n",
    "        if a[i] > b[j]:\n",
    "            c.append(b[j])\n",
    "            j += 1\n",
    "        elif b[j] > a[i]:\n",
    "            c.append(a[i])\n",
    "            i += 1\n",
    "   \n",
    "    while i < len(a):\n",
    "        c.append(a[i])\n",
    "        i+=1\n",
    "\n",
    "    while j < len(b):\n",
    "        c.append(b[j])\n",
    "        j+=1\n",
    "    return c\n"
   ]
  },
  {
   "cell_type": "code",
   "execution_count": 12,
   "metadata": {},
   "outputs": [
    {
     "ename": "TypeError",
     "evalue": "object of type 'int' has no len()",
     "output_type": "error",
     "traceback": [
      "\u001b[31m---------------------------------------------------------------------------\u001b[39m",
      "\u001b[31mTypeError\u001b[39m                                 Traceback (most recent call last)",
      "\u001b[36mCell\u001b[39m\u001b[36m \u001b[39m\u001b[32mIn[12]\u001b[39m\u001b[32m, line 3\u001b[39m\n\u001b[32m      1\u001b[39m a=[\u001b[32m1\u001b[39m,\u001b[32m3\u001b[39m,\u001b[32m5\u001b[39m]\n\u001b[32m      2\u001b[39m b=[\u001b[32m2\u001b[39m,\u001b[32m4\u001b[39m,\u001b[32m6\u001b[39m]\n\u001b[32m----> \u001b[39m\u001b[32m3\u001b[39m c = \u001b[43mmerge_two_list\u001b[49m\u001b[43m(\u001b[49m\u001b[43ma\u001b[49m\u001b[43m,\u001b[49m\u001b[43mb\u001b[49m\u001b[43m)\u001b[49m\n\u001b[32m      4\u001b[39m c\n",
      "\u001b[36mCell\u001b[39m\u001b[36m \u001b[39m\u001b[32mIn[11]\u001b[39m\u001b[32m, line 17\u001b[39m, in \u001b[36mmerge_two_list\u001b[39m\u001b[34m(a, b)\u001b[39m\n\u001b[32m     14\u001b[39m     c.append(a[i])\n\u001b[32m     15\u001b[39m     i+=\u001b[32m1\u001b[39m\n\u001b[32m---> \u001b[39m\u001b[32m17\u001b[39m \u001b[38;5;28;01mwhile\u001b[39;00m j < \u001b[38;5;28;43mlen\u001b[39;49m\u001b[43m(\u001b[49m\u001b[43mj\u001b[49m\u001b[43m)\u001b[49m:\n\u001b[32m     18\u001b[39m     c.append(a[j])\n\u001b[32m     19\u001b[39m     j+=\u001b[32m1\u001b[39m\n",
      "\u001b[31mTypeError\u001b[39m: object of type 'int' has no len()"
     ]
    }
   ],
   "source": [
    "a=[1,3,5]\n",
    "b=[2,4,6]\n",
    "c = merge_two_list(a,b)\n",
    "c"
   ]
  },
  {
   "cell_type": "code",
   "execution_count": 9,
   "metadata": {},
   "outputs": [
    {
     "name": "stdout",
     "output_type": "stream",
     "text": [
      "0 fruit1 apple\n",
      "1 furit2 orange\n"
     ]
    }
   ],
   "source": [
    "pairs = {\"fruit1\":\"apple\",\"furit2\":\"orange\"}\n",
    "for index,(name,value) in enumerate(pairs.items()):\n",
    "    print(index,name,value)\n"
   ]
  },
  {
   "cell_type": "code",
   "execution_count": null,
   "metadata": {},
   "outputs": [],
   "source": []
  }
 ],
 "metadata": {
  "kernelspec": {
   "display_name": "Python 3",
   "language": "python",
   "name": "python3"
  },
  "language_info": {
   "codemirror_mode": {
    "name": "ipython",
    "version": 3
   },
   "file_extension": ".py",
   "mimetype": "text/x-python",
   "name": "python",
   "nbconvert_exporter": "python",
   "pygments_lexer": "ipython3",
   "version": "3.12.0"
  }
 },
 "nbformat": 4,
 "nbformat_minor": 2
}
