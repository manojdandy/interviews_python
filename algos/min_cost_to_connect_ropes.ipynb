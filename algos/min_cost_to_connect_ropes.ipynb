{
 "cells": [
  {
   "cell_type": "code",
   "execution_count": 1,
   "metadata": {},
   "outputs": [
    {
     "name": "stdout",
     "output_type": "stream",
     "text": [
      "Minimum total cost to connect ropes: 29\n"
     ]
    }
   ],
   "source": [
    "import heapq\n",
    "\n",
    "def min_cost_to_connect_ropes(arr):\n",
    "    heapq.heapify(arr)\n",
    "    total_cost = 0\n",
    "\n",
    "    while len(arr) > 1:\n",
    "        first = heapq.heappop(arr)\n",
    "        second = heapq.heappop(arr)\n",
    "        cost = first + second\n",
    "        total_cost += cost\n",
    "        heapq.heappush(arr, cost)\n",
    "\n",
    "    return total_cost\n",
    "\n",
    "# Example\n",
    "arr = [4, 3, 2, 6]\n",
    "print(\"Minimum total cost to connect ropes:\", min_cost_to_connect_ropes(arr))\n"
   ]
  },
  {
   "cell_type": "code",
   "execution_count": null,
   "metadata": {},
   "outputs": [],
   "source": []
  }
 ],
 "metadata": {
  "kernelspec": {
   "display_name": "Python 3",
   "language": "python",
   "name": "python3"
  },
  "language_info": {
   "codemirror_mode": {
    "name": "ipython",
    "version": 3
   },
   "file_extension": ".py",
   "mimetype": "text/x-python",
   "name": "python",
   "nbconvert_exporter": "python",
   "pygments_lexer": "ipython3",
   "version": "3.12.0"
  }
 },
 "nbformat": 4,
 "nbformat_minor": 2
}
