{
 "cells": [
  {
   "cell_type": "code",
   "execution_count": 22,
   "metadata": {},
   "outputs": [
    {
     "data": {
      "text/plain": [
       "True"
      ]
     },
     "execution_count": 22,
     "metadata": {},
     "output_type": "execute_result"
    }
   ],
   "source": [
    "import os\n",
    "from langchain_groq.chat_models import ChatGroq\n",
    "from dotenv import load_dotenv\n",
    "from langchain_community.vectorstores import FAISS\n",
    "from langchain_community.document_loaders import WebBaseLoader\n",
    "from langchain_community.document_loaders import PyPDFLoader\n",
    "from langchain_ollama.chat_models import ChatOllama\n",
    "from langgraph.graph.message import add_messages\n",
    "from langchain_neo4j import Neo4jGraph\n",
    "from langchain_core.documents import Document\n",
    "load_dotenv()"
   ]
  },
  {
   "cell_type": "code",
   "execution_count": 19,
   "metadata": {},
   "outputs": [
    {
     "data": {
      "text/plain": [
       "AIMessage(content='The capital of India is New Delhi.', additional_kwargs={}, response_metadata={'model': 'llama3.2:3b', 'created_at': '2025-05-01T16:13:33.706665Z', 'done': True, 'done_reason': 'stop', 'total_duration': 2235563334, 'load_duration': 1839225417, 'prompt_eval_count': 28, 'prompt_eval_duration': 298000000, 'eval_count': 9, 'eval_duration': 96000000, 'model_name': 'llama3.2:3b'}, id='run-5d7c01f0-5446-4716-85ec-1060bd39a751-0', usage_metadata={'input_tokens': 28, 'output_tokens': 9, 'total_tokens': 37})"
      ]
     },
     "execution_count": 19,
     "metadata": {},
     "output_type": "execute_result"
    }
   ],
   "source": [
    "os.environ[\"GROQ_API_KEY\"] = os.getenv(\"GROQ_API_KEY\")\n",
    "llm = ChatGroq(model=\"qwen-qwq-32b\")\n",
    "llm = ChatOllama(model=\"llama3.2:3b\")\n",
    "llm.invoke(\"capital of india\")"
   ]
  },
  {
   "cell_type": "code",
   "execution_count": 14,
   "metadata": {},
   "outputs": [],
   "source": [
    "#Graph DB Configuration\n",
    "NEO4J_URI = os.getenv(\"NEO4J_URI\")\n",
    "NEO4J_USERNAME = os.getenv(\"NEO4J_USERNAME\")\n",
    "NEO4J_PASSWORD = os.getenv(\"NEO4J_PASSWORD\")\n",
    "\n",
    "os.environ[\"NEO4J_URI\"] = os.getenv(\"NEO4J_URI\")\n",
    "os.environ[\"NEO4J_USERNAME\"] = os.getenv(\"NEO4J_USERNAME\")\n",
    "os.environ[\"NEO4J_PASSWORD\"] = os.getenv(\"NEO4J_PASSWORD\")\n"
   ]
  },
  {
   "cell_type": "code",
   "execution_count": 17,
   "metadata": {},
   "outputs": [],
   "source": [
    "graph = Neo4jGraph(\n",
    "    url = NEO4J_URI,\n",
    "    username=NEO4J_USERNAME,\n",
    "    password=NEO4J_PASSWORD\n",
    ")"
   ]
  },
  {
   "cell_type": "code",
   "execution_count": 25,
   "metadata": {},
   "outputs": [
    {
     "data": {
      "text/plain": [
       "[Document(metadata={}, page_content=\"\\nElon Reeve Musk (born June 28, 1971) is a businessman and investor known for his key roles in space\\ncompany SpaceX and automotive company Tesla, Inc. Other involvements include ownership of X Corp.,\\nformerly Twitter, and his role in the founding of The Boring Company, xAI, Neuralink and OpenAI.\\nHe is one of the wealthiest people in the world; as of July 2024, Forbes estimates his net worth to be\\nUS$221 billion.Musk was born in Pretoria to Maye and engineer Errol Musk, and briefly attended\\nthe University of Pretoria before immigrating to Canada at age 18, acquiring citizenship through\\nhis Canadian-born mother. Two years later, he matriculated at Queen's University at Kingston in Canada.\\nMusk later transferred to the University of Pennsylvania and received bachelor's degrees in economics\\n and physics. He moved to California in 1995 to attend Stanford University, but dropped out after\\n  two days and, with his brother Kimbal, co-founded online city guide software company Zip2.\\n \")]"
      ]
     },
     "execution_count": 25,
     "metadata": {},
     "output_type": "execute_result"
    }
   ],
   "source": [
    "text=\"\"\"\n",
    "Elon Reeve Musk (born June 28, 1971) is a businessman and investor known for his key roles in space\n",
    "company SpaceX and automotive company Tesla, Inc. Other involvements include ownership of X Corp.,\n",
    "formerly Twitter, and his role in the founding of The Boring Company, xAI, Neuralink and OpenAI.\n",
    "He is one of the wealthiest people in the world; as of July 2024, Forbes estimates his net worth to be\n",
    "US$221 billion.Musk was born in Pretoria to Maye and engineer Errol Musk, and briefly attended\n",
    "the University of Pretoria before immigrating to Canada at age 18, acquiring citizenship through\n",
    "his Canadian-born mother. Two years later, he matriculated at Queen's University at Kingston in Canada.\n",
    "Musk later transferred to the University of Pennsylvania and received bachelor's degrees in economics\n",
    " and physics. He moved to California in 1995 to attend Stanford University, but dropped out after\n",
    "  two days and, with his brother Kimbal, co-founded online city guide software company Zip2.\n",
    " \"\"\"\n",
    "documents=[Document(page_content=text)]\n",
    "documents"
   ]
  },
  {
   "cell_type": "code",
   "execution_count": 26,
   "metadata": {},
   "outputs": [],
   "source": [
    "from langchain_experimental.graph_transformers import LLMGraphTransformer"
   ]
  },
  {
   "cell_type": "code",
   "execution_count": 28,
   "metadata": {},
   "outputs": [
    {
     "data": {
      "text/plain": [
       "<langchain_experimental.graph_transformers.llm.LLMGraphTransformer at 0x16a2af2c0>"
      ]
     },
     "execution_count": 28,
     "metadata": {},
     "output_type": "execute_result"
    }
   ],
   "source": [
    "llm_transformer = LLMGraphTransformer(llm=llm)\n",
    "llm_transformer"
   ]
  },
  {
   "cell_type": "code",
   "execution_count": 30,
   "metadata": {},
   "outputs": [],
   "source": [
    "graph_documents = llm_transformer.convert_to_graph_documents(documents=documents)\n",
    "graph_documents"
   ]
  },
  {
   "cell_type": "code",
   "execution_count": 31,
   "metadata": {},
   "outputs": [
    {
     "data": {
      "text/plain": [
       "[GraphDocument(nodes=[Node(id='Elon Reeve Musk', type='Person', properties={}), Node(id='Spacex', type='Company', properties={}), Node(id='Tesla, Inc.', type='Company', properties={}), Node(id='X Corp.', type='Company', properties={}), Node(id='Twitter', type='Company', properties={}), Node(id='The Boring Company', type='Company', properties={}), Node(id='Xai', type='Company', properties={}), Node(id='Neuralink', type='Company', properties={}), Node(id='Openai', type='Company', properties={}), Node(id='Forbes', type='Organization', properties={}), Node(id='Maye Musk', type='Person', properties={}), Node(id='Errol Musk', type='Person', properties={}), Node(id='University Of Pretoria', type='Institution', properties={}), Node(id=\"Queen'S University At Kingston\", type='Institution', properties={}), Node(id='University Of Pennsylvania', type='Institution', properties={}), Node(id='Stanford University', type='Institution', properties={})], relationships=[Relationship(source=Node(id='Elon Reeve Musk', type='Person', properties={}), target=Node(id='Spacex', type='Company', properties={}), type='WORKS_AT', properties={}), Relationship(source=Node(id='Elon Reeve Musk', type='Person', properties={}), target=Node(id='Tesla, Inc.', type='Company', properties={}), type='WORKS_AT', properties={}), Relationship(source=Node(id='Elon Reeve Musk', type='Person', properties={}), target=Node(id='X Corp.', type='Company', properties={}), type='OWNS', properties={}), Relationship(source=Node(id='Elon Reeve Musk', type='Person', properties={}), target=Node(id='Twitter', type='Company', properties={}), type='OWNS', properties={}), Relationship(source=Node(id='Elon Reeve Musk', type='Person', properties={}), target=Node(id='The Boring Company', type='Company', properties={}), type='FOUNDING_MEMBER', properties={}), Relationship(source=Node(id='Elon Reeve Musk', type='Person', properties={}), target=Node(id='Xai', type='Company', properties={}), type='FOUNDING_MEMBER', properties={}), Relationship(source=Node(id='Elon Reeve Musk', type='Person', properties={}), target=Node(id='Neuralink', type='Company', properties={}), type='FOUNDING_MEMBER', properties={}), Relationship(source=Node(id='Elon Reeve Musk', type='Person', properties={}), target=Node(id='Openai', type='Company', properties={}), type='FOUNDING_MEMBER', properties={}), Relationship(source=Node(id='Forbes', type='Organization', properties={}), target=Node(id='Elon Reeve Musk', type='Person', properties={}), type='ESTIMATES_NET_WORTH', properties={}), Relationship(source=Node(id='Maye Musk', type='Person', properties={}), target=Node(id='Elon Reeve Musk', type='Person', properties={}), type='PARENT', properties={}), Relationship(source=Node(id='Errol Musk', type='Person', properties={}), target=Node(id='Elon Reeve Musk', type='Person', properties={}), type='PARENT', properties={}), Relationship(source=Node(id='University Of Pretoria', type='Institution', properties={}), target=Node(id='Elon Reeve Musk', type='Person', properties={}), type='EDUCATIONAL_INSTITUTION', properties={}), Relationship(source=Node(id=\"Queen'S University At Kingston\", type='Institution', properties={}), target=Node(id='Elon Reeve Musk', type='Person', properties={}), type='EDUCATIONAL_INSTITUTION', properties={}), Relationship(source=Node(id='University Of Pennsylvania', type='Institution', properties={}), target=Node(id='Elon Reeve Musk', type='Person', properties={}), type='EDUCATIONAL_INSTITUTION', properties={}), Relationship(source=Node(id='Stanford University', type='Institution', properties={}), target=Node(id='Elon Reeve Musk', type='Person', properties={}), type='EDUCATIONAL_INSTITUTION', properties={})], source=Document(metadata={}, page_content=\"\\nElon Reeve Musk (born June 28, 1971) is a businessman and investor known for his key roles in space\\ncompany SpaceX and automotive company Tesla, Inc. Other involvements include ownership of X Corp.,\\nformerly Twitter, and his role in the founding of The Boring Company, xAI, Neuralink and OpenAI.\\nHe is one of the wealthiest people in the world; as of July 2024, Forbes estimates his net worth to be\\nUS$221 billion.Musk was born in Pretoria to Maye and engineer Errol Musk, and briefly attended\\nthe University of Pretoria before immigrating to Canada at age 18, acquiring citizenship through\\nhis Canadian-born mother. Two years later, he matriculated at Queen's University at Kingston in Canada.\\nMusk later transferred to the University of Pennsylvania and received bachelor's degrees in economics\\n and physics. He moved to California in 1995 to attend Stanford University, but dropped out after\\n  two days and, with his brother Kimbal, co-founded online city guide software company Zip2.\\n \"))]"
      ]
     },
     "execution_count": 31,
     "metadata": {},
     "output_type": "execute_result"
    }
   ],
   "source": [
    "graph_documents"
   ]
  },
  {
   "cell_type": "code",
   "execution_count": 32,
   "metadata": {},
   "outputs": [
    {
     "data": {
      "text/plain": [
       "[Node(id='Elon Reeve Musk', type='Person', properties={}),\n",
       " Node(id='Spacex', type='Company', properties={}),\n",
       " Node(id='Tesla, Inc.', type='Company', properties={}),\n",
       " Node(id='X Corp.', type='Company', properties={}),\n",
       " Node(id='Twitter', type='Company', properties={}),\n",
       " Node(id='The Boring Company', type='Company', properties={}),\n",
       " Node(id='Xai', type='Company', properties={}),\n",
       " Node(id='Neuralink', type='Company', properties={}),\n",
       " Node(id='Openai', type='Company', properties={}),\n",
       " Node(id='Forbes', type='Organization', properties={}),\n",
       " Node(id='Maye Musk', type='Person', properties={}),\n",
       " Node(id='Errol Musk', type='Person', properties={}),\n",
       " Node(id='University Of Pretoria', type='Institution', properties={}),\n",
       " Node(id=\"Queen'S University At Kingston\", type='Institution', properties={}),\n",
       " Node(id='University Of Pennsylvania', type='Institution', properties={}),\n",
       " Node(id='Stanford University', type='Institution', properties={})]"
      ]
     },
     "execution_count": 32,
     "metadata": {},
     "output_type": "execute_result"
    }
   ],
   "source": [
    "graph_documents[0].nodes"
   ]
  },
  {
   "cell_type": "code",
   "execution_count": 34,
   "metadata": {},
   "outputs": [
    {
     "data": {
      "text/plain": [
       "[Relationship(source=Node(id='Elon Reeve Musk', type='Person', properties={}), target=Node(id='Spacex', type='Company', properties={}), type='WORKS_AT', properties={}),\n",
       " Relationship(source=Node(id='Elon Reeve Musk', type='Person', properties={}), target=Node(id='Tesla, Inc.', type='Company', properties={}), type='WORKS_AT', properties={}),\n",
       " Relationship(source=Node(id='Elon Reeve Musk', type='Person', properties={}), target=Node(id='X Corp.', type='Company', properties={}), type='OWNS', properties={}),\n",
       " Relationship(source=Node(id='Elon Reeve Musk', type='Person', properties={}), target=Node(id='Twitter', type='Company', properties={}), type='OWNS', properties={}),\n",
       " Relationship(source=Node(id='Elon Reeve Musk', type='Person', properties={}), target=Node(id='The Boring Company', type='Company', properties={}), type='FOUNDING_MEMBER', properties={}),\n",
       " Relationship(source=Node(id='Elon Reeve Musk', type='Person', properties={}), target=Node(id='Xai', type='Company', properties={}), type='FOUNDING_MEMBER', properties={}),\n",
       " Relationship(source=Node(id='Elon Reeve Musk', type='Person', properties={}), target=Node(id='Neuralink', type='Company', properties={}), type='FOUNDING_MEMBER', properties={}),\n",
       " Relationship(source=Node(id='Elon Reeve Musk', type='Person', properties={}), target=Node(id='Openai', type='Company', properties={}), type='FOUNDING_MEMBER', properties={}),\n",
       " Relationship(source=Node(id='Forbes', type='Organization', properties={}), target=Node(id='Elon Reeve Musk', type='Person', properties={}), type='ESTIMATES_NET_WORTH', properties={}),\n",
       " Relationship(source=Node(id='Maye Musk', type='Person', properties={}), target=Node(id='Elon Reeve Musk', type='Person', properties={}), type='PARENT', properties={}),\n",
       " Relationship(source=Node(id='Errol Musk', type='Person', properties={}), target=Node(id='Elon Reeve Musk', type='Person', properties={}), type='PARENT', properties={}),\n",
       " Relationship(source=Node(id='University Of Pretoria', type='Institution', properties={}), target=Node(id='Elon Reeve Musk', type='Person', properties={}), type='EDUCATIONAL_INSTITUTION', properties={}),\n",
       " Relationship(source=Node(id=\"Queen'S University At Kingston\", type='Institution', properties={}), target=Node(id='Elon Reeve Musk', type='Person', properties={}), type='EDUCATIONAL_INSTITUTION', properties={}),\n",
       " Relationship(source=Node(id='University Of Pennsylvania', type='Institution', properties={}), target=Node(id='Elon Reeve Musk', type='Person', properties={}), type='EDUCATIONAL_INSTITUTION', properties={}),\n",
       " Relationship(source=Node(id='Stanford University', type='Institution', properties={}), target=Node(id='Elon Reeve Musk', type='Person', properties={}), type='EDUCATIONAL_INSTITUTION', properties={})]"
      ]
     },
     "execution_count": 34,
     "metadata": {},
     "output_type": "execute_result"
    }
   ],
   "source": [
    "graph_documents[0].relationships"
   ]
  },
  {
   "cell_type": "code",
   "execution_count": 39,
   "metadata": {},
   "outputs": [
    {
     "data": {
      "text/plain": [
       "<bound method NDFrame.head of      movieId    released                        title  \\\n",
       "0          1  1995-11-22                    Toy Story   \n",
       "1          2  1995-12-15                      Jumanji   \n",
       "2          3  1995-12-22             Grumpier Old Men   \n",
       "3          4  1995-12-22            Waiting to Exhale   \n",
       "4          5  1995-12-08  Father of the Bride Part II   \n",
       "..       ...         ...                          ...   \n",
       "294      329  1994-11-18       Star Trek: Generations   \n",
       "295      330  1995-05-24          Tales from the Hood   \n",
       "296      331  1994-12-02                    Tom & Viv   \n",
       "297      332  1995-04-28        Village of the Damned   \n",
       "298      333  1995-03-31                    Tommy Boy   \n",
       "\n",
       "                                                actors         director  \\\n",
       "0           Jim Varney|Tim Allen|Tom Hanks|Don Rickles    John Lasseter   \n",
       "1    Robin Williams|Bradley Pierce|Kirsten Dunst|Jo...     Joe Johnston   \n",
       "2    Walter Matthau|Ann-Margret|Jack Lemmon|Sophia ...    Howard Deutch   \n",
       "3    Whitney Houston|Lela Rochon|Angela Bassett|Lor...  Forest Whitaker   \n",
       "4    Steve Martin|Kimberly Williams-Paisley|Diane K...    Charles Shyer   \n",
       "..                                                 ...              ...   \n",
       "294  Patrick Stewart|Brent Spiner|Jonathan Frakes|L...     David Carson   \n",
       "295  Samuel Monroe Jr.|De'aundre Bonds|Joe Torry|Cl...   Rusty Cundieff   \n",
       "296  Willem Dafoe|Miranda Richardson|Tim Dutton|Ros...    Brian Gilbert   \n",
       "297  Christopher Reeve|Michael Paré|Kirstie Alley|L...   John Carpenter   \n",
       "298    Chris Farley|Bo Derek|David Spade|Brian Dennehy      Peter Segal   \n",
       "\n",
       "                                          genres  imdbRating  \n",
       "0    Adventure|Animation|Children|Comedy|Fantasy         8.3  \n",
       "1                     Adventure|Children|Fantasy         6.9  \n",
       "2                                 Comedy|Romance         6.6  \n",
       "3                           Romance|Drama|Comedy         5.6  \n",
       "4                                         Comedy         5.9  \n",
       "..                                           ...         ...  \n",
       "294                       Drama|Sci-Fi|Adventure         6.6  \n",
       "295                          Action|Crime|Horror         6.1  \n",
       "296                                        Drama         6.5  \n",
       "297                                Horror|Sci-Fi         5.6  \n",
       "298                                       Comedy         7.0  \n",
       "\n",
       "[299 rows x 7 columns]>"
      ]
     },
     "execution_count": 39,
     "metadata": {},
     "output_type": "execute_result"
    }
   ],
   "source": [
    "import pandas as pd \n",
    "df = pd.read_csv(\"../datasets/movies_small.csv\")\n",
    "df.head"
   ]
  },
  {
   "cell_type": "code",
   "execution_count": null,
   "metadata": {},
   "outputs": [],
   "source": []
  }
 ],
 "metadata": {
  "kernelspec": {
   "display_name": "Python 3",
   "language": "python",
   "name": "python3"
  },
  "language_info": {
   "codemirror_mode": {
    "name": "ipython",
    "version": 3
   },
   "file_extension": ".py",
   "mimetype": "text/x-python",
   "name": "python",
   "nbconvert_exporter": "python",
   "pygments_lexer": "ipython3",
   "version": "3.12.0"
  }
 },
 "nbformat": 4,
 "nbformat_minor": 2
}
