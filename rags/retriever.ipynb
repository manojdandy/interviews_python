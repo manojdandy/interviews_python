{
 "cells": [
  {
   "cell_type": "code",
   "execution_count": 8,
   "metadata": {},
   "outputs": [],
   "source": [
    "import os\n",
    "from dotenv import load_dotenv\n",
    "load_dotenv()\n",
    "\n",
    "os.environ[\"GROQ_API_KEY\"]=os.getenv(\"GROQ_API_KEY\")"
   ]
  },
  {
   "cell_type": "code",
   "execution_count": 10,
   "metadata": {},
   "outputs": [
    {
     "data": {
      "text/plain": [
       "AIMessage(content=\"\\n<think>\\nOkay, the user is asking for the capital of India. Let me think. I remember that India's capital isn't Mumbai, even though Mumbai is a major city. Wait, isn't it New Delhi? But sometimes people get confused because Delhi and New Delhi are used interchangeably. Let me make sure. From what I've studied, after India gained independence, they moved the capital from Calcutta to Delhi. But New Delhi is a part of the larger Delhi metropolitan area. So the capital city is New Delhi. But I should double-check to be certain. Let me think of some sources. The government buildings like the Parliament and the President's house are in New Delhi. Yeah, I'm pretty sure that's right. So the answer should be New Delhi.\\n</think>\\n\\nThe capital of India is **New Delhi**. \\n\\nNew Delhi serves as the administrative and political center of the country, housing key government institutions such as the Parliament of India, the Rashtrapati Bhavan (President's residence), and the Supreme Court. It is part of the larger National Capital Territory (NCT) of Delhi.\", additional_kwargs={}, response_metadata={'token_usage': {'completion_tokens': 225, 'prompt_tokens': 17, 'total_tokens': 242, 'completion_time': 0.551981569, 'prompt_time': 0.004517293, 'queue_time': 0.869315662, 'total_time': 0.556498862}, 'model_name': 'qwen-qwq-32b', 'system_fingerprint': 'fp_512a3da6bb', 'finish_reason': 'stop', 'logprobs': None}, id='run-cbcbe1a0-63f1-4710-ab4a-24d697f14c29-0', usage_metadata={'input_tokens': 17, 'output_tokens': 225, 'total_tokens': 242})"
      ]
     },
     "execution_count": 10,
     "metadata": {},
     "output_type": "execute_result"
    }
   ],
   "source": [
    "from langchain_groq import ChatGroq\n",
    "llm = ChatGroq(model=\"qwen-qwq-32b\")\n",
    "llm.invoke(\"what is the capital of india?\")"
   ]
  },
  {
   "cell_type": "code",
   "execution_count": 15,
   "metadata": {},
   "outputs": [
    {
     "data": {
      "text/plain": [
       "0.021763162687420845"
      ]
     },
     "execution_count": 15,
     "metadata": {},
     "output_type": "execute_result"
    }
   ],
   "source": [
    "from langchain_community.embeddings import HuggingFaceEmbeddings\n",
    "embeddings = HuggingFaceEmbeddings(model_name=\"sentence-transformers/all-mpnet-base-v2\")\n",
    "embeddings.embed_query(\"hell\")[-1]"
   ]
  },
  {
   "cell_type": "code",
   "execution_count": 20,
   "metadata": {},
   "outputs": [],
   "source": [
    "from langchain_community.embeddings import OllamaEmbeddings\n",
    "test_doc = \"hi embeddings!\"\n",
    "ollama_embeddings = OllamaEmbeddings(model=\"llama3\")\n",
    "#ollama_embeddings.embed_documents(test_doc)"
   ]
  },
  {
   "cell_type": "code",
   "execution_count": 22,
   "metadata": {},
   "outputs": [],
   "source": [
    "from langchain_community.vectorstores import FAISS"
   ]
  },
  {
   "cell_type": "code",
   "execution_count": null,
   "metadata": {},
   "outputs": [],
   "source": [
    "from langchain_core.documents import Document\n",
    "\n",
    "document_1 = Document(\n",
    "    page_content=\"I had chocalate chip pancakes and scrambled eggs for breakfast this morning.\",\n",
    "    metadata={\"source\": \"tweet\"},\n",
    ")\n",
    "documents = [ document_1]\n",
    "db = FAISS.from_documents(documents,ollama_embeddings)\n",
    "db.add_documents()"
   ]
  },
  {
   "cell_type": "code",
   "execution_count": 26,
   "metadata": {},
   "outputs": [
    {
     "data": {
      "text/plain": [
       "['f54a9b1c-6e33-455e-841b-4b8835d85dac']"
      ]
     },
     "execution_count": 26,
     "metadata": {},
     "output_type": "execute_result"
    }
   ],
   "source": [
    "from uuid import uuid4\n",
    "from langchain_core.documents import Document\n",
    "\n",
    "document_1 = Document(\n",
    "    page_content=\"I had chocalate chip pancakes and scrambled eggs for breakfast this morning.\",\n",
    "    metadata={\"source\": \"tweet\"},\n",
    ")\n",
    "\n",
    "document_2 = Document(\n",
    "    page_content=\"The weather forecast for tomorrow is cloudy and overcast, with a high of 62 degrees.\",\n",
    "    metadata={\"source\": \"news\"},\n",
    ")\n",
    "\n",
    "\n",
    "documents = [\n",
    "    document_2\n",
    "]\n",
    "uuids = [str(uuid4()) for _ in range(len(documents))]\n",
    "\n",
    "db.add_documents(documents=documents, ids=uuids)"
   ]
  },
  {
   "cell_type": "code",
   "execution_count": 28,
   "metadata": {},
   "outputs": [
    {
     "name": "stdout",
     "output_type": "stream",
     "text": [
      "* [SIM=19674.109375] The weather forecast for tomorrow is cloudy and overcast, with a high of 62 degrees. [{'source': 'news'}]\n"
     ]
    }
   ],
   "source": [
    "results = db.similarity_search_with_score(\n",
    "    \"Will it be hot tomorrow?\", k=1, filter={\"source\": \"news\"}\n",
    ")\n",
    "for res, score in results:\n",
    "    print(f\"* [SIM={score:3f}] {res.page_content} [{res.metadata}]\")"
   ]
  },
  {
   "cell_type": "code",
   "execution_count": 39,
   "metadata": {},
   "outputs": [],
   "source": [
    "from langchain_core.prompts import ChatPromptTemplate\n",
    "prompt = ChatPromptTemplate.from_template(\n",
    "    \"\"\"\n",
    "    you are good weather assistent \n",
    "        <context>\n",
    "    {context}\n",
    "    </context>\n",
    "    Question : {input}\n",
    "    \"\"\"\n",
    ")"
   ]
  },
  {
   "cell_type": "code",
   "execution_count": 33,
   "metadata": {},
   "outputs": [
    {
     "data": {
      "text/plain": [
       "'Human: \\n    you are good weather assistent \\n    Question : what will be the weather tomorrow\\n    '"
      ]
     },
     "execution_count": 33,
     "metadata": {},
     "output_type": "execute_result"
    }
   ],
   "source": [
    "input_text = \"what will be the weather tomorrow\"\n",
    "prompt.format(input=input_text)"
   ]
  },
  {
   "cell_type": "code",
   "execution_count": 34,
   "metadata": {},
   "outputs": [],
   "source": [
    "from langchain.chains.combine_documents import create_stuff_documents_chain"
   ]
  },
  {
   "cell_type": "code",
   "execution_count": 41,
   "metadata": {},
   "outputs": [
    {
     "data": {
      "text/plain": [
       "RunnableBinding(bound=RunnableBinding(bound=RunnableAssign(mapper={\n",
       "  context: RunnableLambda(format_docs)\n",
       "}), kwargs={}, config={'run_name': 'format_inputs'}, config_factories=[])\n",
       "| ChatPromptTemplate(input_variables=['context', 'input'], input_types={}, partial_variables={}, messages=[HumanMessagePromptTemplate(prompt=PromptTemplate(input_variables=['context', 'input'], input_types={}, partial_variables={}, template='\\n    you are good weather assistent \\n        <context>\\n    {context}\\n    </context>\\n    Question : {input}\\n    '), additional_kwargs={})])\n",
       "| ChatGroq(client=<groq.resources.chat.completions.Completions object at 0x10825aa20>, async_client=<groq.resources.chat.completions.AsyncCompletions object at 0x1085681d0>, model_name='qwen-qwq-32b', model_kwargs={}, groq_api_key=SecretStr('**********'))\n",
       "| StrOutputParser(), kwargs={}, config={'run_name': 'stuff_documents_chain'}, config_factories=[])"
      ]
     },
     "execution_count": 41,
     "metadata": {},
     "output_type": "execute_result"
    }
   ],
   "source": [
    "document_chain = create_stuff_documents_chain(llm,prompt=prompt)\n",
    "document_chain"
   ]
  },
  {
   "cell_type": "code",
   "execution_count": 42,
   "metadata": {},
   "outputs": [
    {
     "data": {
      "text/plain": [
       "VectorStoreRetriever(tags=['FAISS', 'OllamaEmbeddings'], vectorstore=<langchain_community.vectorstores.faiss.FAISS object at 0x15d552210>, search_kwargs={})"
      ]
     },
     "execution_count": 42,
     "metadata": {},
     "output_type": "execute_result"
    }
   ],
   "source": [
    "retriever = db.as_retriever()\n",
    "retriever"
   ]
  },
  {
   "cell_type": "code",
   "execution_count": 43,
   "metadata": {},
   "outputs": [],
   "source": [
    "from langchain.chains import create_retrieval_chain\n",
    "retrieval_chains = create_retrieval_chain(retriever,document_chain)"
   ]
  },
  {
   "cell_type": "code",
   "execution_count": 46,
   "metadata": {},
   "outputs": [],
   "source": [
    "response = retrieval_chains.invoke({\"input\":{\"what will be weather tomorrow\"}})"
   ]
  },
  {
   "cell_type": "code",
   "execution_count": 47,
   "metadata": {},
   "outputs": [
    {
     "data": {
      "text/plain": [
       "'\\n<think>\\nOkay, the user is asking about tomorrow\\'s weather. Let me check the context they provided. In the context, the first line says the forecast is cloudy and overcast with a high of 62 degrees. The second part is about their breakfast, which doesn\\'t relate to the weather.\\n\\nSo the question is straightforward. The user wants to know the weather for tomorrow. The answer is right there in the first sentence of the context. I just need to restate that information clearly. I should make sure not to include any extra details unless necessary. The temperature is 62 degrees, and the conditions are cloudy and overcast. \\n\\nWait, should I mention both cloudy and overcast? The original says \"cloudy and overcast,\" so maybe they\\'re emphasizing that it\\'s fully overcast. I\\'ll include both terms to be accurate. Also, the user might appreciate a friendly tone, so maybe start with \"Tomorrow\\'s weather will be...\" and end with a question mark if it\\'s a statement. Let me confirm the question again. The user\\'s question is exactly \"what will be weather tomorrow,\" so the answer needs to directly address that. \\n\\nNo contradictions in the context, so the answer is straightforward. I\\'ll present the information clearly and concisely.\\n</think>\\n\\nThe weather tomorrow will be cloudy and overcast, with a high temperature of 62 degrees. Let me know if you need further details!'"
      ]
     },
     "execution_count": 47,
     "metadata": {},
     "output_type": "execute_result"
    }
   ],
   "source": [
    "response['answer']"
   ]
  },
  {
   "cell_type": "code",
   "execution_count": null,
   "metadata": {},
   "outputs": [],
   "source": []
  }
 ],
 "metadata": {
  "kernelspec": {
   "display_name": "Python 3",
   "language": "python",
   "name": "python3"
  },
  "language_info": {
   "codemirror_mode": {
    "name": "ipython",
    "version": 3
   },
   "file_extension": ".py",
   "mimetype": "text/x-python",
   "name": "python",
   "nbconvert_exporter": "python",
   "pygments_lexer": "ipython3",
   "version": "3.12.0"
  }
 },
 "nbformat": 4,
 "nbformat_minor": 2
}
