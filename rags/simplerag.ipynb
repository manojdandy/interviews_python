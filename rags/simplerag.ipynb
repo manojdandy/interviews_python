{
 "cells": [
  {
   "cell_type": "code",
   "execution_count": 4,
   "metadata": {},
   "outputs": [
    {
     "data": {
      "text/plain": [
       "[Document(metadata={'source': 'speech.txt'}, page_content='The world must be made safe for democracy. Its peace must be planted upon the tested foundations of political liberty. We have no selfish ends to serve. We desire no conquest, no dominion. We seek no indemnities for ourselves, no material compensation for the sacrifices we shall freely make. We are but one of the champions of the rights of mankind. We shall be satisfied when those rights have been made as secure as the faith and the freedom of nations can make them.\\n\\nJust because we fight without rancor and without selfish object, seeking nothing for ourselves but what we shall wish to share with all free peoples, we shall, I feel confident, conduct our operations as belligerents without passion and ourselves observe with proud punctilio the principles of right and of fair play we profess to be fighting for.\\n\\n…\\n\\nIt will be all the easier for us to conduct ourselves as belligerents in a high spirit of right and fairness because we act without animus, not in enmity toward a people or with the desire to bring any injury or disadvantage upon them, but only in armed opposition to an irresponsible government which has thrown aside all considerations of humanity and of right and is running amuck. We are, let me say again, the sincere friends of the German people, and shall desire nothing so much as the early reestablishment of intimate relations of mutual advantage between us—however hard it may be for them, for the time being, to believe that this is spoken from our hearts.\\n\\nWe have borne with their present government through all these bitter months because of that friendship—exercising a patience and forbearance which would otherwise have been impossible. We shall, happily, still have an opportunity to prove that friendship in our daily attitude and actions toward the millions of men and women of German birth and native sympathy who live among us and share our life, and we shall be proud to prove it toward all who are in fact loyal to their neighbors and to the government in the hour of test. They are, most of them, as true and loyal Americans as if they had never known any other fealty or allegiance. They will be prompt to stand with us in rebuking and restraining the few who may be of a different mind and purpose. If there should be disloyalty, it will be dealt with with a firm hand of stern repression; but, if it lifts its head at all, it will lift it only here and there and without countenance except from a lawless and malignant few.\\n\\nIt is a distressing and oppressive duty, gentlemen of the Congress, which I have performed in thus addressing you. There are, it may be, many months of fiery trial and sacrifice ahead of us. It is a fearful thing to lead this great peaceful people into war, into the most terrible and disastrous of all wars, civilization itself seeming to be in the balance. But the right is more precious than peace, and we shall fight for the things which we have always carried nearest our hearts—for democracy, for the right of those who submit to authority to have a voice in their own governments, for the rights and liberties of small nations, for a universal dominion of right by such a concert of free peoples as shall bring peace and safety to all nations and make the world itself at last free.\\n\\nTo such a task we can dedicate our lives and our fortunes, everything that we are and everything that we have, with the pride of those who know that the day has come when America is privileged to spend her blood and her might for the principles that gave her birth and happiness and the peace which she has treasured. God helping her, she can do no other.')]"
      ]
     },
     "execution_count": 4,
     "metadata": {},
     "output_type": "execute_result"
    }
   ],
   "source": [
    "#data ingestion\n",
    "# how to read from a pdf,text,web etc\n",
    "from langchain_community.document_loaders import TextLoader\n",
    "loader = TextLoader(\"speech.txt\")\n",
    "text_docs = loader.load()\n",
    "text_docs\n"
   ]
  },
  {
   "cell_type": "code",
   "execution_count": 8,
   "metadata": {},
   "outputs": [],
   "source": [
    "import os\n",
    "from dotenv import load_dotenv\n",
    "load_dotenv()\n",
    "\n",
    "os.environ[\"OPENAI_API_KEY\"]=os.getenv(\"OPENAI_API_KEY\")\n",
    "os.environ[\"GROQ_API_KEY\"]=os.getenv(\"GROQ_API_KEY\")"
   ]
  },
  {
   "cell_type": "code",
   "execution_count": 15,
   "metadata": {},
   "outputs": [
    {
     "data": {
      "text/plain": [
       "[Document(metadata={'source': 'https://langchain-ai.github.io/langgraph/concepts/#concepts'}, page_content='\\n\\n\\n\\n\\n\\n    LangGraph\\n  \\n\\n\\n\\n\\n\\n    Guides\\n  \\n\\n\\n\\n\\n\\n    Concepts\\n  \\n\\n\\n\\n\\n\\n\\n\\n\\n\\n\\nConceptual Guide¶\\nThis guide provides explanations of the key concepts behind the LangGraph framework and AI applications more broadly.\\nWe recommend that you go through at least the Quickstart before diving into the conceptual guide. This will provide practical context that will make it easier to understand the concepts discussed here.\\nThe conceptual guide does not cover step-by-step instructions or specific implementation examples — those are found in the Tutorials and How-to guides. For detailed reference material, please see the API reference.\\nLangGraph¶\\nHigh Level¶\\n\\nWhy LangGraph?: A high-level overview of LangGraph and its goals.\\n\\nConcepts¶\\n\\nLangGraph Glossary: LangGraph workflows are designed as graphs, with nodes representing different components and edges representing the flow of information between them. This guide provides an overview of the key concepts associated with LangGraph graph primitives.\\nCommon Agentic Patterns: An agent uses an LLM to pick its own control flow to solve more complex problems! Agents are a key building block in many LLM applications. This guide explains the different types of agent architectures and how they can be used to control the flow of an application.\\nMulti-Agent Systems: Complex LLM applications can often be broken down into multiple agents, each responsible for a different part of the application. This guide explains common patterns for building multi-agent systems.\\nBreakpoints: Breakpoints allow pausing the execution of a graph at specific points. Breakpoints allow stepping through graph execution for debugging purposes.\\nHuman-in-the-Loop: Explains different ways of integrating human feedback into a LangGraph application.\\nTime Travel: Time travel allows you to replay past actions in your LangGraph application to explore alternative paths and debug issues.\\nPersistence: LangGraph has a built-in persistence layer, implemented through checkpointers. This persistence layer helps to support powerful capabilities like human-in-the-loop, memory, time travel, and fault-tolerance.\\nMemory: Memory in AI applications refers to the ability to process, store, and effectively recall information from past interactions. With memory, your agents can learn from feedback and adapt to users\\' preferences.\\nStreaming: Streaming is crucial for enhancing the responsiveness of applications built on LLMs. By displaying output progressively, even before a complete response is ready, streaming significantly improves user experience (UX), particularly when dealing with the latency of LLMs.\\nFunctional API: @entrypoint and @task decorators that allow you to add LangGraph functionality to an existing codebase.\\nDurable Execution: LangGraph\\'s built-in persistence layer provides durable execution for workflows, ensuring that the state of each execution step is saved to a durable store. \\nPregel: Pregel is LangGraph\\'s runtime, which is responsible for managing the execution of LangGraph applications.\\nFAQ: Frequently asked questions about LangGraph.\\n\\nLangGraph Platform¶\\nLangGraph Platform is a commercial solution for deploying agentic applications in production, built on the open-source LangGraph framework.\\nThe LangGraph Platform offers a few different deployment options described in the deployment options guide.\\n\\nTip\\n\\nLangGraph is an MIT-licensed open-source library, which we are committed to maintaining and growing for the community.\\nYou can always deploy LangGraph applications on your own infrastructure using the open-source LangGraph project without using LangGraph Platform.\\n\\n\\nHigh Level¶\\n\\nWhy LangGraph Platform?: The LangGraph platform is an opinionated way to deploy and manage LangGraph applications. This guide provides an overview of the key features and concepts behind LangGraph Platform.\\nPlatform Architecture: A high-level overview of the architecture of the LangGraph Platform.\\nScalability and Resilience: LangGraph Platform is designed to be scalable and resilient. This document explains how the platform achieves this.\\nDeployment Options: LangGraph Platform offers four deployment options: Cloud SaaS, Self-Hosted Data Plane, Self-Hosted Control Plane, and Standalone Container. This guide explains the differences between these options, and which Plans they are available on.\\nPlans: LangGraph Platforms offer three different plans: Developer, Plus, Enterprise. This guide explains the differences between these options, what deployment options are available for each, and how to sign up for each one.\\nTemplate Applications: Reference applications designed to help you get started quickly when building with LangGraph.\\n\\nComponents¶\\nThe LangGraph Platform comprises several components that work together to support the deployment and management of LangGraph applications:\\n\\nLangGraph Server: The LangGraph Server is designed to support a wide range of agentic application use cases, from background processing to real-time interactions.\\nLangGraph Studio: LangGraph Studio is a specialized IDE that can connect to a LangGraph Server to enable visualization, interaction, and debugging of the application locally.\\nLangGraph CLI: LangGraph CLI is a command-line interface that helps to interact with a local LangGraph\\nPython/JS SDK: The Python/JS SDK provides a programmatic way to interact with deployed LangGraph Applications.\\nRemote Graph: A RemoteGraph allows you to interact with any deployed LangGraph application as though it were running locally.\\nLangGraph Control Plane: The LangGraph Control Plane refers to the Control Plane UI where users create and update LangGraph Servers and the Control Plane APIs that support the UI experience.\\nLangGraph Data Plane: The LangGraph Data Plane refers to LangGraph Servers, the corresponding infrastructure for each server, and the \"listener\" application that continuously polls for updates from the LangGraph Control Plane.\\n\\nLangGraph Server¶\\n\\nApplication Structure: A LangGraph application consists of one or more graphs, a LangGraph API Configuration file (langgraph.json), a file that specifies dependencies, and environment variables.\\nAssistants: Assistants are a way to save and manage different configurations of your LangGraph applications.\\nWeb-hooks: Webhooks allow your running LangGraph application to send data to external services on specific events.\\nCron Jobs: Cron jobs are a way to schedule tasks to run at specific times in your LangGraph application.\\nDouble Texting: Double texting is a common issue in LLM applications where users may send multiple messages before the graph has finished running. This guide explains how to handle double texting with LangGraph Deploy.\\nAuthentication & Access Control: Learn about options for authentication and access control when deploying the LangGraph Platform.\\n\\nDeployment Options¶\\n\\nCloud SaaS(Beta): Connect to your GitHub repositories and deploy LangGraph Servers to LangChain\\'s cloud. We manage everything.\\nSelf-Hosted Data Plane(Beta): Create deployments from the Control Plane UI and deploy LangGraph Servers to your cloud. We manage the control plane, you manage the deployments.\\nSelf-Hosted Control Plane(Beta): Create deployments from a self-hosted Control Plane UI and deploy LangGraph Servers to your cloud. You manage everything.\\nStandalone Container: Deploy LangGraph Server Docker images however you like.\\n\\n\\n\\n\\n        Was this page helpful?\\n      \\n\\n\\n\\n\\n\\n\\n\\n\\n\\n\\n\\n              \\n              \\n                \\n              \\n              Thanks for your feedback!\\n            \\n\\n              \\n              \\n                \\n              \\n              Thanks for your feedback! Please help us improve this page by adding to the discussion below.\\n            \\n\\n\\n\\n\\nComments\\n\\n\\n\\n\\n')]"
      ]
     },
     "execution_count": 15,
     "metadata": {},
     "output_type": "execute_result"
    }
   ],
   "source": [
    "#web based loader\n",
    "from langchain_community.document_loaders import WebBaseLoader\n",
    "import bs4\n",
    "urls = [\"https://langchain-ai.github.io/langgraph/concepts/#concepts\"]\n",
    "web_loader = WebBaseLoader(web_paths=urls,\n",
    "                           bs_kwargs=dict(\n",
    "                               parse_only=bs4.SoupStrainer(\n",
    "                                   class_=(\"md-content\")\n",
    "                               )\n",
    "                           ))\n",
    "#load,chunk,index the html content\n",
    "web_docs = web_loader.load()\n",
    "web_docs"
   ]
  },
  {
   "cell_type": "code",
   "execution_count": 18,
   "metadata": {},
   "outputs": [
    {
     "data": {
      "text/plain": [
       "[Document(metadata={'source': 'speech.txt'}, page_content='The world must be made safe for democracy. Its peace must be planted upon the tested foundations of'),\n",
       " Document(metadata={'source': 'speech.txt'}, page_content='of political liberty. We have no selfish ends to serve. We desire no conquest, no dominion. We seek'),\n",
       " Document(metadata={'source': 'speech.txt'}, page_content='We seek no indemnities for ourselves, no material compensation for the sacrifices we shall freely'),\n",
       " Document(metadata={'source': 'speech.txt'}, page_content='freely make. We are but one of the champions of the rights of mankind. We shall be satisfied when'),\n",
       " Document(metadata={'source': 'speech.txt'}, page_content='when those rights have been made as secure as the faith and the freedom of nations can make them.')]"
      ]
     },
     "execution_count": 18,
     "metadata": {},
     "output_type": "execute_result"
    }
   ],
   "source": [
    "#transforms the docs into chunks\n",
    "from langchain_text_splitters import RecursiveCharacterTextSplitter\n",
    "text_splitter = RecursiveCharacterTextSplitter(chunk_size=100,chunk_overlap=10)\n",
    "documents = text_splitter.split_documents(text_docs)\n",
    "documents[:5]"
   ]
  },
  {
   "cell_type": "code",
   "execution_count": 23,
   "metadata": {},
   "outputs": [
    {
     "name": "stderr",
     "output_type": "stream",
     "text": [
      "/var/folders/8p/d5kbr2ws10x8yxm5dk18ts_40000gp/T/ipykernel_52077/3550734685.py:2: LangChainDeprecationWarning: The class `HuggingFaceEmbeddings` was deprecated in LangChain 0.2.2 and will be removed in 1.0. An updated version of the class exists in the :class:`~langchain-huggingface package and should be used instead. To use it run `pip install -U :class:`~langchain-huggingface` and import as `from :class:`~langchain_huggingface import HuggingFaceEmbeddings``.\n",
      "  embeddings = HuggingFaceEmbeddings(model_name=\"sentence-transformers/all-mpnet-base-v2\")\n",
      "/Users/m0k08nh/projects/preparing/test/venv/lib/python3.12/site-packages/tqdm/auto.py:21: TqdmWarning: IProgress not found. Please update jupyter and ipywidgets. See https://ipywidgets.readthedocs.io/en/stable/user_install.html\n",
      "  from .autonotebook import tqdm as notebook_tqdm\n"
     ]
    }
   ],
   "source": [
    "from langchain_community.embeddings import HuggingFaceEmbeddings\n",
    "embeddings = HuggingFaceEmbeddings(model_name=\"sentence-transformers/all-mpnet-base-v2\")"
   ]
  },
  {
   "cell_type": "code",
   "execution_count": 26,
   "metadata": {},
   "outputs": [],
   "source": [
    "# Connect to Milvus\n",
    "MILVUS_HOST = \"localhost\"\n",
    "MILVUS_PORT = \"19530\"\n",
    "COLLECTION_NAME = \"langchain_demo\""
   ]
  },
  {
   "cell_type": "code",
   "execution_count": 40,
   "metadata": {},
   "outputs": [
    {
     "name": "stderr",
     "output_type": "stream",
     "text": [
      "Failed to create new connection using: 025fb8ef731943548a8bab17701a13a5\n"
     ]
    },
    {
     "ename": "MilvusException",
     "evalue": "<MilvusException: (code=2, message=Fail connecting to server on localhost:19530, illegal connection params or server unavailable)>",
     "output_type": "error",
     "traceback": [
      "\u001b[31m---------------------------------------------------------------------------\u001b[39m",
      "\u001b[31mFutureTimeoutError\u001b[39m                        Traceback (most recent call last)",
      "\u001b[36mFile \u001b[39m\u001b[32m~/projects/preparing/test/venv/lib/python3.12/site-packages/pymilvus/client/grpc_handler.py:155\u001b[39m, in \u001b[36mGrpcHandler._wait_for_channel_ready\u001b[39m\u001b[34m(self, timeout)\u001b[39m\n\u001b[32m    154\u001b[39m \u001b[38;5;28;01mtry\u001b[39;00m:\n\u001b[32m--> \u001b[39m\u001b[32m155\u001b[39m     \u001b[43mgrpc\u001b[49m\u001b[43m.\u001b[49m\u001b[43mchannel_ready_future\u001b[49m\u001b[43m(\u001b[49m\u001b[38;5;28;43mself\u001b[39;49m\u001b[43m.\u001b[49m\u001b[43m_channel\u001b[49m\u001b[43m)\u001b[49m\u001b[43m.\u001b[49m\u001b[43mresult\u001b[49m\u001b[43m(\u001b[49m\u001b[43mtimeout\u001b[49m\u001b[43m=\u001b[49m\u001b[43mtimeout\u001b[49m\u001b[43m)\u001b[49m\n\u001b[32m    156\u001b[39m     \u001b[38;5;28mself\u001b[39m._setup_identifier_interceptor(\u001b[38;5;28mself\u001b[39m._user, timeout=timeout)\n",
      "\u001b[36mFile \u001b[39m\u001b[32m~/projects/preparing/test/venv/lib/python3.12/site-packages/grpc/_utilities.py:162\u001b[39m, in \u001b[36m_ChannelReadyFuture.result\u001b[39m\u001b[34m(self, timeout)\u001b[39m\n\u001b[32m    161\u001b[39m \u001b[38;5;28;01mdef\u001b[39;00m\u001b[38;5;250m \u001b[39m\u001b[34mresult\u001b[39m(\u001b[38;5;28mself\u001b[39m, timeout: Optional[\u001b[38;5;28mfloat\u001b[39m] = \u001b[38;5;28;01mNone\u001b[39;00m) -> \u001b[38;5;28;01mNone\u001b[39;00m:\n\u001b[32m--> \u001b[39m\u001b[32m162\u001b[39m     \u001b[38;5;28;43mself\u001b[39;49m\u001b[43m.\u001b[49m\u001b[43m_block\u001b[49m\u001b[43m(\u001b[49m\u001b[43mtimeout\u001b[49m\u001b[43m)\u001b[49m\n",
      "\u001b[36mFile \u001b[39m\u001b[32m~/projects/preparing/test/venv/lib/python3.12/site-packages/grpc/_utilities.py:106\u001b[39m, in \u001b[36m_ChannelReadyFuture._block\u001b[39m\u001b[34m(self, timeout)\u001b[39m\n\u001b[32m    105\u001b[39m \u001b[38;5;28;01mif\u001b[39;00m remaining < \u001b[32m0\u001b[39m:\n\u001b[32m--> \u001b[39m\u001b[32m106\u001b[39m     \u001b[38;5;28;01mraise\u001b[39;00m grpc.FutureTimeoutError()\n\u001b[32m    107\u001b[39m \u001b[38;5;28;01melse\u001b[39;00m:\n",
      "\u001b[31mFutureTimeoutError\u001b[39m: ",
      "\nThe above exception was the direct cause of the following exception:\n",
      "\u001b[31mMilvusException\u001b[39m                           Traceback (most recent call last)",
      "\u001b[36mCell\u001b[39m\u001b[36m \u001b[39m\u001b[32mIn[40]\u001b[39m\u001b[32m, line 3\u001b[39m\n\u001b[32m      1\u001b[39m \u001b[38;5;28;01mfrom\u001b[39;00m\u001b[38;5;250m \u001b[39m\u001b[34;01mlangchain_community\u001b[39;00m\u001b[34;01m.\u001b[39;00m\u001b[34;01mvectorstores\u001b[39;00m\u001b[38;5;250m \u001b[39m\u001b[38;5;28;01mimport\u001b[39;00m Milvus\n\u001b[32m----> \u001b[39m\u001b[32m3\u001b[39m vectorstore = \u001b[43mMilvus\u001b[49m\u001b[43m.\u001b[49m\u001b[43mfrom_documents\u001b[49m\u001b[43m(\u001b[49m\n\u001b[32m      4\u001b[39m \u001b[43m    \u001b[49m\u001b[43mdocuments\u001b[49m\u001b[43m=\u001b[49m\u001b[43mdocuments\u001b[49m\u001b[43m,\u001b[49m\n\u001b[32m      5\u001b[39m \u001b[43m    \u001b[49m\u001b[43membedding\u001b[49m\u001b[43m=\u001b[49m\u001b[43membeddings\u001b[49m\u001b[43m,\u001b[49m\n\u001b[32m      6\u001b[39m \u001b[43m    \u001b[49m\u001b[43mcollection_name\u001b[49m\u001b[43m=\u001b[49m\u001b[33;43m\"\u001b[39;49m\u001b[33;43mmy_milvus_collection\u001b[39;49m\u001b[33;43m\"\u001b[39;49m\u001b[43m,\u001b[49m\n\u001b[32m      7\u001b[39m \u001b[43m    \u001b[49m\u001b[43mdrop_old\u001b[49m\u001b[43m=\u001b[49m\u001b[38;5;28;43;01mTrue\u001b[39;49;00m\u001b[43m,\u001b[49m\u001b[43m  \u001b[49m\u001b[38;5;66;43;03m# Drop the old Milvus collection if it exists\u001b[39;49;00m\n\u001b[32m      8\u001b[39m \u001b[43m)\u001b[49m\n",
      "\u001b[36mFile \u001b[39m\u001b[32m~/projects/preparing/test/venv/lib/python3.12/site-packages/langchain_core/vectorstores/base.py:848\u001b[39m, in \u001b[36mVectorStore.from_documents\u001b[39m\u001b[34m(cls, documents, embedding, **kwargs)\u001b[39m\n\u001b[32m    845\u001b[39m     \u001b[38;5;28;01mif\u001b[39;00m \u001b[38;5;28many\u001b[39m(ids):\n\u001b[32m    846\u001b[39m         kwargs[\u001b[33m\"\u001b[39m\u001b[33mids\u001b[39m\u001b[33m\"\u001b[39m] = ids\n\u001b[32m--> \u001b[39m\u001b[32m848\u001b[39m \u001b[38;5;28;01mreturn\u001b[39;00m \u001b[38;5;28;43mcls\u001b[39;49m\u001b[43m.\u001b[49m\u001b[43mfrom_texts\u001b[49m\u001b[43m(\u001b[49m\u001b[43mtexts\u001b[49m\u001b[43m,\u001b[49m\u001b[43m \u001b[49m\u001b[43membedding\u001b[49m\u001b[43m,\u001b[49m\u001b[43m \u001b[49m\u001b[43mmetadatas\u001b[49m\u001b[43m=\u001b[49m\u001b[43mmetadatas\u001b[49m\u001b[43m,\u001b[49m\u001b[43m \u001b[49m\u001b[43m*\u001b[49m\u001b[43m*\u001b[49m\u001b[43mkwargs\u001b[49m\u001b[43m)\u001b[49m\n",
      "\u001b[36mFile \u001b[39m\u001b[32m~/projects/preparing/test/venv/lib/python3.12/site-packages/langchain_community/vectorstores/milvus.py:1010\u001b[39m, in \u001b[36mMilvus.from_texts\u001b[39m\u001b[34m(cls, texts, embedding, metadatas, collection_name, connection_args, consistency_level, index_params, search_params, drop_old, ids, **kwargs)\u001b[39m\n\u001b[32m   1007\u001b[39m \u001b[38;5;28;01melse\u001b[39;00m:\n\u001b[32m   1008\u001b[39m     auto_id = \u001b[38;5;28;01mTrue\u001b[39;00m\n\u001b[32m-> \u001b[39m\u001b[32m1010\u001b[39m vector_db = \u001b[38;5;28;43mcls\u001b[39;49m\u001b[43m(\u001b[49m\n\u001b[32m   1011\u001b[39m \u001b[43m    \u001b[49m\u001b[43membedding_function\u001b[49m\u001b[43m=\u001b[49m\u001b[43membedding\u001b[49m\u001b[43m,\u001b[49m\n\u001b[32m   1012\u001b[39m \u001b[43m    \u001b[49m\u001b[43mcollection_name\u001b[49m\u001b[43m=\u001b[49m\u001b[43mcollection_name\u001b[49m\u001b[43m,\u001b[49m\n\u001b[32m   1013\u001b[39m \u001b[43m    \u001b[49m\u001b[43mconnection_args\u001b[49m\u001b[43m=\u001b[49m\u001b[43mconnection_args\u001b[49m\u001b[43m,\u001b[49m\n\u001b[32m   1014\u001b[39m \u001b[43m    \u001b[49m\u001b[43mconsistency_level\u001b[49m\u001b[43m=\u001b[49m\u001b[43mconsistency_level\u001b[49m\u001b[43m,\u001b[49m\n\u001b[32m   1015\u001b[39m \u001b[43m    \u001b[49m\u001b[43mindex_params\u001b[49m\u001b[43m=\u001b[49m\u001b[43mindex_params\u001b[49m\u001b[43m,\u001b[49m\n\u001b[32m   1016\u001b[39m \u001b[43m    \u001b[49m\u001b[43msearch_params\u001b[49m\u001b[43m=\u001b[49m\u001b[43msearch_params\u001b[49m\u001b[43m,\u001b[49m\n\u001b[32m   1017\u001b[39m \u001b[43m    \u001b[49m\u001b[43mdrop_old\u001b[49m\u001b[43m=\u001b[49m\u001b[43mdrop_old\u001b[49m\u001b[43m,\u001b[49m\n\u001b[32m   1018\u001b[39m \u001b[43m    \u001b[49m\u001b[43mauto_id\u001b[49m\u001b[43m=\u001b[49m\u001b[43mauto_id\u001b[49m\u001b[43m,\u001b[49m\n\u001b[32m   1019\u001b[39m \u001b[43m    \u001b[49m\u001b[43m*\u001b[49m\u001b[43m*\u001b[49m\u001b[43mkwargs\u001b[49m\u001b[43m,\u001b[49m\n\u001b[32m   1020\u001b[39m \u001b[43m\u001b[49m\u001b[43m)\u001b[49m\n\u001b[32m   1021\u001b[39m vector_db.add_texts(texts=texts, metadatas=metadatas, ids=ids)\n\u001b[32m   1022\u001b[39m \u001b[38;5;28;01mreturn\u001b[39;00m vector_db\n",
      "\u001b[36mFile \u001b[39m\u001b[32m~/projects/preparing/test/venv/lib/python3.12/site-packages/langchain_core/_api/deprecation.py:224\u001b[39m, in \u001b[36mdeprecated.<locals>.deprecate.<locals>.finalize.<locals>.warn_if_direct_instance\u001b[39m\u001b[34m(self, *args, **kwargs)\u001b[39m\n\u001b[32m    222\u001b[39m     warned = \u001b[38;5;28;01mTrue\u001b[39;00m\n\u001b[32m    223\u001b[39m     emit_warning()\n\u001b[32m--> \u001b[39m\u001b[32m224\u001b[39m \u001b[38;5;28;01mreturn\u001b[39;00m \u001b[43mwrapped\u001b[49m\u001b[43m(\u001b[49m\u001b[38;5;28;43mself\u001b[39;49m\u001b[43m,\u001b[49m\u001b[43m \u001b[49m\u001b[43m*\u001b[49m\u001b[43margs\u001b[49m\u001b[43m,\u001b[49m\u001b[43m \u001b[49m\u001b[43m*\u001b[49m\u001b[43m*\u001b[49m\u001b[43mkwargs\u001b[49m\u001b[43m)\u001b[49m\n",
      "\u001b[36mFile \u001b[39m\u001b[32m~/projects/preparing/test/venv/lib/python3.12/site-packages/langchain_community/vectorstores/milvus.py:206\u001b[39m, in \u001b[36mMilvus.__init__\u001b[39m\u001b[34m(self, embedding_function, collection_name, collection_description, collection_properties, connection_args, consistency_level, index_params, search_params, drop_old, auto_id, primary_field, text_field, vector_field, metadata_field, partition_key_field, partition_names, replica_number, timeout, num_shards)\u001b[39m\n\u001b[32m    204\u001b[39m \u001b[38;5;28;01mif\u001b[39;00m connection_args \u001b[38;5;129;01mis\u001b[39;00m \u001b[38;5;28;01mNone\u001b[39;00m:\n\u001b[32m    205\u001b[39m     connection_args = DEFAULT_MILVUS_CONNECTION\n\u001b[32m--> \u001b[39m\u001b[32m206\u001b[39m \u001b[38;5;28mself\u001b[39m.alias = \u001b[38;5;28;43mself\u001b[39;49m\u001b[43m.\u001b[49m\u001b[43m_create_connection_alias\u001b[49m\u001b[43m(\u001b[49m\u001b[43mconnection_args\u001b[49m\u001b[43m)\u001b[49m\n\u001b[32m    207\u001b[39m \u001b[38;5;28mself\u001b[39m.col: Optional[Collection] = \u001b[38;5;28;01mNone\u001b[39;00m\n\u001b[32m    209\u001b[39m \u001b[38;5;66;03m# Grab the existing collection if it exists\u001b[39;00m\n",
      "\u001b[36mFile \u001b[39m\u001b[32m~/projects/preparing/test/venv/lib/python3.12/site-packages/langchain_community/vectorstores/milvus.py:289\u001b[39m, in \u001b[36mMilvus._create_connection_alias\u001b[39m\u001b[34m(self, connection_args)\u001b[39m\n\u001b[32m    287\u001b[39m \u001b[38;5;28;01mexcept\u001b[39;00m MilvusException \u001b[38;5;28;01mas\u001b[39;00m e:\n\u001b[32m    288\u001b[39m     logger.error(\u001b[33m\"\u001b[39m\u001b[33mFailed to create new connection using: \u001b[39m\u001b[38;5;132;01m%s\u001b[39;00m\u001b[33m\"\u001b[39m, alias)\n\u001b[32m--> \u001b[39m\u001b[32m289\u001b[39m     \u001b[38;5;28;01mraise\u001b[39;00m e\n",
      "\u001b[36mFile \u001b[39m\u001b[32m~/projects/preparing/test/venv/lib/python3.12/site-packages/langchain_community/vectorstores/milvus.py:284\u001b[39m, in \u001b[36mMilvus._create_connection_alias\u001b[39m\u001b[34m(self, connection_args)\u001b[39m\n\u001b[32m    282\u001b[39m alias = uuid4().hex\n\u001b[32m    283\u001b[39m \u001b[38;5;28;01mtry\u001b[39;00m:\n\u001b[32m--> \u001b[39m\u001b[32m284\u001b[39m     \u001b[43mconnections\u001b[49m\u001b[43m.\u001b[49m\u001b[43mconnect\u001b[49m\u001b[43m(\u001b[49m\u001b[43malias\u001b[49m\u001b[43m=\u001b[49m\u001b[43malias\u001b[49m\u001b[43m,\u001b[49m\u001b[43m \u001b[49m\u001b[43m*\u001b[49m\u001b[43m*\u001b[49m\u001b[43mconnection_args\u001b[49m\u001b[43m)\u001b[49m\n\u001b[32m    285\u001b[39m     logger.debug(\u001b[33m\"\u001b[39m\u001b[33mCreated new connection using: \u001b[39m\u001b[38;5;132;01m%s\u001b[39;00m\u001b[33m\"\u001b[39m, alias)\n\u001b[32m    286\u001b[39m     \u001b[38;5;28;01mreturn\u001b[39;00m alias\n",
      "\u001b[36mFile \u001b[39m\u001b[32m~/projects/preparing/test/venv/lib/python3.12/site-packages/pymilvus/orm/connections.py:461\u001b[39m, in \u001b[36mConnections.connect\u001b[39m\u001b[34m(self, alias, user, password, db_name, token, _async, **kwargs)\u001b[39m\n\u001b[32m    458\u001b[39m         \u001b[38;5;28;01mif\u001b[39;00m parsed_uri.scheme == \u001b[33m\"\u001b[39m\u001b[33mhttps\u001b[39m\u001b[33m\"\u001b[39m:\n\u001b[32m    459\u001b[39m             kwargs[\u001b[33m\"\u001b[39m\u001b[33msecure\u001b[39m\u001b[33m\"\u001b[39m] = \u001b[38;5;28;01mTrue\u001b[39;00m\n\u001b[32m--> \u001b[39m\u001b[32m461\u001b[39m     \u001b[43mconnect_milvus\u001b[49m\u001b[43m(\u001b[49m\u001b[43m*\u001b[49m\u001b[43m*\u001b[49m\u001b[43mkwargs\u001b[49m\u001b[43m,\u001b[49m\u001b[43m \u001b[49m\u001b[43muser\u001b[49m\u001b[43m=\u001b[49m\u001b[43muser\u001b[49m\u001b[43m,\u001b[49m\u001b[43m \u001b[49m\u001b[43mpassword\u001b[49m\u001b[43m=\u001b[49m\u001b[43mpassword\u001b[49m\u001b[43m,\u001b[49m\u001b[43m \u001b[49m\u001b[43mtoken\u001b[49m\u001b[43m=\u001b[49m\u001b[43mtoken\u001b[49m\u001b[43m,\u001b[49m\u001b[43m \u001b[49m\u001b[43mdb_name\u001b[49m\u001b[43m=\u001b[49m\u001b[43mdb_name\u001b[49m\u001b[43m)\u001b[49m\n\u001b[32m    462\u001b[39m     \u001b[38;5;28;01mreturn\u001b[39;00m\n\u001b[32m    464\u001b[39m \u001b[38;5;66;03m# 2nd Priority, connection configs from env\u001b[39;00m\n",
      "\u001b[36mFile \u001b[39m\u001b[32m~/projects/preparing/test/venv/lib/python3.12/site-packages/pymilvus/orm/connections.py:411\u001b[39m, in \u001b[36mConnections.connect.<locals>.connect_milvus\u001b[39m\u001b[34m(**kwargs)\u001b[39m\n\u001b[32m    408\u001b[39m timeout = t \u001b[38;5;28;01mif\u001b[39;00m \u001b[38;5;28misinstance\u001b[39m(t, (\u001b[38;5;28mint\u001b[39m, \u001b[38;5;28mfloat\u001b[39m)) \u001b[38;5;28;01melse\u001b[39;00m Config.MILVUS_CONN_TIMEOUT\n\u001b[32m    410\u001b[39m \u001b[38;5;28;01mif\u001b[39;00m \u001b[38;5;129;01mnot\u001b[39;00m _async:\n\u001b[32m--> \u001b[39m\u001b[32m411\u001b[39m     \u001b[43mgh\u001b[49m\u001b[43m.\u001b[49m\u001b[43m_wait_for_channel_ready\u001b[49m\u001b[43m(\u001b[49m\u001b[43mtimeout\u001b[49m\u001b[43m=\u001b[49m\u001b[43mtimeout\u001b[49m\u001b[43m)\u001b[49m\n\u001b[32m    413\u001b[39m \u001b[38;5;28;01mif\u001b[39;00m kwargs.get(\u001b[33m\"\u001b[39m\u001b[33mkeep_alive\u001b[39m\u001b[33m\"\u001b[39m, \u001b[38;5;28;01mFalse\u001b[39;00m):\n\u001b[32m    414\u001b[39m     gh.register_state_change_callback(\n\u001b[32m    415\u001b[39m         ReconnectHandler(\u001b[38;5;28mself\u001b[39m, alias, kwargs_copy).reconnect_on_idle\n\u001b[32m    416\u001b[39m     )\n",
      "\u001b[36mFile \u001b[39m\u001b[32m~/projects/preparing/test/venv/lib/python3.12/site-packages/pymilvus/client/grpc_handler.py:159\u001b[39m, in \u001b[36mGrpcHandler._wait_for_channel_ready\u001b[39m\u001b[34m(self, timeout)\u001b[39m\n\u001b[32m    157\u001b[39m \u001b[38;5;28;01mexcept\u001b[39;00m grpc.FutureTimeoutError \u001b[38;5;28;01mas\u001b[39;00m e:\n\u001b[32m    158\u001b[39m     \u001b[38;5;28mself\u001b[39m.close()\n\u001b[32m--> \u001b[39m\u001b[32m159\u001b[39m     \u001b[38;5;28;01mraise\u001b[39;00m MilvusException(\n\u001b[32m    160\u001b[39m         code=Status.CONNECT_FAILED,\n\u001b[32m    161\u001b[39m         message=\u001b[33mf\u001b[39m\u001b[33m\"\u001b[39m\u001b[33mFail connecting to server on \u001b[39m\u001b[38;5;132;01m{\u001b[39;00m\u001b[38;5;28mself\u001b[39m._address\u001b[38;5;132;01m}\u001b[39;00m\u001b[33m, illegal connection params or server unavailable\u001b[39m\u001b[33m\"\u001b[39m,\n\u001b[32m    162\u001b[39m     ) \u001b[38;5;28;01mfrom\u001b[39;00m\u001b[38;5;250m \u001b[39m\u001b[34;01me\u001b[39;00m\n\u001b[32m    163\u001b[39m \u001b[38;5;28;01mexcept\u001b[39;00m \u001b[38;5;167;01mException\u001b[39;00m \u001b[38;5;28;01mas\u001b[39;00m e:\n\u001b[32m    164\u001b[39m     \u001b[38;5;28mself\u001b[39m.close()\n",
      "\u001b[31mMilvusException\u001b[39m: <MilvusException: (code=2, message=Fail connecting to server on localhost:19530, illegal connection params or server unavailable)>"
     ]
    }
   ],
   "source": [
    "from langchain_community.vectorstores import Milvus\n",
    "\n",
    "vectorstore = Milvus.from_documents(\n",
    "    documents=documents,\n",
    "    embedding=embeddings,\n",
    "    connection_args={\"uri\": \"sqlite://:@milvus-lite\"},\n",
    "    collection_name=\"test_collection\"\n",
    "    drop_old=True,  # Drop the old Milvus collection if it exists\n",
    ")"
   ]
  },
  {
   "cell_type": "code",
   "execution_count": 30,
   "metadata": {},
   "outputs": [
    {
     "name": "stderr",
     "output_type": "stream",
     "text": [
      "Failed to create new connection using: 1038afc7785843f4b04a7431673f38a4\n"
     ]
    },
    {
     "ename": "MilvusException",
     "evalue": "<MilvusException: (code=2, message=Fail connecting to server on localhost:19530, illegal connection params or server unavailable)>",
     "output_type": "error",
     "traceback": [
      "\u001b[31m---------------------------------------------------------------------------\u001b[39m",
      "\u001b[31mFutureTimeoutError\u001b[39m                        Traceback (most recent call last)",
      "\u001b[36mFile \u001b[39m\u001b[32m~/projects/preparing/test/venv/lib/python3.12/site-packages/pymilvus/client/grpc_handler.py:155\u001b[39m, in \u001b[36mGrpcHandler._wait_for_channel_ready\u001b[39m\u001b[34m(self, timeout)\u001b[39m\n\u001b[32m    154\u001b[39m \u001b[38;5;28;01mtry\u001b[39;00m:\n\u001b[32m--> \u001b[39m\u001b[32m155\u001b[39m     \u001b[43mgrpc\u001b[49m\u001b[43m.\u001b[49m\u001b[43mchannel_ready_future\u001b[49m\u001b[43m(\u001b[49m\u001b[38;5;28;43mself\u001b[39;49m\u001b[43m.\u001b[49m\u001b[43m_channel\u001b[49m\u001b[43m)\u001b[49m\u001b[43m.\u001b[49m\u001b[43mresult\u001b[49m\u001b[43m(\u001b[49m\u001b[43mtimeout\u001b[49m\u001b[43m=\u001b[49m\u001b[43mtimeout\u001b[49m\u001b[43m)\u001b[49m\n\u001b[32m    156\u001b[39m     \u001b[38;5;28mself\u001b[39m._setup_identifier_interceptor(\u001b[38;5;28mself\u001b[39m._user, timeout=timeout)\n",
      "\u001b[36mFile \u001b[39m\u001b[32m~/projects/preparing/test/venv/lib/python3.12/site-packages/grpc/_utilities.py:162\u001b[39m, in \u001b[36m_ChannelReadyFuture.result\u001b[39m\u001b[34m(self, timeout)\u001b[39m\n\u001b[32m    161\u001b[39m \u001b[38;5;28;01mdef\u001b[39;00m\u001b[38;5;250m \u001b[39m\u001b[34mresult\u001b[39m(\u001b[38;5;28mself\u001b[39m, timeout: Optional[\u001b[38;5;28mfloat\u001b[39m] = \u001b[38;5;28;01mNone\u001b[39;00m) -> \u001b[38;5;28;01mNone\u001b[39;00m:\n\u001b[32m--> \u001b[39m\u001b[32m162\u001b[39m     \u001b[38;5;28;43mself\u001b[39;49m\u001b[43m.\u001b[49m\u001b[43m_block\u001b[49m\u001b[43m(\u001b[49m\u001b[43mtimeout\u001b[49m\u001b[43m)\u001b[49m\n",
      "\u001b[36mFile \u001b[39m\u001b[32m~/projects/preparing/test/venv/lib/python3.12/site-packages/grpc/_utilities.py:106\u001b[39m, in \u001b[36m_ChannelReadyFuture._block\u001b[39m\u001b[34m(self, timeout)\u001b[39m\n\u001b[32m    105\u001b[39m \u001b[38;5;28;01mif\u001b[39;00m remaining < \u001b[32m0\u001b[39m:\n\u001b[32m--> \u001b[39m\u001b[32m106\u001b[39m     \u001b[38;5;28;01mraise\u001b[39;00m grpc.FutureTimeoutError()\n\u001b[32m    107\u001b[39m \u001b[38;5;28;01melse\u001b[39;00m:\n",
      "\u001b[31mFutureTimeoutError\u001b[39m: ",
      "\nThe above exception was the direct cause of the following exception:\n",
      "\u001b[31mMilvusException\u001b[39m                           Traceback (most recent call last)",
      "\u001b[36mCell\u001b[39m\u001b[36m \u001b[39m\u001b[32mIn[30]\u001b[39m\u001b[32m, line 3\u001b[39m\n\u001b[32m      1\u001b[39m \u001b[38;5;66;03m# 3. Create the vector store in Milvus\u001b[39;00m\n\u001b[32m      2\u001b[39m \u001b[38;5;28;01mfrom\u001b[39;00m\u001b[38;5;250m \u001b[39m\u001b[34;01mlangchain_community\u001b[39;00m\u001b[34;01m.\u001b[39;00m\u001b[34;01mvectorstores\u001b[39;00m\u001b[38;5;250m \u001b[39m\u001b[38;5;28;01mimport\u001b[39;00m Milvus\n\u001b[32m----> \u001b[39m\u001b[32m3\u001b[39m vectorstore = \u001b[43mMilvus\u001b[49m\u001b[43m.\u001b[49m\u001b[43mfrom_documents\u001b[49m\u001b[43m(\u001b[49m\n\u001b[32m      4\u001b[39m \u001b[43m    \u001b[49m\u001b[43mdocuments\u001b[49m\u001b[43m=\u001b[49m\u001b[43mdocuments\u001b[49m\u001b[43m,\u001b[49m\n\u001b[32m      5\u001b[39m \u001b[43m    \u001b[49m\u001b[43membedding\u001b[49m\u001b[43m=\u001b[49m\u001b[43membeddings\u001b[49m\u001b[43m,\u001b[49m\n\u001b[32m      6\u001b[39m \u001b[43m    \u001b[49m\u001b[43mconnection_args\u001b[49m\u001b[43m=\u001b[49m\u001b[43m{\u001b[49m\u001b[33;43m\"\u001b[39;49m\u001b[33;43mhost\u001b[39;49m\u001b[33;43m\"\u001b[39;49m\u001b[43m:\u001b[49m\u001b[43m \u001b[49m\u001b[43mMILVUS_HOST\u001b[49m\u001b[43m,\u001b[49m\u001b[43m \u001b[49m\u001b[33;43m\"\u001b[39;49m\u001b[33;43mport\u001b[39;49m\u001b[33;43m\"\u001b[39;49m\u001b[43m:\u001b[49m\u001b[43m \u001b[49m\u001b[43mMILVUS_PORT\u001b[49m\u001b[43m}\u001b[49m\u001b[43m,\u001b[49m\n\u001b[32m      7\u001b[39m \u001b[43m    \u001b[49m\u001b[43mcollection_name\u001b[49m\u001b[43m=\u001b[49m\u001b[43mCOLLECTION_NAME\u001b[49m\u001b[43m,\u001b[49m\n\u001b[32m      8\u001b[39m \u001b[43m)\u001b[49m\n",
      "\u001b[36mFile \u001b[39m\u001b[32m~/projects/preparing/test/venv/lib/python3.12/site-packages/langchain_core/vectorstores/base.py:848\u001b[39m, in \u001b[36mVectorStore.from_documents\u001b[39m\u001b[34m(cls, documents, embedding, **kwargs)\u001b[39m\n\u001b[32m    845\u001b[39m     \u001b[38;5;28;01mif\u001b[39;00m \u001b[38;5;28many\u001b[39m(ids):\n\u001b[32m    846\u001b[39m         kwargs[\u001b[33m\"\u001b[39m\u001b[33mids\u001b[39m\u001b[33m\"\u001b[39m] = ids\n\u001b[32m--> \u001b[39m\u001b[32m848\u001b[39m \u001b[38;5;28;01mreturn\u001b[39;00m \u001b[38;5;28;43mcls\u001b[39;49m\u001b[43m.\u001b[49m\u001b[43mfrom_texts\u001b[49m\u001b[43m(\u001b[49m\u001b[43mtexts\u001b[49m\u001b[43m,\u001b[49m\u001b[43m \u001b[49m\u001b[43membedding\u001b[49m\u001b[43m,\u001b[49m\u001b[43m \u001b[49m\u001b[43mmetadatas\u001b[49m\u001b[43m=\u001b[49m\u001b[43mmetadatas\u001b[49m\u001b[43m,\u001b[49m\u001b[43m \u001b[49m\u001b[43m*\u001b[49m\u001b[43m*\u001b[49m\u001b[43mkwargs\u001b[49m\u001b[43m)\u001b[49m\n",
      "\u001b[36mFile \u001b[39m\u001b[32m~/projects/preparing/test/venv/lib/python3.12/site-packages/langchain_community/vectorstores/milvus.py:1010\u001b[39m, in \u001b[36mMilvus.from_texts\u001b[39m\u001b[34m(cls, texts, embedding, metadatas, collection_name, connection_args, consistency_level, index_params, search_params, drop_old, ids, **kwargs)\u001b[39m\n\u001b[32m   1007\u001b[39m \u001b[38;5;28;01melse\u001b[39;00m:\n\u001b[32m   1008\u001b[39m     auto_id = \u001b[38;5;28;01mTrue\u001b[39;00m\n\u001b[32m-> \u001b[39m\u001b[32m1010\u001b[39m vector_db = \u001b[38;5;28;43mcls\u001b[39;49m\u001b[43m(\u001b[49m\n\u001b[32m   1011\u001b[39m \u001b[43m    \u001b[49m\u001b[43membedding_function\u001b[49m\u001b[43m=\u001b[49m\u001b[43membedding\u001b[49m\u001b[43m,\u001b[49m\n\u001b[32m   1012\u001b[39m \u001b[43m    \u001b[49m\u001b[43mcollection_name\u001b[49m\u001b[43m=\u001b[49m\u001b[43mcollection_name\u001b[49m\u001b[43m,\u001b[49m\n\u001b[32m   1013\u001b[39m \u001b[43m    \u001b[49m\u001b[43mconnection_args\u001b[49m\u001b[43m=\u001b[49m\u001b[43mconnection_args\u001b[49m\u001b[43m,\u001b[49m\n\u001b[32m   1014\u001b[39m \u001b[43m    \u001b[49m\u001b[43mconsistency_level\u001b[49m\u001b[43m=\u001b[49m\u001b[43mconsistency_level\u001b[49m\u001b[43m,\u001b[49m\n\u001b[32m   1015\u001b[39m \u001b[43m    \u001b[49m\u001b[43mindex_params\u001b[49m\u001b[43m=\u001b[49m\u001b[43mindex_params\u001b[49m\u001b[43m,\u001b[49m\n\u001b[32m   1016\u001b[39m \u001b[43m    \u001b[49m\u001b[43msearch_params\u001b[49m\u001b[43m=\u001b[49m\u001b[43msearch_params\u001b[49m\u001b[43m,\u001b[49m\n\u001b[32m   1017\u001b[39m \u001b[43m    \u001b[49m\u001b[43mdrop_old\u001b[49m\u001b[43m=\u001b[49m\u001b[43mdrop_old\u001b[49m\u001b[43m,\u001b[49m\n\u001b[32m   1018\u001b[39m \u001b[43m    \u001b[49m\u001b[43mauto_id\u001b[49m\u001b[43m=\u001b[49m\u001b[43mauto_id\u001b[49m\u001b[43m,\u001b[49m\n\u001b[32m   1019\u001b[39m \u001b[43m    \u001b[49m\u001b[43m*\u001b[49m\u001b[43m*\u001b[49m\u001b[43mkwargs\u001b[49m\u001b[43m,\u001b[49m\n\u001b[32m   1020\u001b[39m \u001b[43m\u001b[49m\u001b[43m)\u001b[49m\n\u001b[32m   1021\u001b[39m vector_db.add_texts(texts=texts, metadatas=metadatas, ids=ids)\n\u001b[32m   1022\u001b[39m \u001b[38;5;28;01mreturn\u001b[39;00m vector_db\n",
      "\u001b[36mFile \u001b[39m\u001b[32m~/projects/preparing/test/venv/lib/python3.12/site-packages/langchain_core/_api/deprecation.py:224\u001b[39m, in \u001b[36mdeprecated.<locals>.deprecate.<locals>.finalize.<locals>.warn_if_direct_instance\u001b[39m\u001b[34m(self, *args, **kwargs)\u001b[39m\n\u001b[32m    222\u001b[39m     warned = \u001b[38;5;28;01mTrue\u001b[39;00m\n\u001b[32m    223\u001b[39m     emit_warning()\n\u001b[32m--> \u001b[39m\u001b[32m224\u001b[39m \u001b[38;5;28;01mreturn\u001b[39;00m \u001b[43mwrapped\u001b[49m\u001b[43m(\u001b[49m\u001b[38;5;28;43mself\u001b[39;49m\u001b[43m,\u001b[49m\u001b[43m \u001b[49m\u001b[43m*\u001b[49m\u001b[43margs\u001b[49m\u001b[43m,\u001b[49m\u001b[43m \u001b[49m\u001b[43m*\u001b[49m\u001b[43m*\u001b[49m\u001b[43mkwargs\u001b[49m\u001b[43m)\u001b[49m\n",
      "\u001b[36mFile \u001b[39m\u001b[32m~/projects/preparing/test/venv/lib/python3.12/site-packages/langchain_community/vectorstores/milvus.py:206\u001b[39m, in \u001b[36mMilvus.__init__\u001b[39m\u001b[34m(self, embedding_function, collection_name, collection_description, collection_properties, connection_args, consistency_level, index_params, search_params, drop_old, auto_id, primary_field, text_field, vector_field, metadata_field, partition_key_field, partition_names, replica_number, timeout, num_shards)\u001b[39m\n\u001b[32m    204\u001b[39m \u001b[38;5;28;01mif\u001b[39;00m connection_args \u001b[38;5;129;01mis\u001b[39;00m \u001b[38;5;28;01mNone\u001b[39;00m:\n\u001b[32m    205\u001b[39m     connection_args = DEFAULT_MILVUS_CONNECTION\n\u001b[32m--> \u001b[39m\u001b[32m206\u001b[39m \u001b[38;5;28mself\u001b[39m.alias = \u001b[38;5;28;43mself\u001b[39;49m\u001b[43m.\u001b[49m\u001b[43m_create_connection_alias\u001b[49m\u001b[43m(\u001b[49m\u001b[43mconnection_args\u001b[49m\u001b[43m)\u001b[49m\n\u001b[32m    207\u001b[39m \u001b[38;5;28mself\u001b[39m.col: Optional[Collection] = \u001b[38;5;28;01mNone\u001b[39;00m\n\u001b[32m    209\u001b[39m \u001b[38;5;66;03m# Grab the existing collection if it exists\u001b[39;00m\n",
      "\u001b[36mFile \u001b[39m\u001b[32m~/projects/preparing/test/venv/lib/python3.12/site-packages/langchain_community/vectorstores/milvus.py:289\u001b[39m, in \u001b[36mMilvus._create_connection_alias\u001b[39m\u001b[34m(self, connection_args)\u001b[39m\n\u001b[32m    287\u001b[39m \u001b[38;5;28;01mexcept\u001b[39;00m MilvusException \u001b[38;5;28;01mas\u001b[39;00m e:\n\u001b[32m    288\u001b[39m     logger.error(\u001b[33m\"\u001b[39m\u001b[33mFailed to create new connection using: \u001b[39m\u001b[38;5;132;01m%s\u001b[39;00m\u001b[33m\"\u001b[39m, alias)\n\u001b[32m--> \u001b[39m\u001b[32m289\u001b[39m     \u001b[38;5;28;01mraise\u001b[39;00m e\n",
      "\u001b[36mFile \u001b[39m\u001b[32m~/projects/preparing/test/venv/lib/python3.12/site-packages/langchain_community/vectorstores/milvus.py:284\u001b[39m, in \u001b[36mMilvus._create_connection_alias\u001b[39m\u001b[34m(self, connection_args)\u001b[39m\n\u001b[32m    282\u001b[39m alias = uuid4().hex\n\u001b[32m    283\u001b[39m \u001b[38;5;28;01mtry\u001b[39;00m:\n\u001b[32m--> \u001b[39m\u001b[32m284\u001b[39m     \u001b[43mconnections\u001b[49m\u001b[43m.\u001b[49m\u001b[43mconnect\u001b[49m\u001b[43m(\u001b[49m\u001b[43malias\u001b[49m\u001b[43m=\u001b[49m\u001b[43malias\u001b[49m\u001b[43m,\u001b[49m\u001b[43m \u001b[49m\u001b[43m*\u001b[49m\u001b[43m*\u001b[49m\u001b[43mconnection_args\u001b[49m\u001b[43m)\u001b[49m\n\u001b[32m    285\u001b[39m     logger.debug(\u001b[33m\"\u001b[39m\u001b[33mCreated new connection using: \u001b[39m\u001b[38;5;132;01m%s\u001b[39;00m\u001b[33m\"\u001b[39m, alias)\n\u001b[32m    286\u001b[39m     \u001b[38;5;28;01mreturn\u001b[39;00m alias\n",
      "\u001b[36mFile \u001b[39m\u001b[32m~/projects/preparing/test/venv/lib/python3.12/site-packages/pymilvus/orm/connections.py:461\u001b[39m, in \u001b[36mConnections.connect\u001b[39m\u001b[34m(self, alias, user, password, db_name, token, _async, **kwargs)\u001b[39m\n\u001b[32m    458\u001b[39m         \u001b[38;5;28;01mif\u001b[39;00m parsed_uri.scheme == \u001b[33m\"\u001b[39m\u001b[33mhttps\u001b[39m\u001b[33m\"\u001b[39m:\n\u001b[32m    459\u001b[39m             kwargs[\u001b[33m\"\u001b[39m\u001b[33msecure\u001b[39m\u001b[33m\"\u001b[39m] = \u001b[38;5;28;01mTrue\u001b[39;00m\n\u001b[32m--> \u001b[39m\u001b[32m461\u001b[39m     \u001b[43mconnect_milvus\u001b[49m\u001b[43m(\u001b[49m\u001b[43m*\u001b[49m\u001b[43m*\u001b[49m\u001b[43mkwargs\u001b[49m\u001b[43m,\u001b[49m\u001b[43m \u001b[49m\u001b[43muser\u001b[49m\u001b[43m=\u001b[49m\u001b[43muser\u001b[49m\u001b[43m,\u001b[49m\u001b[43m \u001b[49m\u001b[43mpassword\u001b[49m\u001b[43m=\u001b[49m\u001b[43mpassword\u001b[49m\u001b[43m,\u001b[49m\u001b[43m \u001b[49m\u001b[43mtoken\u001b[49m\u001b[43m=\u001b[49m\u001b[43mtoken\u001b[49m\u001b[43m,\u001b[49m\u001b[43m \u001b[49m\u001b[43mdb_name\u001b[49m\u001b[43m=\u001b[49m\u001b[43mdb_name\u001b[49m\u001b[43m)\u001b[49m\n\u001b[32m    462\u001b[39m     \u001b[38;5;28;01mreturn\u001b[39;00m\n\u001b[32m    464\u001b[39m \u001b[38;5;66;03m# 2nd Priority, connection configs from env\u001b[39;00m\n",
      "\u001b[36mFile \u001b[39m\u001b[32m~/projects/preparing/test/venv/lib/python3.12/site-packages/pymilvus/orm/connections.py:411\u001b[39m, in \u001b[36mConnections.connect.<locals>.connect_milvus\u001b[39m\u001b[34m(**kwargs)\u001b[39m\n\u001b[32m    408\u001b[39m timeout = t \u001b[38;5;28;01mif\u001b[39;00m \u001b[38;5;28misinstance\u001b[39m(t, (\u001b[38;5;28mint\u001b[39m, \u001b[38;5;28mfloat\u001b[39m)) \u001b[38;5;28;01melse\u001b[39;00m Config.MILVUS_CONN_TIMEOUT\n\u001b[32m    410\u001b[39m \u001b[38;5;28;01mif\u001b[39;00m \u001b[38;5;129;01mnot\u001b[39;00m _async:\n\u001b[32m--> \u001b[39m\u001b[32m411\u001b[39m     \u001b[43mgh\u001b[49m\u001b[43m.\u001b[49m\u001b[43m_wait_for_channel_ready\u001b[49m\u001b[43m(\u001b[49m\u001b[43mtimeout\u001b[49m\u001b[43m=\u001b[49m\u001b[43mtimeout\u001b[49m\u001b[43m)\u001b[49m\n\u001b[32m    413\u001b[39m \u001b[38;5;28;01mif\u001b[39;00m kwargs.get(\u001b[33m\"\u001b[39m\u001b[33mkeep_alive\u001b[39m\u001b[33m\"\u001b[39m, \u001b[38;5;28;01mFalse\u001b[39;00m):\n\u001b[32m    414\u001b[39m     gh.register_state_change_callback(\n\u001b[32m    415\u001b[39m         ReconnectHandler(\u001b[38;5;28mself\u001b[39m, alias, kwargs_copy).reconnect_on_idle\n\u001b[32m    416\u001b[39m     )\n",
      "\u001b[36mFile \u001b[39m\u001b[32m~/projects/preparing/test/venv/lib/python3.12/site-packages/pymilvus/client/grpc_handler.py:159\u001b[39m, in \u001b[36mGrpcHandler._wait_for_channel_ready\u001b[39m\u001b[34m(self, timeout)\u001b[39m\n\u001b[32m    157\u001b[39m \u001b[38;5;28;01mexcept\u001b[39;00m grpc.FutureTimeoutError \u001b[38;5;28;01mas\u001b[39;00m e:\n\u001b[32m    158\u001b[39m     \u001b[38;5;28mself\u001b[39m.close()\n\u001b[32m--> \u001b[39m\u001b[32m159\u001b[39m     \u001b[38;5;28;01mraise\u001b[39;00m MilvusException(\n\u001b[32m    160\u001b[39m         code=Status.CONNECT_FAILED,\n\u001b[32m    161\u001b[39m         message=\u001b[33mf\u001b[39m\u001b[33m\"\u001b[39m\u001b[33mFail connecting to server on \u001b[39m\u001b[38;5;132;01m{\u001b[39;00m\u001b[38;5;28mself\u001b[39m._address\u001b[38;5;132;01m}\u001b[39;00m\u001b[33m, illegal connection params or server unavailable\u001b[39m\u001b[33m\"\u001b[39m,\n\u001b[32m    162\u001b[39m     ) \u001b[38;5;28;01mfrom\u001b[39;00m\u001b[38;5;250m \u001b[39m\u001b[34;01me\u001b[39;00m\n\u001b[32m    163\u001b[39m \u001b[38;5;28;01mexcept\u001b[39;00m \u001b[38;5;167;01mException\u001b[39;00m \u001b[38;5;28;01mas\u001b[39;00m e:\n\u001b[32m    164\u001b[39m     \u001b[38;5;28mself\u001b[39m.close()\n",
      "\u001b[31mMilvusException\u001b[39m: <MilvusException: (code=2, message=Fail connecting to server on localhost:19530, illegal connection params or server unavailable)>"
     ]
    }
   ],
   "source": [
    "# 3. Create the vector store in Milvus\n",
    "from langchain_community.vectorstores import Milvus\n",
    "vectorstore = Milvus.from_documents(\n",
    "    documents=documents,\n",
    "    embedding=embeddings,\n",
    "    connection_args={\"host\": MILVUS_HOST, \"port\": MILVUS_PORT},\n",
    "    collection_name=COLLECTION_NAME,\n",
    ")"
   ]
  },
  {
   "cell_type": "code",
   "execution_count": null,
   "metadata": {},
   "outputs": [
    {
     "name": "stderr",
     "output_type": "stream",
     "text": [
      "/Users/m0k08nh/projects/preparing/test/venv/lib/python3.12/site-packages/google/protobuf/runtime_version.py:98: UserWarning: Protobuf gencode version 5.29.4 is exactly one major version older than the runtime version 6.30.2 at google/protobuf/duration.proto. Please update the gencode to avoid compatibility violations in the next runtime release.\n",
      "  warnings.warn(\n"
     ]
    }
   ],
   "source": [
    "#vector db\n",
    "from langchain_community.vectorstores import Chroma\n",
    "db = Chroma.from_documents(documents,embeddings)\n"
   ]
  },
  {
   "cell_type": "code",
   "execution_count": 34,
   "metadata": {},
   "outputs": [
    {
     "data": {
      "text/plain": [
       "'terrible and disastrous of all wars, civilization itself seeming to be in the balance. But the'"
      ]
     },
     "execution_count": 34,
     "metadata": {},
     "output_type": "execute_result"
    }
   ],
   "source": [
    "#query\n",
    "query = \"history\"\n",
    "result = db.similarity_search(\"history\")\n",
    "result[0].page_content"
   ]
  },
  {
   "cell_type": "code",
   "execution_count": 35,
   "metadata": {},
   "outputs": [
    {
     "data": {
      "text/plain": [
       "'terrible and disastrous of all wars, civilization itself seeming to be in the balance. But the'"
      ]
     },
     "execution_count": 35,
     "metadata": {},
     "output_type": "execute_result"
    }
   ],
   "source": [
    "#FIASS\n",
    "from langchain_community.vectorstores import FAISS\n",
    "db = FAISS.from_documents(documents,embeddings)\n",
    "result = db.similarity_search(\"history\")\n",
    "result[0].page_content"
   ]
  }
 ],
 "metadata": {
  "kernelspec": {
   "display_name": "Python 3",
   "language": "python",
   "name": "python3"
  },
  "language_info": {
   "codemirror_mode": {
    "name": "ipython",
    "version": 3
   },
   "file_extension": ".py",
   "mimetype": "text/x-python",
   "name": "python",
   "nbconvert_exporter": "python",
   "pygments_lexer": "ipython3",
   "version": "3.12.0"
  }
 },
 "nbformat": 4,
 "nbformat_minor": 2
}
